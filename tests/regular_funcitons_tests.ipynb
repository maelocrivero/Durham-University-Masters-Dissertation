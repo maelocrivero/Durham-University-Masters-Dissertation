{
 "cells": [
  {
   "cell_type": "code",
   "execution_count": 1,
   "id": "20ae6fb2-1626-497a-b55f-31030fc0c619",
   "metadata": {},
   "outputs": [],
   "source": [
    "import pandas as pd\n",
    "import time\n",
    "import probabilitylib as pl\n",
    "import random\n",
    "from probabilitylib import ProbabilitySpace\n",
    "import matplotlib.pyplot as plt\n",
    "import numpy as np"
   ]
  },
  {
   "cell_type": "code",
   "execution_count": 2,
   "id": "ae92fac6-44f3-4cc7-9b82-a2e421e23402",
   "metadata": {},
   "outputs": [],
   "source": [
    "def generate_customer_data(num_records):\n",
    "    data = []\n",
    "\n",
    "    def maybe_nan(value):\n",
    "        return value if random.random() > 0.2 else np.nan  \n",
    "\n",
    "    for _ in range(num_records):\n",
    "        age = np.random.randint(18, 80)\n",
    "       \n",
    "        #Income is loosely based on age\n",
    "        base_income = 20000 + (age - 18) * 1000\n",
    "        income = np.random.normal(base_income, base_income * 0.2)\n",
    "       \n",
    "        #Credit score is influenced by age and income\n",
    "        credit_score = min(850, max(300, int(600 + (age/80)*100 + (income/100000)*100 + np.random.normal(0, 50))))\n",
    "       \n",
    "        #Loan amount is based on income and credit score\n",
    "        max_loan = income * (credit_score / 600)\n",
    "        loan_amount = np.random.uniform(0, max_loan)\n",
    "\n",
    "        gender = np.random.choice(['Male', 'Female'])\n",
    "\n",
    "        if age <= 30 and gender == \"Female\":\n",
    "            smoker_prob = 0.1\n",
    "        elif age <= 30 and gender == \"Male\":\n",
    "            smoker_prob = 0.05\n",
    "        elif age in range(31, 50) and gender == \"Female\":\n",
    "            smoker_prob = 0.35\n",
    "        elif age in range(31, 50) and gender == \"Male\":\n",
    "            smoker_prob = 0.25\n",
    "        elif age >= 51 and gender == \"Female\":\n",
    "            smoker_prob = 0.6\n",
    "        else:\n",
    "            smoker_prob = 0.5\n",
    "            \n",
    "        smoker = random.choices([True, False], weights=[smoker_prob, 1 - smoker_prob])[0]\n",
    "\n",
    "        weights = np.random.random()\n",
    "\n",
    "    \n",
    "        row = [\n",
    "            maybe_nan(age),\n",
    "            maybe_nan(income),\n",
    "            maybe_nan(credit_score),\n",
    "            maybe_nan(loan_amount),\n",
    "            maybe_nan(gender),\n",
    "            maybe_nan(smoker),\n",
    "            maybe_nan(weights)\n",
    "        ]\n",
    "        data.append(row)\n",
    "\n",
    "    return pd.DataFrame(data, columns=['Age', 'Income', 'CreditScore', 'LoanAmount', 'Gender', 'Smoker', 'weights'])\n",
    "\n",
    "df = generate_customer_data(500000)"
   ]
  },
  {
   "cell_type": "code",
   "execution_count": 3,
   "id": "1d3a2ba3-9728-4e9a-a747-dea113215de0",
   "metadata": {},
   "outputs": [
    {
     "name": "stdout",
     "output_type": "stream",
     "text": [
      "500000\n",
      "weights column does not sum to 1. Normalisation procedure enabled\n",
      "CSV file 'example.csv' created successfully.\n"
     ]
    }
   ],
   "source": [
    "import csv\n",
    "#df[\"weights\"] = df[\"weights\"]/df[\"weights\"].sum()\n",
    "#print(df[\"weights\"].sum())\n",
    "print(len(df))\n",
    "\n",
    "df[\"GenderNumeric\"] = df[\"Gender\"].map({\"Male\": 0, \"Female\": 1})\n",
    "ps = ProbabilitySpace(df)\n",
    "\n",
    "d = df.to_csv(\"example.csv\", index=False)\n",
    "print(\"CSV file 'example.csv' created successfully.\")\n",
    "times = []\n",
    "var_name = []\n",
    "# Open the file in write mode"
   ]
  },
  {
   "cell_type": "code",
   "execution_count": 4,
   "id": "ded53491-8ea8-435f-9b0c-37c9f9619af2",
   "metadata": {},
   "outputs": [
    {
     "name": "stdout",
     "output_type": "stream",
     "text": [
      "1.8176279067993164\n",
      "[0.5010998374795252, 50498.39848125583, 710.3132125072802, 30610.678308906892, 48.515898824791876]\n"
     ]
    }
   ],
   "source": [
    "results = []\n",
    "iteration_times = []\n",
    "chunk_sizes = []\n",
    "variables = []\n",
    "\n",
    "\n",
    "\n",
    "np.random.seed(42)\n",
    "start_time = time.time()\n",
    "\n",
    "for i in range(100):\n",
    "\n",
    "    var = random.choice([\"Age\", \"Income\", \"CreditScore\", \"LoanAmount\", \"GenderNumeric\"])\n",
    "    variables.append(var)\n",
    "    \n",
    "    res = pl.expected_mean(ps, var)\n",
    "   \n",
    "    results.append(res)\n",
    "\n",
    "end_time = time.time()\n",
    "expected_mean_time = end_time-start_time\n",
    "times.append(expected_mean_time)\n",
    "var_name.append(\"expected_mean\")\n",
    "print(expected_mean_time)\n",
    "res = list(dict.fromkeys(results))\n",
    "print(res)"
   ]
  },
  {
   "cell_type": "code",
   "execution_count": 5,
   "id": "2cf41283-5155-4a50-bf90-b978c6a5c0c2",
   "metadata": {},
   "outputs": [
    {
     "name": "stdout",
     "output_type": "stream",
     "text": [
      "[0.24999879035751865, 4136.075897239323, 586601560.3738276, 435037237.2664962, 319.98067475389416]\n"
     ]
    }
   ],
   "source": [
    "results = []\n",
    "iteration_times = []\n",
    "chunk_sizes = []\n",
    "variables = []\n",
    "\n",
    "np.random.seed(42)\n",
    "start_time = time.time()\n",
    "\n",
    "for i in range(100):\n",
    "\n",
    "    var = random.choice([\"Age\", \"Income\", \"CreditScore\", \"LoanAmount\", \"GenderNumeric\"])\n",
    "    variables.append(var)\n",
    "    res = pl.variance(ps, var)\n",
    "    results.append(res)\n",
    "\n",
    "end_time = time.time()\n",
    "variance_time = (end_time-start_time)\n",
    "times.append(variance_time)\n",
    "var_name.append(\"variance\")\n",
    "res = list(dict.fromkeys(results))\n",
    "print(res)"
   ]
  },
  {
   "cell_type": "code",
   "execution_count": 6,
   "id": "4d9e4f7c-a865-48ad-a553-e4e88dcb0adb",
   "metadata": {},
   "outputs": [
    {
     "name": "stdout",
     "output_type": "stream",
     "text": [
      "[90.0, 31778.092183969886, 31.0, 1.0, 31806.954289482426]\n"
     ]
    }
   ],
   "source": [
    "results = []\n",
    "iteration_times = []\n",
    "variables = []\n",
    "\n",
    "np.random.seed(42)\n",
    "start_time = time.time()\n",
    "\n",
    "for i in range(100):\n",
    "\n",
    "    var = random.choice([\"Age\", \"Income\", \"CreditScore\", \"LoanAmount\", \"GenderNumeric\"])\n",
    "    variables.append(var)\n",
    "    res = pl.IQR(ps, var)[\"IQR\"]\n",
    "    results.append(res)\n",
    "\n",
    "end_time = time.time()\n",
    "IQR_time = (end_time-start_time)\n",
    "times.append(IQR_time)\n",
    "var_name.append(\"IQR\")\n",
    "res = list(dict.fromkeys(results))\n",
    "print(res)"
   ]
  },
  {
   "cell_type": "code",
   "execution_count": 7,
   "id": "18f71e4a-164c-447b-81e7-265de31b6c67",
   "metadata": {},
   "outputs": [
    {
     "name": "stdout",
     "output_type": "stream",
     "text": [
      "[0.056053243673818226, 1.0, 0.2625778885337961, 0.5001530802687116, 0.38461198574494126]\n"
     ]
    }
   ],
   "source": [
    "results = []\n",
    "iteration_times = []\n",
    "variables = []\n",
    "start_time = time.time()\n",
    "\n",
    "for i in range(100):\n",
    "    \n",
    "    x = random.choice([1, 2, 3, 4, 5])    \n",
    "  \n",
    "    if x==1:\n",
    "\n",
    "        res = pl.conditional(\n",
    "            ps,\n",
    "            event_condition = ps.df[\"Smoker\"] == True,\n",
    "            given_condition = ps.df[\"GenderNumeric\"] == 0\n",
    "        )\n",
    "               \n",
    "\n",
    "    if x==2:\n",
    "\n",
    "        res = pl.conditional(\n",
    "            ps,\n",
    "            event_condition = ps.df[\"Smoker\"] == True,\n",
    "            given_condition = ps.df[\"Income\"] > 40000\n",
    "        )\n",
    "               \n",
    "\n",
    "    if x==3:\n",
    "\n",
    "        res = pl.conditional(\n",
    "            ps,\n",
    "            event_condition = ps.df[\"CreditScore\"] < 650,\n",
    "            given_condition = ps.df[\"Income\"] > 40000\n",
    "        )\n",
    "               \n",
    "\n",
    "    if x==4:\n",
    "\n",
    "        res = pl.conditional(\n",
    "            ps,\n",
    "            event_condition = ps.df[\"Age\"] < 65,\n",
    "            given_condition = ps.df[\"Income\"] > 40000\n",
    "        )\n",
    "               \n",
    "        \n",
    "    if x==5:\n",
    "\n",
    "        res = pl.conditional(\n",
    "            ps,\n",
    "            event_condition = ps.df[\"GenderNumeric\"] == 0,\n",
    "            given_condition = ps.df[\"Gender\"] == \"Male\"\n",
    "        )\n",
    "\n",
    "    results.append(res)\n",
    "\n",
    "end_time = time.time()\n",
    "conditional_time = (end_time-start_time)\n",
    "times.append(conditional_time)\n",
    "var_name.append(\"conditional\")\n",
    "res = list(dict.fromkeys(results))\n",
    "print(res)"
   ]
  },
  {
   "cell_type": "code",
   "execution_count": 8,
   "id": "9fab8197-637e-4cc9-b1ab-1b715d00a895",
   "metadata": {},
   "outputs": [
    {
     "name": "stdout",
     "output_type": "stream",
     "text": [
      "[0.15304042399317513, 0.1047818808391352, 0.028698214846870313, 0.25606904459268254, 0.39905066425899316]\n"
     ]
    }
   ],
   "source": [
    "results = []\n",
    "iteration_times = []\n",
    "variables = []\n",
    "start_time = time.time()\n",
    "\n",
    "for i in range(100):\n",
    "    \n",
    "    x = random.choice([1, 2, 3, 4, 5])    \n",
    "  \n",
    "    if x==1:\n",
    "\n",
    "        res = pl.joint_probability(\n",
    "            ps,\n",
    "            condition_A = ps.df[\"Smoker\"] == True,\n",
    "            condition_B = ps.df[\"GenderNumeric\"] == 0,\n",
    "            con=\"dependent\"\n",
    "        )\n",
    "               \n",
    "\n",
    "    if x==2:\n",
    "\n",
    "        res = pl.joint_probability(\n",
    "            ps,\n",
    "            condition_A = ps.df[\"Smoker\"] == True,\n",
    "            condition_B = ps.df[\"Income\"] > 40000,\n",
    "            con=\"independent\"\n",
    "        )\n",
    "               \n",
    "\n",
    "    if x==3:\n",
    "\n",
    "        res = pl.joint_probability(\n",
    "            ps,\n",
    "            condition_A = ps.df[\"CreditScore\"] < 650,\n",
    "            condition_B = ps.df[\"Income\"] > 40000,\n",
    "            con=\"dependent\"\n",
    "        )\n",
    "               \n",
    "\n",
    "    if x==4:\n",
    "\n",
    "        res = pl.joint_probability(\n",
    "            ps,\n",
    "            condition_A = ps.df[\"Age\"] < 65,\n",
    "            condition_B = ps.df[\"Income\"] > 40000,\n",
    "            con=\"dependent\"\n",
    "        )\n",
    "               \n",
    "        \n",
    "    if x==5:\n",
    "\n",
    "        res = pl.joint_probability(\n",
    "            ps,\n",
    "            condition_A = ps.df[\"GenderNumeric\"] == 0,\n",
    "            condition_B = ps.df[\"Gender\"] == \"Male\",\n",
    "            con=\"dependent\"\n",
    "        )\n",
    "\n",
    "    results.append(res)\n",
    "\n",
    "end_time = time.time()\n",
    "joint_probability_time = (end_time-start_time)\n",
    "times.append(joint_probability_time)\n",
    "var_name.append(\"joint_probability\")\n",
    "res = list(dict.fromkeys(results))\n",
    "print(res)"
   ]
  },
  {
   "cell_type": "code",
   "execution_count": 9,
   "id": "75bd848b-924d-490b-ab25-1dd618e10b6e",
   "metadata": {
    "scrolled": true
   },
   "outputs": [
    {
     "name": "stdout",
     "output_type": "stream",
     "text": [
      "iteration 0 complete\n",
      "iteration 1 complete\n",
      "iteration 2 complete\n",
      "iteration 3 complete\n",
      "iteration 4 complete\n",
      "iteration 5 complete\n",
      "iteration 6 complete\n",
      "iteration 7 complete\n",
      "iteration 8 complete\n",
      "iteration 9 complete\n",
      "iteration 10 complete\n",
      "iteration 11 complete\n",
      "iteration 12 complete\n",
      "iteration 13 complete\n",
      "iteration 14 complete\n",
      "iteration 15 complete\n",
      "iteration 16 complete\n",
      "iteration 17 complete\n",
      "iteration 18 complete\n",
      "iteration 19 complete\n",
      "iteration 20 complete\n",
      "iteration 21 complete\n",
      "iteration 22 complete\n",
      "iteration 23 complete\n",
      "iteration 24 complete\n",
      "iteration 25 complete\n",
      "iteration 26 complete\n",
      "iteration 27 complete\n",
      "iteration 28 complete\n",
      "iteration 29 complete\n",
      "iteration 30 complete\n",
      "iteration 31 complete\n",
      "iteration 32 complete\n",
      "iteration 33 complete\n",
      "iteration 34 complete\n",
      "iteration 35 complete\n",
      "iteration 36 complete\n",
      "iteration 37 complete\n",
      "iteration 38 complete\n",
      "iteration 39 complete\n",
      "iteration 40 complete\n",
      "iteration 41 complete\n",
      "iteration 42 complete\n",
      "iteration 43 complete\n",
      "iteration 44 complete\n",
      "iteration 45 complete\n",
      "iteration 46 complete\n",
      "iteration 47 complete\n",
      "iteration 48 complete\n",
      "iteration 49 complete\n",
      "iteration 50 complete\n",
      "iteration 51 complete\n",
      "iteration 52 complete\n",
      "iteration 53 complete\n",
      "iteration 54 complete\n",
      "iteration 55 complete\n",
      "iteration 56 complete\n",
      "iteration 57 complete\n",
      "iteration 58 complete\n",
      "iteration 59 complete\n",
      "iteration 60 complete\n",
      "iteration 61 complete\n",
      "iteration 62 complete\n",
      "iteration 63 complete\n",
      "iteration 64 complete\n",
      "iteration 65 complete\n",
      "iteration 66 complete\n",
      "iteration 67 complete\n",
      "iteration 68 complete\n",
      "iteration 69 complete\n",
      "iteration 70 complete\n",
      "iteration 71 complete\n",
      "iteration 72 complete\n",
      "iteration 73 complete\n",
      "iteration 74 complete\n",
      "iteration 75 complete\n",
      "iteration 76 complete\n",
      "iteration 77 complete\n",
      "iteration 78 complete\n",
      "iteration 79 complete\n",
      "iteration 80 complete\n",
      "iteration 81 complete\n",
      "iteration 82 complete\n",
      "iteration 83 complete\n",
      "iteration 84 complete\n",
      "iteration 85 complete\n",
      "iteration 86 complete\n",
      "iteration 87 complete\n",
      "iteration 88 complete\n",
      "iteration 89 complete\n",
      "iteration 90 complete\n",
      "iteration 91 complete\n",
      "iteration 92 complete\n",
      "iteration 93 complete\n",
      "iteration 94 complete\n",
      "iteration 95 complete\n",
      "iteration 96 complete\n",
      "iteration 97 complete\n",
      "iteration 98 complete\n",
      "iteration 99 complete\n"
     ]
    }
   ],
   "source": [
    "results = []\n",
    "iteration_times = []\n",
    "variables = []\n",
    "\n",
    "start_time = time.time()\n",
    "\n",
    "for i in range(100):\n",
    "\n",
    "    var = random.choice([\"Age\", \"Income\", \"CreditScore\", \"LoanAmount\"])\n",
    "    variables.append(var)\n",
    "    res = pl.PDF_or_PMF(ps, var, var_type=\"continuous\", plot=False)\n",
    "    results.append(res)\n",
    "    print(f\"iteration {i} complete\")\n",
    "\n",
    "end_time = time.time()\n",
    "PDF_time = (end_time-start_time)\n",
    "times.append(PDF_time)\n",
    "var_name.append(\"PDF_or_PMF (continuous)\")"
   ]
  },
  {
   "cell_type": "code",
   "execution_count": 10,
   "id": "b82fc04d-a072-4e00-aeb2-c2ba905bcdce",
   "metadata": {},
   "outputs": [
    {
     "name": "stdout",
     "output_type": "stream",
     "text": [
      "[0.96307680246262, 0.9403974282047391, 0.7718103892852382, 0.825389781328852]\n"
     ]
    }
   ],
   "source": [
    "x_vals, pdf_vals = pl.PDF_or_PMF(ps, \"Income\", var_type=\"continuous\", plot=False)\n",
    "area_Income = np.trapz(pdf_vals, x_vals)\n",
    "\n",
    "x_vals, pdf_vals = pl.PDF_or_PMF(ps, \"CreditScore\", var_type=\"continuous\", plot=False)\n",
    "area_CreditScore = np.trapz(pdf_vals, x_vals)\n",
    "\n",
    "x_vals, pdf_vals = pl.PDF_or_PMF(ps, \"Age\", var_type=\"continuous\", plot=False)\n",
    "area_Age = np.trapz(pdf_vals, x_vals)\n",
    "\n",
    "x_vals, pdf_vals = pl.PDF_or_PMF(ps, \"LoanAmount\", var_type=\"continuous\", plot=False)\n",
    "area_LoanAmount = np.trapz(pdf_vals, x_vals)\n",
    "\n",
    "print([area_Income, area_CreditScore, area_Age, area_LoanAmount])"
   ]
  },
  {
   "cell_type": "code",
   "execution_count": 11,
   "id": "2e9f5421-d33b-4b10-86e6-00c0a89acb3f",
   "metadata": {},
   "outputs": [
    {
     "name": "stdout",
     "output_type": "stream",
     "text": [
      "[1.0, 1.0000000000000002, 0.9999999999999999]\n"
     ]
    }
   ],
   "source": [
    "results = []\n",
    "res_PMF = []\n",
    "iteration_times = []\n",
    "variables = []\n",
    "\n",
    "np.random.seed(42)\n",
    "start_time = time.time()\n",
    "\n",
    "for i in range(100):\n",
    "    iter_start = time.time()\n",
    "\n",
    "    var = random.choice([\"Age\", \"Income\", \"CreditScore\", \"LoanAmount\"])\n",
    "    variables.append(var)\n",
    "    res = pl.PDF_or_PMF(ps, var, var_type=\"discrete\", plot=False)\n",
    "    results.append(res)\n",
    "    \n",
    "    iter_end = time.time()\n",
    "    iteration_times.append(iter_end - iter_start)\n",
    "\n",
    "end_time = time.time()\n",
    "PMF_time = (end_time-start_time)\n",
    "times.append(PMF_time)\n",
    "var_name.append(\"PDF_or_PMF (discrete)\")\n",
    "\n",
    "#check that all PDFs sum to 1\n",
    "for res in results:\n",
    "    res_PMF.append(res.sum())\n",
    "res = list(dict.fromkeys(res_PMF))\n",
    "print(res)"
   ]
  },
  {
   "cell_type": "code",
   "execution_count": 12,
   "id": "102efe77-a2af-44ca-add6-318590cbbbaa",
   "metadata": {},
   "outputs": [
    {
     "name": "stdout",
     "output_type": "stream",
     "text": [
      "[0.9999999999999999, 0.9999999999999933, 0.9999999999999909, 0.9999999999999996]\n"
     ]
    }
   ],
   "source": [
    "results = []\n",
    "res_EDF = []\n",
    "iteration_times = []\n",
    "variables = []\n",
    "start_time = time.time()\n",
    "\n",
    "for i in range(100):\n",
    "    iter_start = time.time()\n",
    "\n",
    "    var = random.choice([\"Age\", \"Income\", \"CreditScore\", \"LoanAmount\"])\n",
    "    variables.append(var)\n",
    "    res, cdf = pl.EDF_or_CDF(ps, var, var_type=\"discrete\", plot=False)\n",
    "    results.append(cdf)\n",
    "    \n",
    "    iter_end = time.time()\n",
    "    iteration_times.append(iter_end - iter_start)\n",
    "\n",
    "end_time = time.time()\n",
    "EDF_time = (end_time-start_time)\n",
    "times.append(EDF_time)\n",
    "var_name.append(\"EDF_or_CDF (discrete)\")\n",
    "\n",
    "#check that EDF's last value is 1\n",
    "for cdf in results:\n",
    "    res_EDF.append(cdf[-1])\n",
    "res = list(dict.fromkeys(res_EDF))\n",
    "print(res)"
   ]
  },
  {
   "cell_type": "code",
   "execution_count": 13,
   "id": "79bd05b2-fe5f-44bd-81f8-3370c90f5ef8",
   "metadata": {},
   "outputs": [
    {
     "name": "stdout",
     "output_type": "stream",
     "text": [
      "[0.9999999999999999, 0.9999999999999933, 0.9999999999999909, 0.9999999999999996]\n"
     ]
    }
   ],
   "source": [
    "results = []\n",
    "res_CDF = []\n",
    "iteration_times = []\n",
    "variables = []\n",
    "start_time = time.time()\n",
    "\n",
    "for i in range(100):\n",
    "\n",
    "    var = random.choice([\"Age\", \"Income\", \"CreditScore\", \"LoanAmount\"])\n",
    "    variables.append(var)\n",
    "    res, cdf = pl.EDF_or_CDF(ps, var, var_type=\"continuous\", plot=False)\n",
    "    results.append(cdf)\n",
    "\n",
    "\n",
    "end_time = time.time()\n",
    "CDF_time = (end_time-start_time)\n",
    "times.append(CDF_time)\n",
    "var_name.append(\"EDF_or_CDF (continuous)\")\n",
    "\n",
    "#check that EDF's last value is 1\n",
    "for cdf in results:\n",
    "    res_CDF.append(cdf[-1])\n",
    "res = list(dict.fromkeys(res_EDF))\n",
    "print(res)"
   ]
  },
  {
   "cell_type": "code",
   "execution_count": 14,
   "id": "dfdae6b1-1607-428f-9215-ca949d53be5c",
   "metadata": {},
   "outputs": [
    {
     "name": "stdout",
     "output_type": "stream",
     "text": [
      "Gender/Smoker: 0.025656347103944998\n",
      "Gender/Age: 0.9999854125705314\n",
      "Gender/GenderNumeric: 4.2748978646313095e-175\n",
      "Income/Age: 8.49541055811593e-131\n",
      "LoanAmount/Smoker: 9.55757775265241e-05\n"
     ]
    }
   ],
   "source": [
    "res = pl.independence(ps, \"Gender\", \"Smoker\")\n",
    "print(f\"Gender/Smoker: {res[\"p_value\"]}\")\n",
    "\n",
    "bin_boundaries = pl.bin_continuous_columns(ps, [\"Age\"], return_edges=True)\n",
    "res = pl.independence(ps, \"Gender\", \"Age\", bin_boundaries=bin_boundaries)\n",
    "print(f\"Gender/Age: {res[\"p_value\"]}\")\n",
    "\n",
    "res = pl.independence(ps, \"Gender\", \"GenderNumeric\")\n",
    "print(f\"Gender/GenderNumeric: {res[\"p_value\"]}\")\n",
    "\n",
    "bin_boundaries = pl.bin_continuous_columns(ps, [\"Income\", \"Age\"], return_edges=True)\n",
    "res = pl.independence(ps, \"Income\", \"Age\", bin_boundaries=bin_boundaries)\n",
    "print(f\"Income/Age: {res[\"p_value\"]}\")\n",
    "\n",
    "bin_boundaries = pl.bin_continuous_columns(ps, [\"LoanAmount\"], return_edges=True)\n",
    "res = pl.independence(ps, \"LoanAmount\", \"Smoker\", bin_boundaries=bin_boundaries)\n",
    "print(f\"LoanAmount/Smoker: {res[\"p_value\"]}\")"
   ]
  },
  {
   "cell_type": "code",
   "execution_count": 15,
   "id": "5663e755-775a-4449-ac09-98eeb0f61c28",
   "metadata": {},
   "outputs": [],
   "source": [
    "bin_boundaries = pl.bin_continuous_columns(ps, [\"Age\"], return_edges=True)\n",
    "\n",
    "start_time = time.time()\n",
    "\n",
    "for i in range(100):\n",
    "    res = pl.independence(ps, \"Age\", \"Smoker\", bin_boundaries=bin_boundaries)\n",
    "\n",
    "end_time = time.time()\n",
    "independence_time = (end_time-start_time)\n",
    "times.append(independence_time)\n",
    "var_name.append(\"independence\")"
   ]
  },
  {
   "cell_type": "code",
   "execution_count": 16,
   "id": "d8e19194-6617-4d8a-9201-88f44031700f",
   "metadata": {},
   "outputs": [
    {
     "name": "stdout",
     "output_type": "stream",
     "text": [
      "Gender/Smoker: 0.006037841063921842\n",
      "Gender/Age: 1.2210894932856615e-05\n",
      "Gender/GenderNumeric: 0.9999965097067671\n",
      "Income/Age: 0.7803546340464051\n",
      "LoanAmount/Smoker: 0.02367910168991419\n"
     ]
    }
   ],
   "source": [
    "res = pl.mutual_information(ps, \"Gender\", \"Smoker\")\n",
    "print(f\"Gender/Smoker: {res}\")\n",
    "\n",
    "bin_boundaries = pl.bin_continuous_columns(ps, [\"Age\"], return_edges=True)\n",
    "res = pl.mutual_information(ps, \"Gender\", \"Age\", bin_boundaries=bin_boundaries)\n",
    "print(f\"Gender/Age: {res}\")\n",
    "\n",
    "res = pl.mutual_information(ps, \"Gender\", \"GenderNumeric\")\n",
    "print(f\"Gender/GenderNumeric: {res}\")\n",
    "\n",
    "bin_boundaries = pl.bin_continuous_columns(ps, [\"Income\", \"Age\"], return_edges=True)\n",
    "res = pl.mutual_information(ps, \"Income\", \"Age\", bin_boundaries=bin_boundaries)\n",
    "print(f\"Income/Age: {res}\")\n",
    "\n",
    "bin_boundaries = pl.bin_continuous_columns(ps, [\"LoanAmount\"], return_edges=True)\n",
    "res = pl.mutual_information(ps, \"LoanAmount\", \"Smoker\", bin_boundaries=bin_boundaries)\n",
    "print(f\"LoanAmount/Smoker: {res}\")"
   ]
  },
  {
   "cell_type": "code",
   "execution_count": 37,
   "id": "583dd9a9-9c41-4a8b-8c30-0505162eeca9",
   "metadata": {},
   "outputs": [],
   "source": [
    "bin_boundaries = pl.bin_continuous_columns(ps, [\"Age\"], return_edges=True)\n",
    "\n",
    "start_time = time.time()\n",
    "\n",
    "for i in range(100):\n",
    "    res = pl.mutual_information(ps, \"Age\", \"Smoker\", bin_boundaries=bin_boundaries)\n",
    "\n",
    "end_time = time.time()\n",
    "mutual_information_time = (end_time-start_time)\n",
    "times.append(mutual_information_time)\n",
    "var_name.append(\"mutual_information\")"
   ]
  },
  {
   "cell_type": "code",
   "execution_count": 47,
   "id": "a2c5e38a-b555-4cf0-9f30-36960f552722",
   "metadata": {
    "scrolled": true
   },
   "outputs": [
    {
     "name": "stderr",
     "output_type": "stream",
     "text": [
      "INFO:pgmpy: Datatype (N=numerical, C=Categorical Unordered, O=Categorical Ordered) inferred from data: \n",
      " {'Age': 'N', 'Income': 'N', 'CreditScore': 'N', 'LoanAmount': 'N', 'Gender': 'C', 'Smoker': 'C', 'GenderNumeric': 'N'}\n",
      "INFO:pgmpy: Datatype (N=numerical, C=Categorical Unordered, O=Categorical Ordered) inferred from data: \n",
      " {'Age': 'N', 'Income': 'N', 'CreditScore': 'N', 'LoanAmount': 'N', 'Gender': 'C', 'Smoker': 'C', 'GenderNumeric': 'N'}\n",
      "INFO:pgmpy: Datatype (N=numerical, C=Categorical Unordered, O=Categorical Ordered) inferred from data: \n",
      " {'Age': 'N', 'Income': 'N', 'CreditScore': 'N', 'LoanAmount': 'N', 'Gender': 'C', 'Smoker': 'C', 'GenderNumeric': 'N'}\n"
     ]
    },
    {
     "data": {
      "application/vnd.jupyter.widget-view+json": {
       "model_id": "9dcc58e35a2f4017b53cc6bcd0f216f5",
       "version_major": 2,
       "version_minor": 0
      },
      "text/plain": [
       "  0%|          | 0/1000000 [00:00<?, ?it/s]"
      ]
     },
     "metadata": {},
     "output_type": "display_data"
    },
    {
     "name": "stderr",
     "output_type": "stream",
     "text": [
      "INFO:pgmpy: Datatype (N=numerical, C=Categorical Unordered, O=Categorical Ordered) inferred from data: \n",
      " {'Age': 'N', 'Income': 'N', 'CreditScore': 'N', 'LoanAmount': 'N', 'Gender': 'C', 'Smoker': 'C', 'GenderNumeric': 'N'}\n",
      "INFO:pgmpy: Datatype (N=numerical, C=Categorical Unordered, O=Categorical Ordered) inferred from data: \n",
      " {'Age': 'N', 'Income': 'N', 'CreditScore': 'N', 'LoanAmount': 'N', 'Gender': 'C', 'Smoker': 'C', 'GenderNumeric': 'N'}\n",
      "INFO:pgmpy: Datatype (N=numerical, C=Categorical Unordered, O=Categorical Ordered) inferred from data: \n",
      " {'Age': 'N', 'Income': 'N', 'CreditScore': 'N', 'LoanAmount': 'N', 'Gender': 'C', 'Smoker': 'C', 'GenderNumeric': 'N'}\n",
      "INFO:pgmpy: Datatype (N=numerical, C=Categorical Unordered, O=Categorical Ordered) inferred from data: \n",
      " {'Age': 'N', 'Income': 'N', 'CreditScore': 'N', 'LoanAmount': 'N', 'Gender': 'C', 'Smoker': 'C', 'GenderNumeric': 'N'}\n"
     ]
    },
    {
     "data": {
      "application/vnd.jupyter.widget-view+json": {
       "model_id": "73640fc7f298499e913f3975d94513d3",
       "version_major": 2,
       "version_minor": 0
      },
      "text/plain": [
       "  0%|          | 0/1000000 [00:00<?, ?it/s]"
      ]
     },
     "metadata": {},
     "output_type": "display_data"
    },
    {
     "name": "stderr",
     "output_type": "stream",
     "text": [
      "INFO:pgmpy: Datatype (N=numerical, C=Categorical Unordered, O=Categorical Ordered) inferred from data: \n",
      " {'Age': 'N', 'Income': 'N', 'CreditScore': 'N', 'LoanAmount': 'N', 'Gender': 'C', 'Smoker': 'C', 'GenderNumeric': 'N'}\n",
      "INFO:pgmpy: Datatype (N=numerical, C=Categorical Unordered, O=Categorical Ordered) inferred from data: \n",
      " {'Age': 'N', 'Income': 'N', 'CreditScore': 'N', 'LoanAmount': 'N', 'Gender': 'C', 'Smoker': 'C', 'GenderNumeric': 'N'}\n",
      "INFO:pgmpy: Datatype (N=numerical, C=Categorical Unordered, O=Categorical Ordered) inferred from data: \n",
      " {'Age': 'N', 'Income': 'N', 'CreditScore': 'N', 'LoanAmount': 'N', 'Gender': 'C', 'Smoker': 'C', 'GenderNumeric': 'N'}\n",
      "INFO:pgmpy: Datatype (N=numerical, C=Categorical Unordered, O=Categorical Ordered) inferred from data: \n",
      " {'Age': 'N', 'Income': 'N', 'CreditScore': 'N', 'LoanAmount': 'N', 'Gender': 'C', 'Smoker': 'C', 'GenderNumeric': 'N'}\n"
     ]
    },
    {
     "data": {
      "application/vnd.jupyter.widget-view+json": {
       "model_id": "92025d6ae4c446b2b72a0b52f5a4f84c",
       "version_major": 2,
       "version_minor": 0
      },
      "text/plain": [
       "  0%|          | 0/1000000 [00:00<?, ?it/s]"
      ]
     },
     "metadata": {},
     "output_type": "display_data"
    },
    {
     "name": "stderr",
     "output_type": "stream",
     "text": [
      "INFO:pgmpy: Datatype (N=numerical, C=Categorical Unordered, O=Categorical Ordered) inferred from data: \n",
      " {'Age': 'N', 'Income': 'N', 'CreditScore': 'N', 'LoanAmount': 'N', 'Gender': 'C', 'Smoker': 'C', 'GenderNumeric': 'N'}\n",
      "INFO:pgmpy: Datatype (N=numerical, C=Categorical Unordered, O=Categorical Ordered) inferred from data: \n",
      " {'Age': 'N', 'Income': 'N', 'CreditScore': 'N', 'LoanAmount': 'N', 'Gender': 'C', 'Smoker': 'C', 'GenderNumeric': 'N'}\n",
      "INFO:pgmpy: Datatype (N=numerical, C=Categorical Unordered, O=Categorical Ordered) inferred from data: \n",
      " {'Age': 'N', 'Income': 'N', 'CreditScore': 'N', 'LoanAmount': 'N', 'Gender': 'C', 'Smoker': 'C', 'GenderNumeric': 'N'}\n",
      "INFO:pgmpy: Datatype (N=numerical, C=Categorical Unordered, O=Categorical Ordered) inferred from data: \n",
      " {'Age': 'N', 'Income': 'N', 'CreditScore': 'N', 'LoanAmount': 'N', 'Gender': 'C', 'Smoker': 'C', 'GenderNumeric': 'N'}\n"
     ]
    },
    {
     "data": {
      "application/vnd.jupyter.widget-view+json": {
       "model_id": "b2afa66799d3459caba5000bb36eb103",
       "version_major": 2,
       "version_minor": 0
      },
      "text/plain": [
       "  0%|          | 0/1000000 [00:00<?, ?it/s]"
      ]
     },
     "metadata": {},
     "output_type": "display_data"
    },
    {
     "name": "stderr",
     "output_type": "stream",
     "text": [
      "INFO:pgmpy: Datatype (N=numerical, C=Categorical Unordered, O=Categorical Ordered) inferred from data: \n",
      " {'Age': 'N', 'Income': 'N', 'CreditScore': 'N', 'LoanAmount': 'N', 'Gender': 'C', 'Smoker': 'C', 'GenderNumeric': 'N'}\n",
      "INFO:pgmpy: Datatype (N=numerical, C=Categorical Unordered, O=Categorical Ordered) inferred from data: \n",
      " {'Age': 'N', 'Income': 'N', 'CreditScore': 'N', 'LoanAmount': 'N', 'Gender': 'C', 'Smoker': 'C', 'GenderNumeric': 'N'}\n",
      "INFO:pgmpy: Datatype (N=numerical, C=Categorical Unordered, O=Categorical Ordered) inferred from data: \n",
      " {'Age': 'N', 'Income': 'N', 'CreditScore': 'N', 'LoanAmount': 'N', 'Gender': 'C', 'Smoker': 'C', 'GenderNumeric': 'N'}\n",
      "INFO:pgmpy: Datatype (N=numerical, C=Categorical Unordered, O=Categorical Ordered) inferred from data: \n",
      " {'Age': 'N', 'Income': 'N', 'CreditScore': 'N', 'LoanAmount': 'N', 'Gender': 'C', 'Smoker': 'C', 'GenderNumeric': 'N'}\n"
     ]
    },
    {
     "data": {
      "application/vnd.jupyter.widget-view+json": {
       "model_id": "286bf07ce4b141259f008ac5f07f07ac",
       "version_major": 2,
       "version_minor": 0
      },
      "text/plain": [
       "  0%|          | 0/1000000 [00:00<?, ?it/s]"
      ]
     },
     "metadata": {},
     "output_type": "display_data"
    },
    {
     "name": "stderr",
     "output_type": "stream",
     "text": [
      "INFO:pgmpy: Datatype (N=numerical, C=Categorical Unordered, O=Categorical Ordered) inferred from data: \n",
      " {'Age': 'N', 'Income': 'N', 'CreditScore': 'N', 'LoanAmount': 'N', 'Gender': 'C', 'Smoker': 'C', 'GenderNumeric': 'N'}\n",
      "INFO:pgmpy: Datatype (N=numerical, C=Categorical Unordered, O=Categorical Ordered) inferred from data: \n",
      " {'Age': 'N', 'Income': 'N', 'CreditScore': 'N', 'LoanAmount': 'N', 'Gender': 'C', 'Smoker': 'C', 'GenderNumeric': 'N'}\n",
      "INFO:pgmpy: Datatype (N=numerical, C=Categorical Unordered, O=Categorical Ordered) inferred from data: \n",
      " {'Age': 'N', 'Income': 'N', 'CreditScore': 'N', 'LoanAmount': 'N', 'Gender': 'C', 'Smoker': 'C', 'GenderNumeric': 'N'}\n",
      "INFO:pgmpy: Datatype (N=numerical, C=Categorical Unordered, O=Categorical Ordered) inferred from data: \n",
      " {'Age': 'N', 'Income': 'N', 'CreditScore': 'N', 'LoanAmount': 'N', 'Gender': 'C', 'Smoker': 'C', 'GenderNumeric': 'N'}\n"
     ]
    },
    {
     "data": {
      "application/vnd.jupyter.widget-view+json": {
       "model_id": "4f99beab4b8747b39af949a58a848609",
       "version_major": 2,
       "version_minor": 0
      },
      "text/plain": [
       "  0%|          | 0/1000000 [00:00<?, ?it/s]"
      ]
     },
     "metadata": {},
     "output_type": "display_data"
    },
    {
     "name": "stderr",
     "output_type": "stream",
     "text": [
      "INFO:pgmpy: Datatype (N=numerical, C=Categorical Unordered, O=Categorical Ordered) inferred from data: \n",
      " {'Age': 'N', 'Income': 'N', 'CreditScore': 'N', 'LoanAmount': 'N', 'Gender': 'C', 'Smoker': 'C', 'GenderNumeric': 'N'}\n",
      "INFO:pgmpy: Datatype (N=numerical, C=Categorical Unordered, O=Categorical Ordered) inferred from data: \n",
      " {'Age': 'N', 'Income': 'N', 'CreditScore': 'N', 'LoanAmount': 'N', 'Gender': 'C', 'Smoker': 'C', 'GenderNumeric': 'N'}\n",
      "INFO:pgmpy: Datatype (N=numerical, C=Categorical Unordered, O=Categorical Ordered) inferred from data: \n",
      " {'Age': 'N', 'Income': 'N', 'CreditScore': 'N', 'LoanAmount': 'N', 'Gender': 'C', 'Smoker': 'C', 'GenderNumeric': 'N'}\n",
      "INFO:pgmpy: Datatype (N=numerical, C=Categorical Unordered, O=Categorical Ordered) inferred from data: \n",
      " {'Age': 'N', 'Income': 'N', 'CreditScore': 'N', 'LoanAmount': 'N', 'Gender': 'C', 'Smoker': 'C', 'GenderNumeric': 'N'}\n"
     ]
    },
    {
     "data": {
      "application/vnd.jupyter.widget-view+json": {
       "model_id": "265e4ef3acb644b3ae29870e60c6d456",
       "version_major": 2,
       "version_minor": 0
      },
      "text/plain": [
       "  0%|          | 0/1000000 [00:00<?, ?it/s]"
      ]
     },
     "metadata": {},
     "output_type": "display_data"
    },
    {
     "name": "stderr",
     "output_type": "stream",
     "text": [
      "INFO:pgmpy: Datatype (N=numerical, C=Categorical Unordered, O=Categorical Ordered) inferred from data: \n",
      " {'Age': 'N', 'Income': 'N', 'CreditScore': 'N', 'LoanAmount': 'N', 'Gender': 'C', 'Smoker': 'C', 'GenderNumeric': 'N'}\n",
      "INFO:pgmpy: Datatype (N=numerical, C=Categorical Unordered, O=Categorical Ordered) inferred from data: \n",
      " {'Age': 'N', 'Income': 'N', 'CreditScore': 'N', 'LoanAmount': 'N', 'Gender': 'C', 'Smoker': 'C', 'GenderNumeric': 'N'}\n",
      "INFO:pgmpy: Datatype (N=numerical, C=Categorical Unordered, O=Categorical Ordered) inferred from data: \n",
      " {'Age': 'N', 'Income': 'N', 'CreditScore': 'N', 'LoanAmount': 'N', 'Gender': 'C', 'Smoker': 'C', 'GenderNumeric': 'N'}\n",
      "INFO:pgmpy: Datatype (N=numerical, C=Categorical Unordered, O=Categorical Ordered) inferred from data: \n",
      " {'Age': 'N', 'Income': 'N', 'CreditScore': 'N', 'LoanAmount': 'N', 'Gender': 'C', 'Smoker': 'C', 'GenderNumeric': 'N'}\n"
     ]
    },
    {
     "data": {
      "application/vnd.jupyter.widget-view+json": {
       "model_id": "d10b816a7ef54b4394bd15a7e0287bbf",
       "version_major": 2,
       "version_minor": 0
      },
      "text/plain": [
       "  0%|          | 0/1000000 [00:00<?, ?it/s]"
      ]
     },
     "metadata": {},
     "output_type": "display_data"
    },
    {
     "name": "stderr",
     "output_type": "stream",
     "text": [
      "INFO:pgmpy: Datatype (N=numerical, C=Categorical Unordered, O=Categorical Ordered) inferred from data: \n",
      " {'Age': 'N', 'Income': 'N', 'CreditScore': 'N', 'LoanAmount': 'N', 'Gender': 'C', 'Smoker': 'C', 'GenderNumeric': 'N'}\n",
      "INFO:pgmpy: Datatype (N=numerical, C=Categorical Unordered, O=Categorical Ordered) inferred from data: \n",
      " {'Age': 'N', 'Income': 'N', 'CreditScore': 'N', 'LoanAmount': 'N', 'Gender': 'C', 'Smoker': 'C', 'GenderNumeric': 'N'}\n",
      "INFO:pgmpy: Datatype (N=numerical, C=Categorical Unordered, O=Categorical Ordered) inferred from data: \n",
      " {'Age': 'N', 'Income': 'N', 'CreditScore': 'N', 'LoanAmount': 'N', 'Gender': 'C', 'Smoker': 'C', 'GenderNumeric': 'N'}\n",
      "INFO:pgmpy: Datatype (N=numerical, C=Categorical Unordered, O=Categorical Ordered) inferred from data: \n",
      " {'Age': 'N', 'Income': 'N', 'CreditScore': 'N', 'LoanAmount': 'N', 'Gender': 'C', 'Smoker': 'C', 'GenderNumeric': 'N'}\n"
     ]
    },
    {
     "data": {
      "application/vnd.jupyter.widget-view+json": {
       "model_id": "8c3b272b94db4e82ab089d7fb8e397a6",
       "version_major": 2,
       "version_minor": 0
      },
      "text/plain": [
       "  0%|          | 0/1000000 [00:00<?, ?it/s]"
      ]
     },
     "metadata": {},
     "output_type": "display_data"
    },
    {
     "name": "stderr",
     "output_type": "stream",
     "text": [
      "INFO:pgmpy: Datatype (N=numerical, C=Categorical Unordered, O=Categorical Ordered) inferred from data: \n",
      " {'Age': 'N', 'Income': 'N', 'CreditScore': 'N', 'LoanAmount': 'N', 'Gender': 'C', 'Smoker': 'C', 'GenderNumeric': 'N'}\n",
      "INFO:pgmpy: Datatype (N=numerical, C=Categorical Unordered, O=Categorical Ordered) inferred from data: \n",
      " {'Age': 'N', 'Income': 'N', 'CreditScore': 'N', 'LoanAmount': 'N', 'Gender': 'C', 'Smoker': 'C', 'GenderNumeric': 'N'}\n",
      "INFO:pgmpy: Datatype (N=numerical, C=Categorical Unordered, O=Categorical Ordered) inferred from data: \n",
      " {'Age': 'N', 'Income': 'N', 'CreditScore': 'N', 'LoanAmount': 'N', 'Gender': 'C', 'Smoker': 'C', 'GenderNumeric': 'N'}\n",
      "INFO:pgmpy: Datatype (N=numerical, C=Categorical Unordered, O=Categorical Ordered) inferred from data: \n",
      " {'Age': 'N', 'Income': 'N', 'CreditScore': 'N', 'LoanAmount': 'N', 'Gender': 'C', 'Smoker': 'C', 'GenderNumeric': 'N'}\n"
     ]
    },
    {
     "data": {
      "application/vnd.jupyter.widget-view+json": {
       "model_id": "a9c2b795549047e6911a14371182310e",
       "version_major": 2,
       "version_minor": 0
      },
      "text/plain": [
       "  0%|          | 0/1000000 [00:00<?, ?it/s]"
      ]
     },
     "metadata": {},
     "output_type": "display_data"
    },
    {
     "name": "stderr",
     "output_type": "stream",
     "text": [
      "INFO:pgmpy: Datatype (N=numerical, C=Categorical Unordered, O=Categorical Ordered) inferred from data: \n",
      " {'Age': 'N', 'Income': 'N', 'CreditScore': 'N', 'LoanAmount': 'N', 'Gender': 'C', 'Smoker': 'C', 'GenderNumeric': 'N'}\n",
      "INFO:pgmpy: Datatype (N=numerical, C=Categorical Unordered, O=Categorical Ordered) inferred from data: \n",
      " {'Age': 'N', 'Income': 'N', 'CreditScore': 'N', 'LoanAmount': 'N', 'Gender': 'C', 'Smoker': 'C', 'GenderNumeric': 'N'}\n",
      "INFO:pgmpy: Datatype (N=numerical, C=Categorical Unordered, O=Categorical Ordered) inferred from data: \n",
      " {'Age': 'N', 'Income': 'N', 'CreditScore': 'N', 'LoanAmount': 'N', 'Gender': 'C', 'Smoker': 'C', 'GenderNumeric': 'N'}\n",
      "INFO:pgmpy: Datatype (N=numerical, C=Categorical Unordered, O=Categorical Ordered) inferred from data: \n",
      " {'Age': 'N', 'Income': 'N', 'CreditScore': 'N', 'LoanAmount': 'N', 'Gender': 'C', 'Smoker': 'C', 'GenderNumeric': 'N'}\n"
     ]
    },
    {
     "data": {
      "application/vnd.jupyter.widget-view+json": {
       "model_id": "1f46cc49329a4438926120fccbd150db",
       "version_major": 2,
       "version_minor": 0
      },
      "text/plain": [
       "  0%|          | 0/1000000 [00:00<?, ?it/s]"
      ]
     },
     "metadata": {},
     "output_type": "display_data"
    },
    {
     "name": "stderr",
     "output_type": "stream",
     "text": [
      "INFO:pgmpy: Datatype (N=numerical, C=Categorical Unordered, O=Categorical Ordered) inferred from data: \n",
      " {'Age': 'N', 'Income': 'N', 'CreditScore': 'N', 'LoanAmount': 'N', 'Gender': 'C', 'Smoker': 'C', 'GenderNumeric': 'N'}\n",
      "INFO:pgmpy: Datatype (N=numerical, C=Categorical Unordered, O=Categorical Ordered) inferred from data: \n",
      " {'Age': 'N', 'Income': 'N', 'CreditScore': 'N', 'LoanAmount': 'N', 'Gender': 'C', 'Smoker': 'C', 'GenderNumeric': 'N'}\n",
      "INFO:pgmpy: Datatype (N=numerical, C=Categorical Unordered, O=Categorical Ordered) inferred from data: \n",
      " {'Age': 'N', 'Income': 'N', 'CreditScore': 'N', 'LoanAmount': 'N', 'Gender': 'C', 'Smoker': 'C', 'GenderNumeric': 'N'}\n",
      "INFO:pgmpy: Datatype (N=numerical, C=Categorical Unordered, O=Categorical Ordered) inferred from data: \n",
      " {'Age': 'N', 'Income': 'N', 'CreditScore': 'N', 'LoanAmount': 'N', 'Gender': 'C', 'Smoker': 'C', 'GenderNumeric': 'N'}\n"
     ]
    },
    {
     "data": {
      "application/vnd.jupyter.widget-view+json": {
       "model_id": "c1af850232824df2994a9c36b0e84d3c",
       "version_major": 2,
       "version_minor": 0
      },
      "text/plain": [
       "  0%|          | 0/1000000 [00:00<?, ?it/s]"
      ]
     },
     "metadata": {},
     "output_type": "display_data"
    },
    {
     "name": "stderr",
     "output_type": "stream",
     "text": [
      "INFO:pgmpy: Datatype (N=numerical, C=Categorical Unordered, O=Categorical Ordered) inferred from data: \n",
      " {'Age': 'N', 'Income': 'N', 'CreditScore': 'N', 'LoanAmount': 'N', 'Gender': 'C', 'Smoker': 'C', 'GenderNumeric': 'N'}\n",
      "INFO:pgmpy: Datatype (N=numerical, C=Categorical Unordered, O=Categorical Ordered) inferred from data: \n",
      " {'Age': 'N', 'Income': 'N', 'CreditScore': 'N', 'LoanAmount': 'N', 'Gender': 'C', 'Smoker': 'C', 'GenderNumeric': 'N'}\n",
      "INFO:pgmpy: Datatype (N=numerical, C=Categorical Unordered, O=Categorical Ordered) inferred from data: \n",
      " {'Age': 'N', 'Income': 'N', 'CreditScore': 'N', 'LoanAmount': 'N', 'Gender': 'C', 'Smoker': 'C', 'GenderNumeric': 'N'}\n",
      "INFO:pgmpy: Datatype (N=numerical, C=Categorical Unordered, O=Categorical Ordered) inferred from data: \n",
      " {'Age': 'N', 'Income': 'N', 'CreditScore': 'N', 'LoanAmount': 'N', 'Gender': 'C', 'Smoker': 'C', 'GenderNumeric': 'N'}\n"
     ]
    },
    {
     "data": {
      "application/vnd.jupyter.widget-view+json": {
       "model_id": "cf1dafb7292b4706b7834a29040a56b8",
       "version_major": 2,
       "version_minor": 0
      },
      "text/plain": [
       "  0%|          | 0/1000000 [00:00<?, ?it/s]"
      ]
     },
     "metadata": {},
     "output_type": "display_data"
    },
    {
     "name": "stderr",
     "output_type": "stream",
     "text": [
      "INFO:pgmpy: Datatype (N=numerical, C=Categorical Unordered, O=Categorical Ordered) inferred from data: \n",
      " {'Age': 'N', 'Income': 'N', 'CreditScore': 'N', 'LoanAmount': 'N', 'Gender': 'C', 'Smoker': 'C', 'GenderNumeric': 'N'}\n",
      "INFO:pgmpy: Datatype (N=numerical, C=Categorical Unordered, O=Categorical Ordered) inferred from data: \n",
      " {'Age': 'N', 'Income': 'N', 'CreditScore': 'N', 'LoanAmount': 'N', 'Gender': 'C', 'Smoker': 'C', 'GenderNumeric': 'N'}\n",
      "INFO:pgmpy: Datatype (N=numerical, C=Categorical Unordered, O=Categorical Ordered) inferred from data: \n",
      " {'Age': 'N', 'Income': 'N', 'CreditScore': 'N', 'LoanAmount': 'N', 'Gender': 'C', 'Smoker': 'C', 'GenderNumeric': 'N'}\n",
      "INFO:pgmpy: Datatype (N=numerical, C=Categorical Unordered, O=Categorical Ordered) inferred from data: \n",
      " {'Age': 'N', 'Income': 'N', 'CreditScore': 'N', 'LoanAmount': 'N', 'Gender': 'C', 'Smoker': 'C', 'GenderNumeric': 'N'}\n"
     ]
    },
    {
     "data": {
      "application/vnd.jupyter.widget-view+json": {
       "model_id": "4dff144fe5074e36a9965c6c3cefb7ef",
       "version_major": 2,
       "version_minor": 0
      },
      "text/plain": [
       "  0%|          | 0/1000000 [00:00<?, ?it/s]"
      ]
     },
     "metadata": {},
     "output_type": "display_data"
    },
    {
     "name": "stderr",
     "output_type": "stream",
     "text": [
      "INFO:pgmpy: Datatype (N=numerical, C=Categorical Unordered, O=Categorical Ordered) inferred from data: \n",
      " {'Age': 'N', 'Income': 'N', 'CreditScore': 'N', 'LoanAmount': 'N', 'Gender': 'C', 'Smoker': 'C', 'GenderNumeric': 'N'}\n",
      "INFO:pgmpy: Datatype (N=numerical, C=Categorical Unordered, O=Categorical Ordered) inferred from data: \n",
      " {'Age': 'N', 'Income': 'N', 'CreditScore': 'N', 'LoanAmount': 'N', 'Gender': 'C', 'Smoker': 'C', 'GenderNumeric': 'N'}\n",
      "INFO:pgmpy: Datatype (N=numerical, C=Categorical Unordered, O=Categorical Ordered) inferred from data: \n",
      " {'Age': 'N', 'Income': 'N', 'CreditScore': 'N', 'LoanAmount': 'N', 'Gender': 'C', 'Smoker': 'C', 'GenderNumeric': 'N'}\n",
      "INFO:pgmpy: Datatype (N=numerical, C=Categorical Unordered, O=Categorical Ordered) inferred from data: \n",
      " {'Age': 'N', 'Income': 'N', 'CreditScore': 'N', 'LoanAmount': 'N', 'Gender': 'C', 'Smoker': 'C', 'GenderNumeric': 'N'}\n"
     ]
    },
    {
     "data": {
      "application/vnd.jupyter.widget-view+json": {
       "model_id": "827fd0d1024f400baaf457ac9b601a35",
       "version_major": 2,
       "version_minor": 0
      },
      "text/plain": [
       "  0%|          | 0/1000000 [00:00<?, ?it/s]"
      ]
     },
     "metadata": {},
     "output_type": "display_data"
    },
    {
     "name": "stderr",
     "output_type": "stream",
     "text": [
      "INFO:pgmpy: Datatype (N=numerical, C=Categorical Unordered, O=Categorical Ordered) inferred from data: \n",
      " {'Age': 'N', 'Income': 'N', 'CreditScore': 'N', 'LoanAmount': 'N', 'Gender': 'C', 'Smoker': 'C', 'GenderNumeric': 'N'}\n",
      "INFO:pgmpy: Datatype (N=numerical, C=Categorical Unordered, O=Categorical Ordered) inferred from data: \n",
      " {'Age': 'N', 'Income': 'N', 'CreditScore': 'N', 'LoanAmount': 'N', 'Gender': 'C', 'Smoker': 'C', 'GenderNumeric': 'N'}\n",
      "INFO:pgmpy: Datatype (N=numerical, C=Categorical Unordered, O=Categorical Ordered) inferred from data: \n",
      " {'Age': 'N', 'Income': 'N', 'CreditScore': 'N', 'LoanAmount': 'N', 'Gender': 'C', 'Smoker': 'C', 'GenderNumeric': 'N'}\n",
      "INFO:pgmpy: Datatype (N=numerical, C=Categorical Unordered, O=Categorical Ordered) inferred from data: \n",
      " {'Age': 'N', 'Income': 'N', 'CreditScore': 'N', 'LoanAmount': 'N', 'Gender': 'C', 'Smoker': 'C', 'GenderNumeric': 'N'}\n"
     ]
    },
    {
     "data": {
      "application/vnd.jupyter.widget-view+json": {
       "model_id": "805d3086090445d4bbf5913bcfb8db13",
       "version_major": 2,
       "version_minor": 0
      },
      "text/plain": [
       "  0%|          | 0/1000000 [00:00<?, ?it/s]"
      ]
     },
     "metadata": {},
     "output_type": "display_data"
    },
    {
     "name": "stderr",
     "output_type": "stream",
     "text": [
      "INFO:pgmpy: Datatype (N=numerical, C=Categorical Unordered, O=Categorical Ordered) inferred from data: \n",
      " {'Age': 'N', 'Income': 'N', 'CreditScore': 'N', 'LoanAmount': 'N', 'Gender': 'C', 'Smoker': 'C', 'GenderNumeric': 'N'}\n",
      "INFO:pgmpy: Datatype (N=numerical, C=Categorical Unordered, O=Categorical Ordered) inferred from data: \n",
      " {'Age': 'N', 'Income': 'N', 'CreditScore': 'N', 'LoanAmount': 'N', 'Gender': 'C', 'Smoker': 'C', 'GenderNumeric': 'N'}\n",
      "INFO:pgmpy: Datatype (N=numerical, C=Categorical Unordered, O=Categorical Ordered) inferred from data: \n",
      " {'Age': 'N', 'Income': 'N', 'CreditScore': 'N', 'LoanAmount': 'N', 'Gender': 'C', 'Smoker': 'C', 'GenderNumeric': 'N'}\n",
      "INFO:pgmpy: Datatype (N=numerical, C=Categorical Unordered, O=Categorical Ordered) inferred from data: \n",
      " {'Age': 'N', 'Income': 'N', 'CreditScore': 'N', 'LoanAmount': 'N', 'Gender': 'C', 'Smoker': 'C', 'GenderNumeric': 'N'}\n"
     ]
    },
    {
     "data": {
      "application/vnd.jupyter.widget-view+json": {
       "model_id": "e523e1fb2ac34e9b8f580ea80c580718",
       "version_major": 2,
       "version_minor": 0
      },
      "text/plain": [
       "  0%|          | 0/1000000 [00:00<?, ?it/s]"
      ]
     },
     "metadata": {},
     "output_type": "display_data"
    },
    {
     "name": "stderr",
     "output_type": "stream",
     "text": [
      "INFO:pgmpy: Datatype (N=numerical, C=Categorical Unordered, O=Categorical Ordered) inferred from data: \n",
      " {'Age': 'N', 'Income': 'N', 'CreditScore': 'N', 'LoanAmount': 'N', 'Gender': 'C', 'Smoker': 'C', 'GenderNumeric': 'N'}\n",
      "INFO:pgmpy: Datatype (N=numerical, C=Categorical Unordered, O=Categorical Ordered) inferred from data: \n",
      " {'Age': 'N', 'Income': 'N', 'CreditScore': 'N', 'LoanAmount': 'N', 'Gender': 'C', 'Smoker': 'C', 'GenderNumeric': 'N'}\n",
      "INFO:pgmpy: Datatype (N=numerical, C=Categorical Unordered, O=Categorical Ordered) inferred from data: \n",
      " {'Age': 'N', 'Income': 'N', 'CreditScore': 'N', 'LoanAmount': 'N', 'Gender': 'C', 'Smoker': 'C', 'GenderNumeric': 'N'}\n",
      "INFO:pgmpy: Datatype (N=numerical, C=Categorical Unordered, O=Categorical Ordered) inferred from data: \n",
      " {'Age': 'N', 'Income': 'N', 'CreditScore': 'N', 'LoanAmount': 'N', 'Gender': 'C', 'Smoker': 'C', 'GenderNumeric': 'N'}\n"
     ]
    },
    {
     "data": {
      "application/vnd.jupyter.widget-view+json": {
       "model_id": "084bf6a8797544faab1345f74187f5d4",
       "version_major": 2,
       "version_minor": 0
      },
      "text/plain": [
       "  0%|          | 0/1000000 [00:00<?, ?it/s]"
      ]
     },
     "metadata": {},
     "output_type": "display_data"
    },
    {
     "name": "stderr",
     "output_type": "stream",
     "text": [
      "INFO:pgmpy: Datatype (N=numerical, C=Categorical Unordered, O=Categorical Ordered) inferred from data: \n",
      " {'Age': 'N', 'Income': 'N', 'CreditScore': 'N', 'LoanAmount': 'N', 'Gender': 'C', 'Smoker': 'C', 'GenderNumeric': 'N'}\n",
      "INFO:pgmpy: Datatype (N=numerical, C=Categorical Unordered, O=Categorical Ordered) inferred from data: \n",
      " {'Age': 'N', 'Income': 'N', 'CreditScore': 'N', 'LoanAmount': 'N', 'Gender': 'C', 'Smoker': 'C', 'GenderNumeric': 'N'}\n",
      "INFO:pgmpy: Datatype (N=numerical, C=Categorical Unordered, O=Categorical Ordered) inferred from data: \n",
      " {'Age': 'N', 'Income': 'N', 'CreditScore': 'N', 'LoanAmount': 'N', 'Gender': 'C', 'Smoker': 'C', 'GenderNumeric': 'N'}\n",
      "INFO:pgmpy: Datatype (N=numerical, C=Categorical Unordered, O=Categorical Ordered) inferred from data: \n",
      " {'Age': 'N', 'Income': 'N', 'CreditScore': 'N', 'LoanAmount': 'N', 'Gender': 'C', 'Smoker': 'C', 'GenderNumeric': 'N'}\n"
     ]
    },
    {
     "data": {
      "application/vnd.jupyter.widget-view+json": {
       "model_id": "0467ce46494e4ab9af110aeab0bbf854",
       "version_major": 2,
       "version_minor": 0
      },
      "text/plain": [
       "  0%|          | 0/1000000 [00:00<?, ?it/s]"
      ]
     },
     "metadata": {},
     "output_type": "display_data"
    },
    {
     "name": "stderr",
     "output_type": "stream",
     "text": [
      "INFO:pgmpy: Datatype (N=numerical, C=Categorical Unordered, O=Categorical Ordered) inferred from data: \n",
      " {'Age': 'N', 'Income': 'N', 'CreditScore': 'N', 'LoanAmount': 'N', 'Gender': 'C', 'Smoker': 'C', 'GenderNumeric': 'N'}\n",
      "INFO:pgmpy: Datatype (N=numerical, C=Categorical Unordered, O=Categorical Ordered) inferred from data: \n",
      " {'Age': 'N', 'Income': 'N', 'CreditScore': 'N', 'LoanAmount': 'N', 'Gender': 'C', 'Smoker': 'C', 'GenderNumeric': 'N'}\n",
      "INFO:pgmpy: Datatype (N=numerical, C=Categorical Unordered, O=Categorical Ordered) inferred from data: \n",
      " {'Age': 'N', 'Income': 'N', 'CreditScore': 'N', 'LoanAmount': 'N', 'Gender': 'C', 'Smoker': 'C', 'GenderNumeric': 'N'}\n",
      "INFO:pgmpy: Datatype (N=numerical, C=Categorical Unordered, O=Categorical Ordered) inferred from data: \n",
      " {'Age': 'N', 'Income': 'N', 'CreditScore': 'N', 'LoanAmount': 'N', 'Gender': 'C', 'Smoker': 'C', 'GenderNumeric': 'N'}\n"
     ]
    },
    {
     "data": {
      "application/vnd.jupyter.widget-view+json": {
       "model_id": "caf03fa61b69424398f39eda4ca20c49",
       "version_major": 2,
       "version_minor": 0
      },
      "text/plain": [
       "  0%|          | 0/1000000 [00:00<?, ?it/s]"
      ]
     },
     "metadata": {},
     "output_type": "display_data"
    },
    {
     "name": "stderr",
     "output_type": "stream",
     "text": [
      "INFO:pgmpy: Datatype (N=numerical, C=Categorical Unordered, O=Categorical Ordered) inferred from data: \n",
      " {'Age': 'N', 'Income': 'N', 'CreditScore': 'N', 'LoanAmount': 'N', 'Gender': 'C', 'Smoker': 'C', 'GenderNumeric': 'N'}\n",
      "INFO:pgmpy: Datatype (N=numerical, C=Categorical Unordered, O=Categorical Ordered) inferred from data: \n",
      " {'Age': 'N', 'Income': 'N', 'CreditScore': 'N', 'LoanAmount': 'N', 'Gender': 'C', 'Smoker': 'C', 'GenderNumeric': 'N'}\n",
      "INFO:pgmpy: Datatype (N=numerical, C=Categorical Unordered, O=Categorical Ordered) inferred from data: \n",
      " {'Age': 'N', 'Income': 'N', 'CreditScore': 'N', 'LoanAmount': 'N', 'Gender': 'C', 'Smoker': 'C', 'GenderNumeric': 'N'}\n",
      "INFO:pgmpy: Datatype (N=numerical, C=Categorical Unordered, O=Categorical Ordered) inferred from data: \n",
      " {'Age': 'N', 'Income': 'N', 'CreditScore': 'N', 'LoanAmount': 'N', 'Gender': 'C', 'Smoker': 'C', 'GenderNumeric': 'N'}\n"
     ]
    },
    {
     "data": {
      "application/vnd.jupyter.widget-view+json": {
       "model_id": "7b361dea8fb241a895e74bb72485a8e7",
       "version_major": 2,
       "version_minor": 0
      },
      "text/plain": [
       "  0%|          | 0/1000000 [00:00<?, ?it/s]"
      ]
     },
     "metadata": {},
     "output_type": "display_data"
    },
    {
     "name": "stderr",
     "output_type": "stream",
     "text": [
      "INFO:pgmpy: Datatype (N=numerical, C=Categorical Unordered, O=Categorical Ordered) inferred from data: \n",
      " {'Age': 'N', 'Income': 'N', 'CreditScore': 'N', 'LoanAmount': 'N', 'Gender': 'C', 'Smoker': 'C', 'GenderNumeric': 'N'}\n",
      "INFO:pgmpy: Datatype (N=numerical, C=Categorical Unordered, O=Categorical Ordered) inferred from data: \n",
      " {'Age': 'N', 'Income': 'N', 'CreditScore': 'N', 'LoanAmount': 'N', 'Gender': 'C', 'Smoker': 'C', 'GenderNumeric': 'N'}\n",
      "INFO:pgmpy: Datatype (N=numerical, C=Categorical Unordered, O=Categorical Ordered) inferred from data: \n",
      " {'Age': 'N', 'Income': 'N', 'CreditScore': 'N', 'LoanAmount': 'N', 'Gender': 'C', 'Smoker': 'C', 'GenderNumeric': 'N'}\n",
      "INFO:pgmpy: Datatype (N=numerical, C=Categorical Unordered, O=Categorical Ordered) inferred from data: \n",
      " {'Age': 'N', 'Income': 'N', 'CreditScore': 'N', 'LoanAmount': 'N', 'Gender': 'C', 'Smoker': 'C', 'GenderNumeric': 'N'}\n"
     ]
    },
    {
     "data": {
      "application/vnd.jupyter.widget-view+json": {
       "model_id": "679cbbc536dd497dbdebc7ae43656ad3",
       "version_major": 2,
       "version_minor": 0
      },
      "text/plain": [
       "  0%|          | 0/1000000 [00:00<?, ?it/s]"
      ]
     },
     "metadata": {},
     "output_type": "display_data"
    },
    {
     "name": "stderr",
     "output_type": "stream",
     "text": [
      "INFO:pgmpy: Datatype (N=numerical, C=Categorical Unordered, O=Categorical Ordered) inferred from data: \n",
      " {'Age': 'N', 'Income': 'N', 'CreditScore': 'N', 'LoanAmount': 'N', 'Gender': 'C', 'Smoker': 'C', 'GenderNumeric': 'N'}\n",
      "INFO:pgmpy: Datatype (N=numerical, C=Categorical Unordered, O=Categorical Ordered) inferred from data: \n",
      " {'Age': 'N', 'Income': 'N', 'CreditScore': 'N', 'LoanAmount': 'N', 'Gender': 'C', 'Smoker': 'C', 'GenderNumeric': 'N'}\n",
      "INFO:pgmpy: Datatype (N=numerical, C=Categorical Unordered, O=Categorical Ordered) inferred from data: \n",
      " {'Age': 'N', 'Income': 'N', 'CreditScore': 'N', 'LoanAmount': 'N', 'Gender': 'C', 'Smoker': 'C', 'GenderNumeric': 'N'}\n",
      "INFO:pgmpy: Datatype (N=numerical, C=Categorical Unordered, O=Categorical Ordered) inferred from data: \n",
      " {'Age': 'N', 'Income': 'N', 'CreditScore': 'N', 'LoanAmount': 'N', 'Gender': 'C', 'Smoker': 'C', 'GenderNumeric': 'N'}\n"
     ]
    },
    {
     "data": {
      "application/vnd.jupyter.widget-view+json": {
       "model_id": "f8c209e19d1b4bed89febcc658262f6c",
       "version_major": 2,
       "version_minor": 0
      },
      "text/plain": [
       "  0%|          | 0/1000000 [00:00<?, ?it/s]"
      ]
     },
     "metadata": {},
     "output_type": "display_data"
    },
    {
     "name": "stderr",
     "output_type": "stream",
     "text": [
      "INFO:pgmpy: Datatype (N=numerical, C=Categorical Unordered, O=Categorical Ordered) inferred from data: \n",
      " {'Age': 'N', 'Income': 'N', 'CreditScore': 'N', 'LoanAmount': 'N', 'Gender': 'C', 'Smoker': 'C', 'GenderNumeric': 'N'}\n",
      "INFO:pgmpy: Datatype (N=numerical, C=Categorical Unordered, O=Categorical Ordered) inferred from data: \n",
      " {'Age': 'N', 'Income': 'N', 'CreditScore': 'N', 'LoanAmount': 'N', 'Gender': 'C', 'Smoker': 'C', 'GenderNumeric': 'N'}\n",
      "INFO:pgmpy: Datatype (N=numerical, C=Categorical Unordered, O=Categorical Ordered) inferred from data: \n",
      " {'Age': 'N', 'Income': 'N', 'CreditScore': 'N', 'LoanAmount': 'N', 'Gender': 'C', 'Smoker': 'C', 'GenderNumeric': 'N'}\n",
      "INFO:pgmpy: Datatype (N=numerical, C=Categorical Unordered, O=Categorical Ordered) inferred from data: \n",
      " {'Age': 'N', 'Income': 'N', 'CreditScore': 'N', 'LoanAmount': 'N', 'Gender': 'C', 'Smoker': 'C', 'GenderNumeric': 'N'}\n"
     ]
    },
    {
     "data": {
      "application/vnd.jupyter.widget-view+json": {
       "model_id": "f35d8129ecfc4748a992bf1fcac747c2",
       "version_major": 2,
       "version_minor": 0
      },
      "text/plain": [
       "  0%|          | 0/1000000 [00:00<?, ?it/s]"
      ]
     },
     "metadata": {},
     "output_type": "display_data"
    },
    {
     "name": "stderr",
     "output_type": "stream",
     "text": [
      "INFO:pgmpy: Datatype (N=numerical, C=Categorical Unordered, O=Categorical Ordered) inferred from data: \n",
      " {'Age': 'N', 'Income': 'N', 'CreditScore': 'N', 'LoanAmount': 'N', 'Gender': 'C', 'Smoker': 'C', 'GenderNumeric': 'N'}\n",
      "INFO:pgmpy: Datatype (N=numerical, C=Categorical Unordered, O=Categorical Ordered) inferred from data: \n",
      " {'Age': 'N', 'Income': 'N', 'CreditScore': 'N', 'LoanAmount': 'N', 'Gender': 'C', 'Smoker': 'C', 'GenderNumeric': 'N'}\n",
      "INFO:pgmpy: Datatype (N=numerical, C=Categorical Unordered, O=Categorical Ordered) inferred from data: \n",
      " {'Age': 'N', 'Income': 'N', 'CreditScore': 'N', 'LoanAmount': 'N', 'Gender': 'C', 'Smoker': 'C', 'GenderNumeric': 'N'}\n",
      "INFO:pgmpy: Datatype (N=numerical, C=Categorical Unordered, O=Categorical Ordered) inferred from data: \n",
      " {'Age': 'N', 'Income': 'N', 'CreditScore': 'N', 'LoanAmount': 'N', 'Gender': 'C', 'Smoker': 'C', 'GenderNumeric': 'N'}\n"
     ]
    },
    {
     "data": {
      "application/vnd.jupyter.widget-view+json": {
       "model_id": "6a24e26e2a7342fb9272b1e583a5f1aa",
       "version_major": 2,
       "version_minor": 0
      },
      "text/plain": [
       "  0%|          | 0/1000000 [00:00<?, ?it/s]"
      ]
     },
     "metadata": {},
     "output_type": "display_data"
    },
    {
     "name": "stderr",
     "output_type": "stream",
     "text": [
      "INFO:pgmpy: Datatype (N=numerical, C=Categorical Unordered, O=Categorical Ordered) inferred from data: \n",
      " {'Age': 'N', 'Income': 'N', 'CreditScore': 'N', 'LoanAmount': 'N', 'Gender': 'C', 'Smoker': 'C', 'GenderNumeric': 'N'}\n",
      "INFO:pgmpy: Datatype (N=numerical, C=Categorical Unordered, O=Categorical Ordered) inferred from data: \n",
      " {'Age': 'N', 'Income': 'N', 'CreditScore': 'N', 'LoanAmount': 'N', 'Gender': 'C', 'Smoker': 'C', 'GenderNumeric': 'N'}\n",
      "INFO:pgmpy: Datatype (N=numerical, C=Categorical Unordered, O=Categorical Ordered) inferred from data: \n",
      " {'Age': 'N', 'Income': 'N', 'CreditScore': 'N', 'LoanAmount': 'N', 'Gender': 'C', 'Smoker': 'C', 'GenderNumeric': 'N'}\n",
      "INFO:pgmpy: Datatype (N=numerical, C=Categorical Unordered, O=Categorical Ordered) inferred from data: \n",
      " {'Age': 'N', 'Income': 'N', 'CreditScore': 'N', 'LoanAmount': 'N', 'Gender': 'C', 'Smoker': 'C', 'GenderNumeric': 'N'}\n"
     ]
    },
    {
     "data": {
      "application/vnd.jupyter.widget-view+json": {
       "model_id": "fed7dee2878947bf96110ef394086c58",
       "version_major": 2,
       "version_minor": 0
      },
      "text/plain": [
       "  0%|          | 0/1000000 [00:00<?, ?it/s]"
      ]
     },
     "metadata": {},
     "output_type": "display_data"
    },
    {
     "name": "stderr",
     "output_type": "stream",
     "text": [
      "INFO:pgmpy: Datatype (N=numerical, C=Categorical Unordered, O=Categorical Ordered) inferred from data: \n",
      " {'Age': 'N', 'Income': 'N', 'CreditScore': 'N', 'LoanAmount': 'N', 'Gender': 'C', 'Smoker': 'C', 'GenderNumeric': 'N'}\n",
      "INFO:pgmpy: Datatype (N=numerical, C=Categorical Unordered, O=Categorical Ordered) inferred from data: \n",
      " {'Age': 'N', 'Income': 'N', 'CreditScore': 'N', 'LoanAmount': 'N', 'Gender': 'C', 'Smoker': 'C', 'GenderNumeric': 'N'}\n",
      "INFO:pgmpy: Datatype (N=numerical, C=Categorical Unordered, O=Categorical Ordered) inferred from data: \n",
      " {'Age': 'N', 'Income': 'N', 'CreditScore': 'N', 'LoanAmount': 'N', 'Gender': 'C', 'Smoker': 'C', 'GenderNumeric': 'N'}\n",
      "INFO:pgmpy: Datatype (N=numerical, C=Categorical Unordered, O=Categorical Ordered) inferred from data: \n",
      " {'Age': 'N', 'Income': 'N', 'CreditScore': 'N', 'LoanAmount': 'N', 'Gender': 'C', 'Smoker': 'C', 'GenderNumeric': 'N'}\n"
     ]
    },
    {
     "data": {
      "application/vnd.jupyter.widget-view+json": {
       "model_id": "d32dd34c5ab5417ca8ce07de651464c4",
       "version_major": 2,
       "version_minor": 0
      },
      "text/plain": [
       "  0%|          | 0/1000000 [00:00<?, ?it/s]"
      ]
     },
     "metadata": {},
     "output_type": "display_data"
    },
    {
     "name": "stderr",
     "output_type": "stream",
     "text": [
      "INFO:pgmpy: Datatype (N=numerical, C=Categorical Unordered, O=Categorical Ordered) inferred from data: \n",
      " {'Age': 'N', 'Income': 'N', 'CreditScore': 'N', 'LoanAmount': 'N', 'Gender': 'C', 'Smoker': 'C', 'GenderNumeric': 'N'}\n",
      "INFO:pgmpy: Datatype (N=numerical, C=Categorical Unordered, O=Categorical Ordered) inferred from data: \n",
      " {'Age': 'N', 'Income': 'N', 'CreditScore': 'N', 'LoanAmount': 'N', 'Gender': 'C', 'Smoker': 'C', 'GenderNumeric': 'N'}\n",
      "INFO:pgmpy: Datatype (N=numerical, C=Categorical Unordered, O=Categorical Ordered) inferred from data: \n",
      " {'Age': 'N', 'Income': 'N', 'CreditScore': 'N', 'LoanAmount': 'N', 'Gender': 'C', 'Smoker': 'C', 'GenderNumeric': 'N'}\n",
      "INFO:pgmpy: Datatype (N=numerical, C=Categorical Unordered, O=Categorical Ordered) inferred from data: \n",
      " {'Age': 'N', 'Income': 'N', 'CreditScore': 'N', 'LoanAmount': 'N', 'Gender': 'C', 'Smoker': 'C', 'GenderNumeric': 'N'}\n"
     ]
    },
    {
     "data": {
      "application/vnd.jupyter.widget-view+json": {
       "model_id": "a70bd4e6a4814c10b08ea945e4eb4ad8",
       "version_major": 2,
       "version_minor": 0
      },
      "text/plain": [
       "  0%|          | 0/1000000 [00:00<?, ?it/s]"
      ]
     },
     "metadata": {},
     "output_type": "display_data"
    },
    {
     "name": "stderr",
     "output_type": "stream",
     "text": [
      "INFO:pgmpy: Datatype (N=numerical, C=Categorical Unordered, O=Categorical Ordered) inferred from data: \n",
      " {'Age': 'N', 'Income': 'N', 'CreditScore': 'N', 'LoanAmount': 'N', 'Gender': 'C', 'Smoker': 'C', 'GenderNumeric': 'N'}\n",
      "INFO:pgmpy: Datatype (N=numerical, C=Categorical Unordered, O=Categorical Ordered) inferred from data: \n",
      " {'Age': 'N', 'Income': 'N', 'CreditScore': 'N', 'LoanAmount': 'N', 'Gender': 'C', 'Smoker': 'C', 'GenderNumeric': 'N'}\n",
      "INFO:pgmpy: Datatype (N=numerical, C=Categorical Unordered, O=Categorical Ordered) inferred from data: \n",
      " {'Age': 'N', 'Income': 'N', 'CreditScore': 'N', 'LoanAmount': 'N', 'Gender': 'C', 'Smoker': 'C', 'GenderNumeric': 'N'}\n",
      "INFO:pgmpy: Datatype (N=numerical, C=Categorical Unordered, O=Categorical Ordered) inferred from data: \n",
      " {'Age': 'N', 'Income': 'N', 'CreditScore': 'N', 'LoanAmount': 'N', 'Gender': 'C', 'Smoker': 'C', 'GenderNumeric': 'N'}\n"
     ]
    },
    {
     "data": {
      "application/vnd.jupyter.widget-view+json": {
       "model_id": "3a8bc607426148b8876759624d541e65",
       "version_major": 2,
       "version_minor": 0
      },
      "text/plain": [
       "  0%|          | 0/1000000 [00:00<?, ?it/s]"
      ]
     },
     "metadata": {},
     "output_type": "display_data"
    },
    {
     "name": "stderr",
     "output_type": "stream",
     "text": [
      "INFO:pgmpy: Datatype (N=numerical, C=Categorical Unordered, O=Categorical Ordered) inferred from data: \n",
      " {'Age': 'N', 'Income': 'N', 'CreditScore': 'N', 'LoanAmount': 'N', 'Gender': 'C', 'Smoker': 'C', 'GenderNumeric': 'N'}\n",
      "INFO:pgmpy: Datatype (N=numerical, C=Categorical Unordered, O=Categorical Ordered) inferred from data: \n",
      " {'Age': 'N', 'Income': 'N', 'CreditScore': 'N', 'LoanAmount': 'N', 'Gender': 'C', 'Smoker': 'C', 'GenderNumeric': 'N'}\n",
      "INFO:pgmpy: Datatype (N=numerical, C=Categorical Unordered, O=Categorical Ordered) inferred from data: \n",
      " {'Age': 'N', 'Income': 'N', 'CreditScore': 'N', 'LoanAmount': 'N', 'Gender': 'C', 'Smoker': 'C', 'GenderNumeric': 'N'}\n",
      "INFO:pgmpy: Datatype (N=numerical, C=Categorical Unordered, O=Categorical Ordered) inferred from data: \n",
      " {'Age': 'N', 'Income': 'N', 'CreditScore': 'N', 'LoanAmount': 'N', 'Gender': 'C', 'Smoker': 'C', 'GenderNumeric': 'N'}\n"
     ]
    },
    {
     "data": {
      "application/vnd.jupyter.widget-view+json": {
       "model_id": "02f5a814b04c4d42b7975fcc524890ed",
       "version_major": 2,
       "version_minor": 0
      },
      "text/plain": [
       "  0%|          | 0/1000000 [00:00<?, ?it/s]"
      ]
     },
     "metadata": {},
     "output_type": "display_data"
    },
    {
     "name": "stderr",
     "output_type": "stream",
     "text": [
      "INFO:pgmpy: Datatype (N=numerical, C=Categorical Unordered, O=Categorical Ordered) inferred from data: \n",
      " {'Age': 'N', 'Income': 'N', 'CreditScore': 'N', 'LoanAmount': 'N', 'Gender': 'C', 'Smoker': 'C', 'GenderNumeric': 'N'}\n",
      "INFO:pgmpy: Datatype (N=numerical, C=Categorical Unordered, O=Categorical Ordered) inferred from data: \n",
      " {'Age': 'N', 'Income': 'N', 'CreditScore': 'N', 'LoanAmount': 'N', 'Gender': 'C', 'Smoker': 'C', 'GenderNumeric': 'N'}\n",
      "INFO:pgmpy: Datatype (N=numerical, C=Categorical Unordered, O=Categorical Ordered) inferred from data: \n",
      " {'Age': 'N', 'Income': 'N', 'CreditScore': 'N', 'LoanAmount': 'N', 'Gender': 'C', 'Smoker': 'C', 'GenderNumeric': 'N'}\n",
      "INFO:pgmpy: Datatype (N=numerical, C=Categorical Unordered, O=Categorical Ordered) inferred from data: \n",
      " {'Age': 'N', 'Income': 'N', 'CreditScore': 'N', 'LoanAmount': 'N', 'Gender': 'C', 'Smoker': 'C', 'GenderNumeric': 'N'}\n"
     ]
    },
    {
     "data": {
      "application/vnd.jupyter.widget-view+json": {
       "model_id": "367266501250489d8be106ab26c0fc40",
       "version_major": 2,
       "version_minor": 0
      },
      "text/plain": [
       "  0%|          | 0/1000000 [00:00<?, ?it/s]"
      ]
     },
     "metadata": {},
     "output_type": "display_data"
    },
    {
     "name": "stderr",
     "output_type": "stream",
     "text": [
      "INFO:pgmpy: Datatype (N=numerical, C=Categorical Unordered, O=Categorical Ordered) inferred from data: \n",
      " {'Age': 'N', 'Income': 'N', 'CreditScore': 'N', 'LoanAmount': 'N', 'Gender': 'C', 'Smoker': 'C', 'GenderNumeric': 'N'}\n",
      "INFO:pgmpy: Datatype (N=numerical, C=Categorical Unordered, O=Categorical Ordered) inferred from data: \n",
      " {'Age': 'N', 'Income': 'N', 'CreditScore': 'N', 'LoanAmount': 'N', 'Gender': 'C', 'Smoker': 'C', 'GenderNumeric': 'N'}\n",
      "INFO:pgmpy: Datatype (N=numerical, C=Categorical Unordered, O=Categorical Ordered) inferred from data: \n",
      " {'Age': 'N', 'Income': 'N', 'CreditScore': 'N', 'LoanAmount': 'N', 'Gender': 'C', 'Smoker': 'C', 'GenderNumeric': 'N'}\n",
      "INFO:pgmpy: Datatype (N=numerical, C=Categorical Unordered, O=Categorical Ordered) inferred from data: \n",
      " {'Age': 'N', 'Income': 'N', 'CreditScore': 'N', 'LoanAmount': 'N', 'Gender': 'C', 'Smoker': 'C', 'GenderNumeric': 'N'}\n"
     ]
    },
    {
     "data": {
      "application/vnd.jupyter.widget-view+json": {
       "model_id": "a352b2b3cc13444d98f320aaa948d754",
       "version_major": 2,
       "version_minor": 0
      },
      "text/plain": [
       "  0%|          | 0/1000000 [00:00<?, ?it/s]"
      ]
     },
     "metadata": {},
     "output_type": "display_data"
    },
    {
     "name": "stderr",
     "output_type": "stream",
     "text": [
      "INFO:pgmpy: Datatype (N=numerical, C=Categorical Unordered, O=Categorical Ordered) inferred from data: \n",
      " {'Age': 'N', 'Income': 'N', 'CreditScore': 'N', 'LoanAmount': 'N', 'Gender': 'C', 'Smoker': 'C', 'GenderNumeric': 'N'}\n",
      "INFO:pgmpy: Datatype (N=numerical, C=Categorical Unordered, O=Categorical Ordered) inferred from data: \n",
      " {'Age': 'N', 'Income': 'N', 'CreditScore': 'N', 'LoanAmount': 'N', 'Gender': 'C', 'Smoker': 'C', 'GenderNumeric': 'N'}\n",
      "INFO:pgmpy: Datatype (N=numerical, C=Categorical Unordered, O=Categorical Ordered) inferred from data: \n",
      " {'Age': 'N', 'Income': 'N', 'CreditScore': 'N', 'LoanAmount': 'N', 'Gender': 'C', 'Smoker': 'C', 'GenderNumeric': 'N'}\n",
      "INFO:pgmpy: Datatype (N=numerical, C=Categorical Unordered, O=Categorical Ordered) inferred from data: \n",
      " {'Age': 'N', 'Income': 'N', 'CreditScore': 'N', 'LoanAmount': 'N', 'Gender': 'C', 'Smoker': 'C', 'GenderNumeric': 'N'}\n"
     ]
    },
    {
     "data": {
      "application/vnd.jupyter.widget-view+json": {
       "model_id": "e4f65283f13843cf8924b2d0a1ac77f0",
       "version_major": 2,
       "version_minor": 0
      },
      "text/plain": [
       "  0%|          | 0/1000000 [00:00<?, ?it/s]"
      ]
     },
     "metadata": {},
     "output_type": "display_data"
    },
    {
     "name": "stderr",
     "output_type": "stream",
     "text": [
      "INFO:pgmpy: Datatype (N=numerical, C=Categorical Unordered, O=Categorical Ordered) inferred from data: \n",
      " {'Age': 'N', 'Income': 'N', 'CreditScore': 'N', 'LoanAmount': 'N', 'Gender': 'C', 'Smoker': 'C', 'GenderNumeric': 'N'}\n",
      "INFO:pgmpy: Datatype (N=numerical, C=Categorical Unordered, O=Categorical Ordered) inferred from data: \n",
      " {'Age': 'N', 'Income': 'N', 'CreditScore': 'N', 'LoanAmount': 'N', 'Gender': 'C', 'Smoker': 'C', 'GenderNumeric': 'N'}\n",
      "INFO:pgmpy: Datatype (N=numerical, C=Categorical Unordered, O=Categorical Ordered) inferred from data: \n",
      " {'Age': 'N', 'Income': 'N', 'CreditScore': 'N', 'LoanAmount': 'N', 'Gender': 'C', 'Smoker': 'C', 'GenderNumeric': 'N'}\n",
      "INFO:pgmpy: Datatype (N=numerical, C=Categorical Unordered, O=Categorical Ordered) inferred from data: \n",
      " {'Age': 'N', 'Income': 'N', 'CreditScore': 'N', 'LoanAmount': 'N', 'Gender': 'C', 'Smoker': 'C', 'GenderNumeric': 'N'}\n"
     ]
    },
    {
     "data": {
      "application/vnd.jupyter.widget-view+json": {
       "model_id": "79db4882898f443ea56e50348fbf9092",
       "version_major": 2,
       "version_minor": 0
      },
      "text/plain": [
       "  0%|          | 0/1000000 [00:00<?, ?it/s]"
      ]
     },
     "metadata": {},
     "output_type": "display_data"
    },
    {
     "name": "stderr",
     "output_type": "stream",
     "text": [
      "INFO:pgmpy: Datatype (N=numerical, C=Categorical Unordered, O=Categorical Ordered) inferred from data: \n",
      " {'Age': 'N', 'Income': 'N', 'CreditScore': 'N', 'LoanAmount': 'N', 'Gender': 'C', 'Smoker': 'C', 'GenderNumeric': 'N'}\n",
      "INFO:pgmpy: Datatype (N=numerical, C=Categorical Unordered, O=Categorical Ordered) inferred from data: \n",
      " {'Age': 'N', 'Income': 'N', 'CreditScore': 'N', 'LoanAmount': 'N', 'Gender': 'C', 'Smoker': 'C', 'GenderNumeric': 'N'}\n",
      "INFO:pgmpy: Datatype (N=numerical, C=Categorical Unordered, O=Categorical Ordered) inferred from data: \n",
      " {'Age': 'N', 'Income': 'N', 'CreditScore': 'N', 'LoanAmount': 'N', 'Gender': 'C', 'Smoker': 'C', 'GenderNumeric': 'N'}\n",
      "INFO:pgmpy: Datatype (N=numerical, C=Categorical Unordered, O=Categorical Ordered) inferred from data: \n",
      " {'Age': 'N', 'Income': 'N', 'CreditScore': 'N', 'LoanAmount': 'N', 'Gender': 'C', 'Smoker': 'C', 'GenderNumeric': 'N'}\n"
     ]
    },
    {
     "data": {
      "application/vnd.jupyter.widget-view+json": {
       "model_id": "6d84f927061a411280c29d7517880ba1",
       "version_major": 2,
       "version_minor": 0
      },
      "text/plain": [
       "  0%|          | 0/1000000 [00:00<?, ?it/s]"
      ]
     },
     "metadata": {},
     "output_type": "display_data"
    },
    {
     "name": "stderr",
     "output_type": "stream",
     "text": [
      "INFO:pgmpy: Datatype (N=numerical, C=Categorical Unordered, O=Categorical Ordered) inferred from data: \n",
      " {'Age': 'N', 'Income': 'N', 'CreditScore': 'N', 'LoanAmount': 'N', 'Gender': 'C', 'Smoker': 'C', 'GenderNumeric': 'N'}\n",
      "INFO:pgmpy: Datatype (N=numerical, C=Categorical Unordered, O=Categorical Ordered) inferred from data: \n",
      " {'Age': 'N', 'Income': 'N', 'CreditScore': 'N', 'LoanAmount': 'N', 'Gender': 'C', 'Smoker': 'C', 'GenderNumeric': 'N'}\n",
      "INFO:pgmpy: Datatype (N=numerical, C=Categorical Unordered, O=Categorical Ordered) inferred from data: \n",
      " {'Age': 'N', 'Income': 'N', 'CreditScore': 'N', 'LoanAmount': 'N', 'Gender': 'C', 'Smoker': 'C', 'GenderNumeric': 'N'}\n",
      "INFO:pgmpy: Datatype (N=numerical, C=Categorical Unordered, O=Categorical Ordered) inferred from data: \n",
      " {'Age': 'N', 'Income': 'N', 'CreditScore': 'N', 'LoanAmount': 'N', 'Gender': 'C', 'Smoker': 'C', 'GenderNumeric': 'N'}\n"
     ]
    },
    {
     "data": {
      "application/vnd.jupyter.widget-view+json": {
       "model_id": "37d87a1089bc442c94a882903b494bdd",
       "version_major": 2,
       "version_minor": 0
      },
      "text/plain": [
       "  0%|          | 0/1000000 [00:00<?, ?it/s]"
      ]
     },
     "metadata": {},
     "output_type": "display_data"
    },
    {
     "name": "stderr",
     "output_type": "stream",
     "text": [
      "INFO:pgmpy: Datatype (N=numerical, C=Categorical Unordered, O=Categorical Ordered) inferred from data: \n",
      " {'Age': 'N', 'Income': 'N', 'CreditScore': 'N', 'LoanAmount': 'N', 'Gender': 'C', 'Smoker': 'C', 'GenderNumeric': 'N'}\n",
      "INFO:pgmpy: Datatype (N=numerical, C=Categorical Unordered, O=Categorical Ordered) inferred from data: \n",
      " {'Age': 'N', 'Income': 'N', 'CreditScore': 'N', 'LoanAmount': 'N', 'Gender': 'C', 'Smoker': 'C', 'GenderNumeric': 'N'}\n",
      "INFO:pgmpy: Datatype (N=numerical, C=Categorical Unordered, O=Categorical Ordered) inferred from data: \n",
      " {'Age': 'N', 'Income': 'N', 'CreditScore': 'N', 'LoanAmount': 'N', 'Gender': 'C', 'Smoker': 'C', 'GenderNumeric': 'N'}\n",
      "INFO:pgmpy: Datatype (N=numerical, C=Categorical Unordered, O=Categorical Ordered) inferred from data: \n",
      " {'Age': 'N', 'Income': 'N', 'CreditScore': 'N', 'LoanAmount': 'N', 'Gender': 'C', 'Smoker': 'C', 'GenderNumeric': 'N'}\n"
     ]
    },
    {
     "data": {
      "application/vnd.jupyter.widget-view+json": {
       "model_id": "918e9abb9fd74e3ebf1925c44177094e",
       "version_major": 2,
       "version_minor": 0
      },
      "text/plain": [
       "  0%|          | 0/1000000 [00:00<?, ?it/s]"
      ]
     },
     "metadata": {},
     "output_type": "display_data"
    },
    {
     "name": "stderr",
     "output_type": "stream",
     "text": [
      "INFO:pgmpy: Datatype (N=numerical, C=Categorical Unordered, O=Categorical Ordered) inferred from data: \n",
      " {'Age': 'N', 'Income': 'N', 'CreditScore': 'N', 'LoanAmount': 'N', 'Gender': 'C', 'Smoker': 'C', 'GenderNumeric': 'N'}\n",
      "INFO:pgmpy: Datatype (N=numerical, C=Categorical Unordered, O=Categorical Ordered) inferred from data: \n",
      " {'Age': 'N', 'Income': 'N', 'CreditScore': 'N', 'LoanAmount': 'N', 'Gender': 'C', 'Smoker': 'C', 'GenderNumeric': 'N'}\n",
      "INFO:pgmpy: Datatype (N=numerical, C=Categorical Unordered, O=Categorical Ordered) inferred from data: \n",
      " {'Age': 'N', 'Income': 'N', 'CreditScore': 'N', 'LoanAmount': 'N', 'Gender': 'C', 'Smoker': 'C', 'GenderNumeric': 'N'}\n",
      "INFO:pgmpy: Datatype (N=numerical, C=Categorical Unordered, O=Categorical Ordered) inferred from data: \n",
      " {'Age': 'N', 'Income': 'N', 'CreditScore': 'N', 'LoanAmount': 'N', 'Gender': 'C', 'Smoker': 'C', 'GenderNumeric': 'N'}\n"
     ]
    },
    {
     "data": {
      "application/vnd.jupyter.widget-view+json": {
       "model_id": "f2d4458da10c4acda4b0b0a06846b769",
       "version_major": 2,
       "version_minor": 0
      },
      "text/plain": [
       "  0%|          | 0/1000000 [00:00<?, ?it/s]"
      ]
     },
     "metadata": {},
     "output_type": "display_data"
    },
    {
     "name": "stderr",
     "output_type": "stream",
     "text": [
      "INFO:pgmpy: Datatype (N=numerical, C=Categorical Unordered, O=Categorical Ordered) inferred from data: \n",
      " {'Age': 'N', 'Income': 'N', 'CreditScore': 'N', 'LoanAmount': 'N', 'Gender': 'C', 'Smoker': 'C', 'GenderNumeric': 'N'}\n",
      "INFO:pgmpy: Datatype (N=numerical, C=Categorical Unordered, O=Categorical Ordered) inferred from data: \n",
      " {'Age': 'N', 'Income': 'N', 'CreditScore': 'N', 'LoanAmount': 'N', 'Gender': 'C', 'Smoker': 'C', 'GenderNumeric': 'N'}\n",
      "INFO:pgmpy: Datatype (N=numerical, C=Categorical Unordered, O=Categorical Ordered) inferred from data: \n",
      " {'Age': 'N', 'Income': 'N', 'CreditScore': 'N', 'LoanAmount': 'N', 'Gender': 'C', 'Smoker': 'C', 'GenderNumeric': 'N'}\n",
      "INFO:pgmpy: Datatype (N=numerical, C=Categorical Unordered, O=Categorical Ordered) inferred from data: \n",
      " {'Age': 'N', 'Income': 'N', 'CreditScore': 'N', 'LoanAmount': 'N', 'Gender': 'C', 'Smoker': 'C', 'GenderNumeric': 'N'}\n"
     ]
    },
    {
     "data": {
      "application/vnd.jupyter.widget-view+json": {
       "model_id": "8261b2ba8f084ad98ee16d93c726e96c",
       "version_major": 2,
       "version_minor": 0
      },
      "text/plain": [
       "  0%|          | 0/1000000 [00:00<?, ?it/s]"
      ]
     },
     "metadata": {},
     "output_type": "display_data"
    },
    {
     "name": "stderr",
     "output_type": "stream",
     "text": [
      "INFO:pgmpy: Datatype (N=numerical, C=Categorical Unordered, O=Categorical Ordered) inferred from data: \n",
      " {'Age': 'N', 'Income': 'N', 'CreditScore': 'N', 'LoanAmount': 'N', 'Gender': 'C', 'Smoker': 'C', 'GenderNumeric': 'N'}\n",
      "INFO:pgmpy: Datatype (N=numerical, C=Categorical Unordered, O=Categorical Ordered) inferred from data: \n",
      " {'Age': 'N', 'Income': 'N', 'CreditScore': 'N', 'LoanAmount': 'N', 'Gender': 'C', 'Smoker': 'C', 'GenderNumeric': 'N'}\n",
      "INFO:pgmpy: Datatype (N=numerical, C=Categorical Unordered, O=Categorical Ordered) inferred from data: \n",
      " {'Age': 'N', 'Income': 'N', 'CreditScore': 'N', 'LoanAmount': 'N', 'Gender': 'C', 'Smoker': 'C', 'GenderNumeric': 'N'}\n",
      "INFO:pgmpy: Datatype (N=numerical, C=Categorical Unordered, O=Categorical Ordered) inferred from data: \n",
      " {'Age': 'N', 'Income': 'N', 'CreditScore': 'N', 'LoanAmount': 'N', 'Gender': 'C', 'Smoker': 'C', 'GenderNumeric': 'N'}\n"
     ]
    },
    {
     "data": {
      "application/vnd.jupyter.widget-view+json": {
       "model_id": "779ae88163354232ad674615e756b4fe",
       "version_major": 2,
       "version_minor": 0
      },
      "text/plain": [
       "  0%|          | 0/1000000 [00:00<?, ?it/s]"
      ]
     },
     "metadata": {},
     "output_type": "display_data"
    },
    {
     "name": "stderr",
     "output_type": "stream",
     "text": [
      "INFO:pgmpy: Datatype (N=numerical, C=Categorical Unordered, O=Categorical Ordered) inferred from data: \n",
      " {'Age': 'N', 'Income': 'N', 'CreditScore': 'N', 'LoanAmount': 'N', 'Gender': 'C', 'Smoker': 'C', 'GenderNumeric': 'N'}\n",
      "INFO:pgmpy: Datatype (N=numerical, C=Categorical Unordered, O=Categorical Ordered) inferred from data: \n",
      " {'Age': 'N', 'Income': 'N', 'CreditScore': 'N', 'LoanAmount': 'N', 'Gender': 'C', 'Smoker': 'C', 'GenderNumeric': 'N'}\n",
      "INFO:pgmpy: Datatype (N=numerical, C=Categorical Unordered, O=Categorical Ordered) inferred from data: \n",
      " {'Age': 'N', 'Income': 'N', 'CreditScore': 'N', 'LoanAmount': 'N', 'Gender': 'C', 'Smoker': 'C', 'GenderNumeric': 'N'}\n",
      "INFO:pgmpy: Datatype (N=numerical, C=Categorical Unordered, O=Categorical Ordered) inferred from data: \n",
      " {'Age': 'N', 'Income': 'N', 'CreditScore': 'N', 'LoanAmount': 'N', 'Gender': 'C', 'Smoker': 'C', 'GenderNumeric': 'N'}\n"
     ]
    },
    {
     "data": {
      "application/vnd.jupyter.widget-view+json": {
       "model_id": "d76edd80a4e64bb1acd75c956dae25cb",
       "version_major": 2,
       "version_minor": 0
      },
      "text/plain": [
       "  0%|          | 0/1000000 [00:00<?, ?it/s]"
      ]
     },
     "metadata": {},
     "output_type": "display_data"
    },
    {
     "name": "stderr",
     "output_type": "stream",
     "text": [
      "INFO:pgmpy: Datatype (N=numerical, C=Categorical Unordered, O=Categorical Ordered) inferred from data: \n",
      " {'Age': 'N', 'Income': 'N', 'CreditScore': 'N', 'LoanAmount': 'N', 'Gender': 'C', 'Smoker': 'C', 'GenderNumeric': 'N'}\n",
      "INFO:pgmpy: Datatype (N=numerical, C=Categorical Unordered, O=Categorical Ordered) inferred from data: \n",
      " {'Age': 'N', 'Income': 'N', 'CreditScore': 'N', 'LoanAmount': 'N', 'Gender': 'C', 'Smoker': 'C', 'GenderNumeric': 'N'}\n",
      "INFO:pgmpy: Datatype (N=numerical, C=Categorical Unordered, O=Categorical Ordered) inferred from data: \n",
      " {'Age': 'N', 'Income': 'N', 'CreditScore': 'N', 'LoanAmount': 'N', 'Gender': 'C', 'Smoker': 'C', 'GenderNumeric': 'N'}\n",
      "INFO:pgmpy: Datatype (N=numerical, C=Categorical Unordered, O=Categorical Ordered) inferred from data: \n",
      " {'Age': 'N', 'Income': 'N', 'CreditScore': 'N', 'LoanAmount': 'N', 'Gender': 'C', 'Smoker': 'C', 'GenderNumeric': 'N'}\n"
     ]
    },
    {
     "data": {
      "application/vnd.jupyter.widget-view+json": {
       "model_id": "4123108a313f4f86a4865f7956eb7337",
       "version_major": 2,
       "version_minor": 0
      },
      "text/plain": [
       "  0%|          | 0/1000000 [00:00<?, ?it/s]"
      ]
     },
     "metadata": {},
     "output_type": "display_data"
    },
    {
     "name": "stderr",
     "output_type": "stream",
     "text": [
      "INFO:pgmpy: Datatype (N=numerical, C=Categorical Unordered, O=Categorical Ordered) inferred from data: \n",
      " {'Age': 'N', 'Income': 'N', 'CreditScore': 'N', 'LoanAmount': 'N', 'Gender': 'C', 'Smoker': 'C', 'GenderNumeric': 'N'}\n",
      "INFO:pgmpy: Datatype (N=numerical, C=Categorical Unordered, O=Categorical Ordered) inferred from data: \n",
      " {'Age': 'N', 'Income': 'N', 'CreditScore': 'N', 'LoanAmount': 'N', 'Gender': 'C', 'Smoker': 'C', 'GenderNumeric': 'N'}\n",
      "INFO:pgmpy: Datatype (N=numerical, C=Categorical Unordered, O=Categorical Ordered) inferred from data: \n",
      " {'Age': 'N', 'Income': 'N', 'CreditScore': 'N', 'LoanAmount': 'N', 'Gender': 'C', 'Smoker': 'C', 'GenderNumeric': 'N'}\n",
      "INFO:pgmpy: Datatype (N=numerical, C=Categorical Unordered, O=Categorical Ordered) inferred from data: \n",
      " {'Age': 'N', 'Income': 'N', 'CreditScore': 'N', 'LoanAmount': 'N', 'Gender': 'C', 'Smoker': 'C', 'GenderNumeric': 'N'}\n"
     ]
    },
    {
     "data": {
      "application/vnd.jupyter.widget-view+json": {
       "model_id": "be33e12ac30a4cc281d92cc2e9627a29",
       "version_major": 2,
       "version_minor": 0
      },
      "text/plain": [
       "  0%|          | 0/1000000 [00:00<?, ?it/s]"
      ]
     },
     "metadata": {},
     "output_type": "display_data"
    },
    {
     "name": "stderr",
     "output_type": "stream",
     "text": [
      "INFO:pgmpy: Datatype (N=numerical, C=Categorical Unordered, O=Categorical Ordered) inferred from data: \n",
      " {'Age': 'N', 'Income': 'N', 'CreditScore': 'N', 'LoanAmount': 'N', 'Gender': 'C', 'Smoker': 'C', 'GenderNumeric': 'N'}\n",
      "INFO:pgmpy: Datatype (N=numerical, C=Categorical Unordered, O=Categorical Ordered) inferred from data: \n",
      " {'Age': 'N', 'Income': 'N', 'CreditScore': 'N', 'LoanAmount': 'N', 'Gender': 'C', 'Smoker': 'C', 'GenderNumeric': 'N'}\n",
      "INFO:pgmpy: Datatype (N=numerical, C=Categorical Unordered, O=Categorical Ordered) inferred from data: \n",
      " {'Age': 'N', 'Income': 'N', 'CreditScore': 'N', 'LoanAmount': 'N', 'Gender': 'C', 'Smoker': 'C', 'GenderNumeric': 'N'}\n",
      "INFO:pgmpy: Datatype (N=numerical, C=Categorical Unordered, O=Categorical Ordered) inferred from data: \n",
      " {'Age': 'N', 'Income': 'N', 'CreditScore': 'N', 'LoanAmount': 'N', 'Gender': 'C', 'Smoker': 'C', 'GenderNumeric': 'N'}\n"
     ]
    },
    {
     "data": {
      "application/vnd.jupyter.widget-view+json": {
       "model_id": "310e6ee5c4004219954e5d5a1764e04b",
       "version_major": 2,
       "version_minor": 0
      },
      "text/plain": [
       "  0%|          | 0/1000000 [00:00<?, ?it/s]"
      ]
     },
     "metadata": {},
     "output_type": "display_data"
    },
    {
     "name": "stderr",
     "output_type": "stream",
     "text": [
      "INFO:pgmpy: Datatype (N=numerical, C=Categorical Unordered, O=Categorical Ordered) inferred from data: \n",
      " {'Age': 'N', 'Income': 'N', 'CreditScore': 'N', 'LoanAmount': 'N', 'Gender': 'C', 'Smoker': 'C', 'GenderNumeric': 'N'}\n",
      "INFO:pgmpy: Datatype (N=numerical, C=Categorical Unordered, O=Categorical Ordered) inferred from data: \n",
      " {'Age': 'N', 'Income': 'N', 'CreditScore': 'N', 'LoanAmount': 'N', 'Gender': 'C', 'Smoker': 'C', 'GenderNumeric': 'N'}\n",
      "INFO:pgmpy: Datatype (N=numerical, C=Categorical Unordered, O=Categorical Ordered) inferred from data: \n",
      " {'Age': 'N', 'Income': 'N', 'CreditScore': 'N', 'LoanAmount': 'N', 'Gender': 'C', 'Smoker': 'C', 'GenderNumeric': 'N'}\n",
      "INFO:pgmpy: Datatype (N=numerical, C=Categorical Unordered, O=Categorical Ordered) inferred from data: \n",
      " {'Age': 'N', 'Income': 'N', 'CreditScore': 'N', 'LoanAmount': 'N', 'Gender': 'C', 'Smoker': 'C', 'GenderNumeric': 'N'}\n"
     ]
    },
    {
     "data": {
      "application/vnd.jupyter.widget-view+json": {
       "model_id": "ccd22b272ec2418b91716cf21f0b3c9a",
       "version_major": 2,
       "version_minor": 0
      },
      "text/plain": [
       "  0%|          | 0/1000000 [00:00<?, ?it/s]"
      ]
     },
     "metadata": {},
     "output_type": "display_data"
    },
    {
     "name": "stderr",
     "output_type": "stream",
     "text": [
      "INFO:pgmpy: Datatype (N=numerical, C=Categorical Unordered, O=Categorical Ordered) inferred from data: \n",
      " {'Age': 'N', 'Income': 'N', 'CreditScore': 'N', 'LoanAmount': 'N', 'Gender': 'C', 'Smoker': 'C', 'GenderNumeric': 'N'}\n",
      "INFO:pgmpy: Datatype (N=numerical, C=Categorical Unordered, O=Categorical Ordered) inferred from data: \n",
      " {'Age': 'N', 'Income': 'N', 'CreditScore': 'N', 'LoanAmount': 'N', 'Gender': 'C', 'Smoker': 'C', 'GenderNumeric': 'N'}\n",
      "INFO:pgmpy: Datatype (N=numerical, C=Categorical Unordered, O=Categorical Ordered) inferred from data: \n",
      " {'Age': 'N', 'Income': 'N', 'CreditScore': 'N', 'LoanAmount': 'N', 'Gender': 'C', 'Smoker': 'C', 'GenderNumeric': 'N'}\n",
      "INFO:pgmpy: Datatype (N=numerical, C=Categorical Unordered, O=Categorical Ordered) inferred from data: \n",
      " {'Age': 'N', 'Income': 'N', 'CreditScore': 'N', 'LoanAmount': 'N', 'Gender': 'C', 'Smoker': 'C', 'GenderNumeric': 'N'}\n"
     ]
    },
    {
     "data": {
      "application/vnd.jupyter.widget-view+json": {
       "model_id": "d6eab72ca5b0401e98934cb0d1069986",
       "version_major": 2,
       "version_minor": 0
      },
      "text/plain": [
       "  0%|          | 0/1000000 [00:00<?, ?it/s]"
      ]
     },
     "metadata": {},
     "output_type": "display_data"
    },
    {
     "name": "stderr",
     "output_type": "stream",
     "text": [
      "INFO:pgmpy: Datatype (N=numerical, C=Categorical Unordered, O=Categorical Ordered) inferred from data: \n",
      " {'Age': 'N', 'Income': 'N', 'CreditScore': 'N', 'LoanAmount': 'N', 'Gender': 'C', 'Smoker': 'C', 'GenderNumeric': 'N'}\n",
      "INFO:pgmpy: Datatype (N=numerical, C=Categorical Unordered, O=Categorical Ordered) inferred from data: \n",
      " {'Age': 'N', 'Income': 'N', 'CreditScore': 'N', 'LoanAmount': 'N', 'Gender': 'C', 'Smoker': 'C', 'GenderNumeric': 'N'}\n",
      "INFO:pgmpy: Datatype (N=numerical, C=Categorical Unordered, O=Categorical Ordered) inferred from data: \n",
      " {'Age': 'N', 'Income': 'N', 'CreditScore': 'N', 'LoanAmount': 'N', 'Gender': 'C', 'Smoker': 'C', 'GenderNumeric': 'N'}\n",
      "INFO:pgmpy: Datatype (N=numerical, C=Categorical Unordered, O=Categorical Ordered) inferred from data: \n",
      " {'Age': 'N', 'Income': 'N', 'CreditScore': 'N', 'LoanAmount': 'N', 'Gender': 'C', 'Smoker': 'C', 'GenderNumeric': 'N'}\n"
     ]
    },
    {
     "data": {
      "application/vnd.jupyter.widget-view+json": {
       "model_id": "2db20d99bf4a4e23b7fba4b9869af7b1",
       "version_major": 2,
       "version_minor": 0
      },
      "text/plain": [
       "  0%|          | 0/1000000 [00:00<?, ?it/s]"
      ]
     },
     "metadata": {},
     "output_type": "display_data"
    },
    {
     "name": "stderr",
     "output_type": "stream",
     "text": [
      "INFO:pgmpy: Datatype (N=numerical, C=Categorical Unordered, O=Categorical Ordered) inferred from data: \n",
      " {'Age': 'N', 'Income': 'N', 'CreditScore': 'N', 'LoanAmount': 'N', 'Gender': 'C', 'Smoker': 'C', 'GenderNumeric': 'N'}\n",
      "INFO:pgmpy: Datatype (N=numerical, C=Categorical Unordered, O=Categorical Ordered) inferred from data: \n",
      " {'Age': 'N', 'Income': 'N', 'CreditScore': 'N', 'LoanAmount': 'N', 'Gender': 'C', 'Smoker': 'C', 'GenderNumeric': 'N'}\n",
      "INFO:pgmpy: Datatype (N=numerical, C=Categorical Unordered, O=Categorical Ordered) inferred from data: \n",
      " {'Age': 'N', 'Income': 'N', 'CreditScore': 'N', 'LoanAmount': 'N', 'Gender': 'C', 'Smoker': 'C', 'GenderNumeric': 'N'}\n",
      "INFO:pgmpy: Datatype (N=numerical, C=Categorical Unordered, O=Categorical Ordered) inferred from data: \n",
      " {'Age': 'N', 'Income': 'N', 'CreditScore': 'N', 'LoanAmount': 'N', 'Gender': 'C', 'Smoker': 'C', 'GenderNumeric': 'N'}\n"
     ]
    },
    {
     "data": {
      "application/vnd.jupyter.widget-view+json": {
       "model_id": "cfa23b021cd44a6599b72fdedabebbc8",
       "version_major": 2,
       "version_minor": 0
      },
      "text/plain": [
       "  0%|          | 0/1000000 [00:00<?, ?it/s]"
      ]
     },
     "metadata": {},
     "output_type": "display_data"
    },
    {
     "name": "stderr",
     "output_type": "stream",
     "text": [
      "INFO:pgmpy: Datatype (N=numerical, C=Categorical Unordered, O=Categorical Ordered) inferred from data: \n",
      " {'Age': 'N', 'Income': 'N', 'CreditScore': 'N', 'LoanAmount': 'N', 'Gender': 'C', 'Smoker': 'C', 'GenderNumeric': 'N'}\n",
      "INFO:pgmpy: Datatype (N=numerical, C=Categorical Unordered, O=Categorical Ordered) inferred from data: \n",
      " {'Age': 'N', 'Income': 'N', 'CreditScore': 'N', 'LoanAmount': 'N', 'Gender': 'C', 'Smoker': 'C', 'GenderNumeric': 'N'}\n",
      "INFO:pgmpy: Datatype (N=numerical, C=Categorical Unordered, O=Categorical Ordered) inferred from data: \n",
      " {'Age': 'N', 'Income': 'N', 'CreditScore': 'N', 'LoanAmount': 'N', 'Gender': 'C', 'Smoker': 'C', 'GenderNumeric': 'N'}\n",
      "INFO:pgmpy: Datatype (N=numerical, C=Categorical Unordered, O=Categorical Ordered) inferred from data: \n",
      " {'Age': 'N', 'Income': 'N', 'CreditScore': 'N', 'LoanAmount': 'N', 'Gender': 'C', 'Smoker': 'C', 'GenderNumeric': 'N'}\n"
     ]
    },
    {
     "data": {
      "application/vnd.jupyter.widget-view+json": {
       "model_id": "8edb5e5c7a5644d6bee049ca812ec2e4",
       "version_major": 2,
       "version_minor": 0
      },
      "text/plain": [
       "  0%|          | 0/1000000 [00:00<?, ?it/s]"
      ]
     },
     "metadata": {},
     "output_type": "display_data"
    },
    {
     "name": "stderr",
     "output_type": "stream",
     "text": [
      "INFO:pgmpy: Datatype (N=numerical, C=Categorical Unordered, O=Categorical Ordered) inferred from data: \n",
      " {'Age': 'N', 'Income': 'N', 'CreditScore': 'N', 'LoanAmount': 'N', 'Gender': 'C', 'Smoker': 'C', 'GenderNumeric': 'N'}\n",
      "INFO:pgmpy: Datatype (N=numerical, C=Categorical Unordered, O=Categorical Ordered) inferred from data: \n",
      " {'Age': 'N', 'Income': 'N', 'CreditScore': 'N', 'LoanAmount': 'N', 'Gender': 'C', 'Smoker': 'C', 'GenderNumeric': 'N'}\n",
      "INFO:pgmpy: Datatype (N=numerical, C=Categorical Unordered, O=Categorical Ordered) inferred from data: \n",
      " {'Age': 'N', 'Income': 'N', 'CreditScore': 'N', 'LoanAmount': 'N', 'Gender': 'C', 'Smoker': 'C', 'GenderNumeric': 'N'}\n",
      "INFO:pgmpy: Datatype (N=numerical, C=Categorical Unordered, O=Categorical Ordered) inferred from data: \n",
      " {'Age': 'N', 'Income': 'N', 'CreditScore': 'N', 'LoanAmount': 'N', 'Gender': 'C', 'Smoker': 'C', 'GenderNumeric': 'N'}\n"
     ]
    },
    {
     "data": {
      "application/vnd.jupyter.widget-view+json": {
       "model_id": "172654ffe2dc463fbb6424d3d712bd29",
       "version_major": 2,
       "version_minor": 0
      },
      "text/plain": [
       "  0%|          | 0/1000000 [00:00<?, ?it/s]"
      ]
     },
     "metadata": {},
     "output_type": "display_data"
    },
    {
     "name": "stderr",
     "output_type": "stream",
     "text": [
      "INFO:pgmpy: Datatype (N=numerical, C=Categorical Unordered, O=Categorical Ordered) inferred from data: \n",
      " {'Age': 'N', 'Income': 'N', 'CreditScore': 'N', 'LoanAmount': 'N', 'Gender': 'C', 'Smoker': 'C', 'GenderNumeric': 'N'}\n",
      "INFO:pgmpy: Datatype (N=numerical, C=Categorical Unordered, O=Categorical Ordered) inferred from data: \n",
      " {'Age': 'N', 'Income': 'N', 'CreditScore': 'N', 'LoanAmount': 'N', 'Gender': 'C', 'Smoker': 'C', 'GenderNumeric': 'N'}\n",
      "INFO:pgmpy: Datatype (N=numerical, C=Categorical Unordered, O=Categorical Ordered) inferred from data: \n",
      " {'Age': 'N', 'Income': 'N', 'CreditScore': 'N', 'LoanAmount': 'N', 'Gender': 'C', 'Smoker': 'C', 'GenderNumeric': 'N'}\n",
      "INFO:pgmpy: Datatype (N=numerical, C=Categorical Unordered, O=Categorical Ordered) inferred from data: \n",
      " {'Age': 'N', 'Income': 'N', 'CreditScore': 'N', 'LoanAmount': 'N', 'Gender': 'C', 'Smoker': 'C', 'GenderNumeric': 'N'}\n"
     ]
    },
    {
     "data": {
      "application/vnd.jupyter.widget-view+json": {
       "model_id": "079beff663fa47ad895fd7df06a86e6d",
       "version_major": 2,
       "version_minor": 0
      },
      "text/plain": [
       "  0%|          | 0/1000000 [00:00<?, ?it/s]"
      ]
     },
     "metadata": {},
     "output_type": "display_data"
    },
    {
     "name": "stderr",
     "output_type": "stream",
     "text": [
      "INFO:pgmpy: Datatype (N=numerical, C=Categorical Unordered, O=Categorical Ordered) inferred from data: \n",
      " {'Age': 'N', 'Income': 'N', 'CreditScore': 'N', 'LoanAmount': 'N', 'Gender': 'C', 'Smoker': 'C', 'GenderNumeric': 'N'}\n",
      "INFO:pgmpy: Datatype (N=numerical, C=Categorical Unordered, O=Categorical Ordered) inferred from data: \n",
      " {'Age': 'N', 'Income': 'N', 'CreditScore': 'N', 'LoanAmount': 'N', 'Gender': 'C', 'Smoker': 'C', 'GenderNumeric': 'N'}\n",
      "INFO:pgmpy: Datatype (N=numerical, C=Categorical Unordered, O=Categorical Ordered) inferred from data: \n",
      " {'Age': 'N', 'Income': 'N', 'CreditScore': 'N', 'LoanAmount': 'N', 'Gender': 'C', 'Smoker': 'C', 'GenderNumeric': 'N'}\n",
      "INFO:pgmpy: Datatype (N=numerical, C=Categorical Unordered, O=Categorical Ordered) inferred from data: \n",
      " {'Age': 'N', 'Income': 'N', 'CreditScore': 'N', 'LoanAmount': 'N', 'Gender': 'C', 'Smoker': 'C', 'GenderNumeric': 'N'}\n"
     ]
    },
    {
     "data": {
      "application/vnd.jupyter.widget-view+json": {
       "model_id": "b99f3797a0264d2c94aed19685241609",
       "version_major": 2,
       "version_minor": 0
      },
      "text/plain": [
       "  0%|          | 0/1000000 [00:00<?, ?it/s]"
      ]
     },
     "metadata": {},
     "output_type": "display_data"
    },
    {
     "name": "stderr",
     "output_type": "stream",
     "text": [
      "INFO:pgmpy: Datatype (N=numerical, C=Categorical Unordered, O=Categorical Ordered) inferred from data: \n",
      " {'Age': 'N', 'Income': 'N', 'CreditScore': 'N', 'LoanAmount': 'N', 'Gender': 'C', 'Smoker': 'C', 'GenderNumeric': 'N'}\n",
      "INFO:pgmpy: Datatype (N=numerical, C=Categorical Unordered, O=Categorical Ordered) inferred from data: \n",
      " {'Age': 'N', 'Income': 'N', 'CreditScore': 'N', 'LoanAmount': 'N', 'Gender': 'C', 'Smoker': 'C', 'GenderNumeric': 'N'}\n",
      "INFO:pgmpy: Datatype (N=numerical, C=Categorical Unordered, O=Categorical Ordered) inferred from data: \n",
      " {'Age': 'N', 'Income': 'N', 'CreditScore': 'N', 'LoanAmount': 'N', 'Gender': 'C', 'Smoker': 'C', 'GenderNumeric': 'N'}\n",
      "INFO:pgmpy: Datatype (N=numerical, C=Categorical Unordered, O=Categorical Ordered) inferred from data: \n",
      " {'Age': 'N', 'Income': 'N', 'CreditScore': 'N', 'LoanAmount': 'N', 'Gender': 'C', 'Smoker': 'C', 'GenderNumeric': 'N'}\n"
     ]
    },
    {
     "data": {
      "application/vnd.jupyter.widget-view+json": {
       "model_id": "be5eeb7af74946a39bd0187a9bae2101",
       "version_major": 2,
       "version_minor": 0
      },
      "text/plain": [
       "  0%|          | 0/1000000 [00:00<?, ?it/s]"
      ]
     },
     "metadata": {},
     "output_type": "display_data"
    },
    {
     "name": "stderr",
     "output_type": "stream",
     "text": [
      "INFO:pgmpy: Datatype (N=numerical, C=Categorical Unordered, O=Categorical Ordered) inferred from data: \n",
      " {'Age': 'N', 'Income': 'N', 'CreditScore': 'N', 'LoanAmount': 'N', 'Gender': 'C', 'Smoker': 'C', 'GenderNumeric': 'N'}\n",
      "INFO:pgmpy: Datatype (N=numerical, C=Categorical Unordered, O=Categorical Ordered) inferred from data: \n",
      " {'Age': 'N', 'Income': 'N', 'CreditScore': 'N', 'LoanAmount': 'N', 'Gender': 'C', 'Smoker': 'C', 'GenderNumeric': 'N'}\n",
      "INFO:pgmpy: Datatype (N=numerical, C=Categorical Unordered, O=Categorical Ordered) inferred from data: \n",
      " {'Age': 'N', 'Income': 'N', 'CreditScore': 'N', 'LoanAmount': 'N', 'Gender': 'C', 'Smoker': 'C', 'GenderNumeric': 'N'}\n",
      "INFO:pgmpy: Datatype (N=numerical, C=Categorical Unordered, O=Categorical Ordered) inferred from data: \n",
      " {'Age': 'N', 'Income': 'N', 'CreditScore': 'N', 'LoanAmount': 'N', 'Gender': 'C', 'Smoker': 'C', 'GenderNumeric': 'N'}\n"
     ]
    },
    {
     "data": {
      "application/vnd.jupyter.widget-view+json": {
       "model_id": "5962143040ec4221bb6ff2fdc0b51303",
       "version_major": 2,
       "version_minor": 0
      },
      "text/plain": [
       "  0%|          | 0/1000000 [00:00<?, ?it/s]"
      ]
     },
     "metadata": {},
     "output_type": "display_data"
    },
    {
     "name": "stderr",
     "output_type": "stream",
     "text": [
      "INFO:pgmpy: Datatype (N=numerical, C=Categorical Unordered, O=Categorical Ordered) inferred from data: \n",
      " {'Age': 'N', 'Income': 'N', 'CreditScore': 'N', 'LoanAmount': 'N', 'Gender': 'C', 'Smoker': 'C', 'GenderNumeric': 'N'}\n",
      "INFO:pgmpy: Datatype (N=numerical, C=Categorical Unordered, O=Categorical Ordered) inferred from data: \n",
      " {'Age': 'N', 'Income': 'N', 'CreditScore': 'N', 'LoanAmount': 'N', 'Gender': 'C', 'Smoker': 'C', 'GenderNumeric': 'N'}\n",
      "INFO:pgmpy: Datatype (N=numerical, C=Categorical Unordered, O=Categorical Ordered) inferred from data: \n",
      " {'Age': 'N', 'Income': 'N', 'CreditScore': 'N', 'LoanAmount': 'N', 'Gender': 'C', 'Smoker': 'C', 'GenderNumeric': 'N'}\n",
      "INFO:pgmpy: Datatype (N=numerical, C=Categorical Unordered, O=Categorical Ordered) inferred from data: \n",
      " {'Age': 'N', 'Income': 'N', 'CreditScore': 'N', 'LoanAmount': 'N', 'Gender': 'C', 'Smoker': 'C', 'GenderNumeric': 'N'}\n"
     ]
    },
    {
     "data": {
      "application/vnd.jupyter.widget-view+json": {
       "model_id": "ca28ddeff0d6423888c9e385db6d9b39",
       "version_major": 2,
       "version_minor": 0
      },
      "text/plain": [
       "  0%|          | 0/1000000 [00:00<?, ?it/s]"
      ]
     },
     "metadata": {},
     "output_type": "display_data"
    },
    {
     "name": "stderr",
     "output_type": "stream",
     "text": [
      "INFO:pgmpy: Datatype (N=numerical, C=Categorical Unordered, O=Categorical Ordered) inferred from data: \n",
      " {'Age': 'N', 'Income': 'N', 'CreditScore': 'N', 'LoanAmount': 'N', 'Gender': 'C', 'Smoker': 'C', 'GenderNumeric': 'N'}\n",
      "INFO:pgmpy: Datatype (N=numerical, C=Categorical Unordered, O=Categorical Ordered) inferred from data: \n",
      " {'Age': 'N', 'Income': 'N', 'CreditScore': 'N', 'LoanAmount': 'N', 'Gender': 'C', 'Smoker': 'C', 'GenderNumeric': 'N'}\n",
      "INFO:pgmpy: Datatype (N=numerical, C=Categorical Unordered, O=Categorical Ordered) inferred from data: \n",
      " {'Age': 'N', 'Income': 'N', 'CreditScore': 'N', 'LoanAmount': 'N', 'Gender': 'C', 'Smoker': 'C', 'GenderNumeric': 'N'}\n",
      "INFO:pgmpy: Datatype (N=numerical, C=Categorical Unordered, O=Categorical Ordered) inferred from data: \n",
      " {'Age': 'N', 'Income': 'N', 'CreditScore': 'N', 'LoanAmount': 'N', 'Gender': 'C', 'Smoker': 'C', 'GenderNumeric': 'N'}\n"
     ]
    },
    {
     "data": {
      "application/vnd.jupyter.widget-view+json": {
       "model_id": "5e110989b1ed4f019d6cea872ad9c645",
       "version_major": 2,
       "version_minor": 0
      },
      "text/plain": [
       "  0%|          | 0/1000000 [00:00<?, ?it/s]"
      ]
     },
     "metadata": {},
     "output_type": "display_data"
    },
    {
     "name": "stderr",
     "output_type": "stream",
     "text": [
      "INFO:pgmpy: Datatype (N=numerical, C=Categorical Unordered, O=Categorical Ordered) inferred from data: \n",
      " {'Age': 'N', 'Income': 'N', 'CreditScore': 'N', 'LoanAmount': 'N', 'Gender': 'C', 'Smoker': 'C', 'GenderNumeric': 'N'}\n",
      "INFO:pgmpy: Datatype (N=numerical, C=Categorical Unordered, O=Categorical Ordered) inferred from data: \n",
      " {'Age': 'N', 'Income': 'N', 'CreditScore': 'N', 'LoanAmount': 'N', 'Gender': 'C', 'Smoker': 'C', 'GenderNumeric': 'N'}\n",
      "INFO:pgmpy: Datatype (N=numerical, C=Categorical Unordered, O=Categorical Ordered) inferred from data: \n",
      " {'Age': 'N', 'Income': 'N', 'CreditScore': 'N', 'LoanAmount': 'N', 'Gender': 'C', 'Smoker': 'C', 'GenderNumeric': 'N'}\n",
      "INFO:pgmpy: Datatype (N=numerical, C=Categorical Unordered, O=Categorical Ordered) inferred from data: \n",
      " {'Age': 'N', 'Income': 'N', 'CreditScore': 'N', 'LoanAmount': 'N', 'Gender': 'C', 'Smoker': 'C', 'GenderNumeric': 'N'}\n"
     ]
    },
    {
     "data": {
      "application/vnd.jupyter.widget-view+json": {
       "model_id": "9e3debaa516e43fcbd3ba0209694b37f",
       "version_major": 2,
       "version_minor": 0
      },
      "text/plain": [
       "  0%|          | 0/1000000 [00:00<?, ?it/s]"
      ]
     },
     "metadata": {},
     "output_type": "display_data"
    },
    {
     "name": "stderr",
     "output_type": "stream",
     "text": [
      "INFO:pgmpy: Datatype (N=numerical, C=Categorical Unordered, O=Categorical Ordered) inferred from data: \n",
      " {'Age': 'N', 'Income': 'N', 'CreditScore': 'N', 'LoanAmount': 'N', 'Gender': 'C', 'Smoker': 'C', 'GenderNumeric': 'N'}\n",
      "INFO:pgmpy: Datatype (N=numerical, C=Categorical Unordered, O=Categorical Ordered) inferred from data: \n",
      " {'Age': 'N', 'Income': 'N', 'CreditScore': 'N', 'LoanAmount': 'N', 'Gender': 'C', 'Smoker': 'C', 'GenderNumeric': 'N'}\n",
      "INFO:pgmpy: Datatype (N=numerical, C=Categorical Unordered, O=Categorical Ordered) inferred from data: \n",
      " {'Age': 'N', 'Income': 'N', 'CreditScore': 'N', 'LoanAmount': 'N', 'Gender': 'C', 'Smoker': 'C', 'GenderNumeric': 'N'}\n",
      "INFO:pgmpy: Datatype (N=numerical, C=Categorical Unordered, O=Categorical Ordered) inferred from data: \n",
      " {'Age': 'N', 'Income': 'N', 'CreditScore': 'N', 'LoanAmount': 'N', 'Gender': 'C', 'Smoker': 'C', 'GenderNumeric': 'N'}\n"
     ]
    },
    {
     "data": {
      "application/vnd.jupyter.widget-view+json": {
       "model_id": "cbe068d1fe864d4e99e630523397959e",
       "version_major": 2,
       "version_minor": 0
      },
      "text/plain": [
       "  0%|          | 0/1000000 [00:00<?, ?it/s]"
      ]
     },
     "metadata": {},
     "output_type": "display_data"
    },
    {
     "name": "stderr",
     "output_type": "stream",
     "text": [
      "INFO:pgmpy: Datatype (N=numerical, C=Categorical Unordered, O=Categorical Ordered) inferred from data: \n",
      " {'Age': 'N', 'Income': 'N', 'CreditScore': 'N', 'LoanAmount': 'N', 'Gender': 'C', 'Smoker': 'C', 'GenderNumeric': 'N'}\n",
      "INFO:pgmpy: Datatype (N=numerical, C=Categorical Unordered, O=Categorical Ordered) inferred from data: \n",
      " {'Age': 'N', 'Income': 'N', 'CreditScore': 'N', 'LoanAmount': 'N', 'Gender': 'C', 'Smoker': 'C', 'GenderNumeric': 'N'}\n",
      "INFO:pgmpy: Datatype (N=numerical, C=Categorical Unordered, O=Categorical Ordered) inferred from data: \n",
      " {'Age': 'N', 'Income': 'N', 'CreditScore': 'N', 'LoanAmount': 'N', 'Gender': 'C', 'Smoker': 'C', 'GenderNumeric': 'N'}\n",
      "INFO:pgmpy: Datatype (N=numerical, C=Categorical Unordered, O=Categorical Ordered) inferred from data: \n",
      " {'Age': 'N', 'Income': 'N', 'CreditScore': 'N', 'LoanAmount': 'N', 'Gender': 'C', 'Smoker': 'C', 'GenderNumeric': 'N'}\n"
     ]
    },
    {
     "data": {
      "application/vnd.jupyter.widget-view+json": {
       "model_id": "4feed2961ff3495dbceb3d510d3e9922",
       "version_major": 2,
       "version_minor": 0
      },
      "text/plain": [
       "  0%|          | 0/1000000 [00:00<?, ?it/s]"
      ]
     },
     "metadata": {},
     "output_type": "display_data"
    },
    {
     "name": "stderr",
     "output_type": "stream",
     "text": [
      "INFO:pgmpy: Datatype (N=numerical, C=Categorical Unordered, O=Categorical Ordered) inferred from data: \n",
      " {'Age': 'N', 'Income': 'N', 'CreditScore': 'N', 'LoanAmount': 'N', 'Gender': 'C', 'Smoker': 'C', 'GenderNumeric': 'N'}\n",
      "INFO:pgmpy: Datatype (N=numerical, C=Categorical Unordered, O=Categorical Ordered) inferred from data: \n",
      " {'Age': 'N', 'Income': 'N', 'CreditScore': 'N', 'LoanAmount': 'N', 'Gender': 'C', 'Smoker': 'C', 'GenderNumeric': 'N'}\n",
      "INFO:pgmpy: Datatype (N=numerical, C=Categorical Unordered, O=Categorical Ordered) inferred from data: \n",
      " {'Age': 'N', 'Income': 'N', 'CreditScore': 'N', 'LoanAmount': 'N', 'Gender': 'C', 'Smoker': 'C', 'GenderNumeric': 'N'}\n",
      "INFO:pgmpy: Datatype (N=numerical, C=Categorical Unordered, O=Categorical Ordered) inferred from data: \n",
      " {'Age': 'N', 'Income': 'N', 'CreditScore': 'N', 'LoanAmount': 'N', 'Gender': 'C', 'Smoker': 'C', 'GenderNumeric': 'N'}\n"
     ]
    },
    {
     "data": {
      "application/vnd.jupyter.widget-view+json": {
       "model_id": "991ce9ff7f8c4b5b9f9a9e7c6a27c2d2",
       "version_major": 2,
       "version_minor": 0
      },
      "text/plain": [
       "  0%|          | 0/1000000 [00:00<?, ?it/s]"
      ]
     },
     "metadata": {},
     "output_type": "display_data"
    },
    {
     "name": "stderr",
     "output_type": "stream",
     "text": [
      "INFO:pgmpy: Datatype (N=numerical, C=Categorical Unordered, O=Categorical Ordered) inferred from data: \n",
      " {'Age': 'N', 'Income': 'N', 'CreditScore': 'N', 'LoanAmount': 'N', 'Gender': 'C', 'Smoker': 'C', 'GenderNumeric': 'N'}\n",
      "INFO:pgmpy: Datatype (N=numerical, C=Categorical Unordered, O=Categorical Ordered) inferred from data: \n",
      " {'Age': 'N', 'Income': 'N', 'CreditScore': 'N', 'LoanAmount': 'N', 'Gender': 'C', 'Smoker': 'C', 'GenderNumeric': 'N'}\n",
      "INFO:pgmpy: Datatype (N=numerical, C=Categorical Unordered, O=Categorical Ordered) inferred from data: \n",
      " {'Age': 'N', 'Income': 'N', 'CreditScore': 'N', 'LoanAmount': 'N', 'Gender': 'C', 'Smoker': 'C', 'GenderNumeric': 'N'}\n",
      "INFO:pgmpy: Datatype (N=numerical, C=Categorical Unordered, O=Categorical Ordered) inferred from data: \n",
      " {'Age': 'N', 'Income': 'N', 'CreditScore': 'N', 'LoanAmount': 'N', 'Gender': 'C', 'Smoker': 'C', 'GenderNumeric': 'N'}\n"
     ]
    },
    {
     "data": {
      "application/vnd.jupyter.widget-view+json": {
       "model_id": "2cbb21965ae74c939784d043dfbdf2cb",
       "version_major": 2,
       "version_minor": 0
      },
      "text/plain": [
       "  0%|          | 0/1000000 [00:00<?, ?it/s]"
      ]
     },
     "metadata": {},
     "output_type": "display_data"
    },
    {
     "name": "stderr",
     "output_type": "stream",
     "text": [
      "INFO:pgmpy: Datatype (N=numerical, C=Categorical Unordered, O=Categorical Ordered) inferred from data: \n",
      " {'Age': 'N', 'Income': 'N', 'CreditScore': 'N', 'LoanAmount': 'N', 'Gender': 'C', 'Smoker': 'C', 'GenderNumeric': 'N'}\n",
      "INFO:pgmpy: Datatype (N=numerical, C=Categorical Unordered, O=Categorical Ordered) inferred from data: \n",
      " {'Age': 'N', 'Income': 'N', 'CreditScore': 'N', 'LoanAmount': 'N', 'Gender': 'C', 'Smoker': 'C', 'GenderNumeric': 'N'}\n",
      "INFO:pgmpy: Datatype (N=numerical, C=Categorical Unordered, O=Categorical Ordered) inferred from data: \n",
      " {'Age': 'N', 'Income': 'N', 'CreditScore': 'N', 'LoanAmount': 'N', 'Gender': 'C', 'Smoker': 'C', 'GenderNumeric': 'N'}\n",
      "INFO:pgmpy: Datatype (N=numerical, C=Categorical Unordered, O=Categorical Ordered) inferred from data: \n",
      " {'Age': 'N', 'Income': 'N', 'CreditScore': 'N', 'LoanAmount': 'N', 'Gender': 'C', 'Smoker': 'C', 'GenderNumeric': 'N'}\n"
     ]
    },
    {
     "data": {
      "application/vnd.jupyter.widget-view+json": {
       "model_id": "b19d7f1f368d4b0ba67d606cffdcda18",
       "version_major": 2,
       "version_minor": 0
      },
      "text/plain": [
       "  0%|          | 0/1000000 [00:00<?, ?it/s]"
      ]
     },
     "metadata": {},
     "output_type": "display_data"
    },
    {
     "name": "stderr",
     "output_type": "stream",
     "text": [
      "INFO:pgmpy: Datatype (N=numerical, C=Categorical Unordered, O=Categorical Ordered) inferred from data: \n",
      " {'Age': 'N', 'Income': 'N', 'CreditScore': 'N', 'LoanAmount': 'N', 'Gender': 'C', 'Smoker': 'C', 'GenderNumeric': 'N'}\n",
      "INFO:pgmpy: Datatype (N=numerical, C=Categorical Unordered, O=Categorical Ordered) inferred from data: \n",
      " {'Age': 'N', 'Income': 'N', 'CreditScore': 'N', 'LoanAmount': 'N', 'Gender': 'C', 'Smoker': 'C', 'GenderNumeric': 'N'}\n",
      "INFO:pgmpy: Datatype (N=numerical, C=Categorical Unordered, O=Categorical Ordered) inferred from data: \n",
      " {'Age': 'N', 'Income': 'N', 'CreditScore': 'N', 'LoanAmount': 'N', 'Gender': 'C', 'Smoker': 'C', 'GenderNumeric': 'N'}\n",
      "INFO:pgmpy: Datatype (N=numerical, C=Categorical Unordered, O=Categorical Ordered) inferred from data: \n",
      " {'Age': 'N', 'Income': 'N', 'CreditScore': 'N', 'LoanAmount': 'N', 'Gender': 'C', 'Smoker': 'C', 'GenderNumeric': 'N'}\n"
     ]
    },
    {
     "data": {
      "application/vnd.jupyter.widget-view+json": {
       "model_id": "ddfe245db92d47cba428407a773c4549",
       "version_major": 2,
       "version_minor": 0
      },
      "text/plain": [
       "  0%|          | 0/1000000 [00:00<?, ?it/s]"
      ]
     },
     "metadata": {},
     "output_type": "display_data"
    },
    {
     "name": "stderr",
     "output_type": "stream",
     "text": [
      "INFO:pgmpy: Datatype (N=numerical, C=Categorical Unordered, O=Categorical Ordered) inferred from data: \n",
      " {'Age': 'N', 'Income': 'N', 'CreditScore': 'N', 'LoanAmount': 'N', 'Gender': 'C', 'Smoker': 'C', 'GenderNumeric': 'N'}\n",
      "INFO:pgmpy: Datatype (N=numerical, C=Categorical Unordered, O=Categorical Ordered) inferred from data: \n",
      " {'Age': 'N', 'Income': 'N', 'CreditScore': 'N', 'LoanAmount': 'N', 'Gender': 'C', 'Smoker': 'C', 'GenderNumeric': 'N'}\n",
      "INFO:pgmpy: Datatype (N=numerical, C=Categorical Unordered, O=Categorical Ordered) inferred from data: \n",
      " {'Age': 'N', 'Income': 'N', 'CreditScore': 'N', 'LoanAmount': 'N', 'Gender': 'C', 'Smoker': 'C', 'GenderNumeric': 'N'}\n",
      "INFO:pgmpy: Datatype (N=numerical, C=Categorical Unordered, O=Categorical Ordered) inferred from data: \n",
      " {'Age': 'N', 'Income': 'N', 'CreditScore': 'N', 'LoanAmount': 'N', 'Gender': 'C', 'Smoker': 'C', 'GenderNumeric': 'N'}\n"
     ]
    },
    {
     "data": {
      "application/vnd.jupyter.widget-view+json": {
       "model_id": "61c1262f53fe47a3b719b6677d924689",
       "version_major": 2,
       "version_minor": 0
      },
      "text/plain": [
       "  0%|          | 0/1000000 [00:00<?, ?it/s]"
      ]
     },
     "metadata": {},
     "output_type": "display_data"
    },
    {
     "name": "stderr",
     "output_type": "stream",
     "text": [
      "INFO:pgmpy: Datatype (N=numerical, C=Categorical Unordered, O=Categorical Ordered) inferred from data: \n",
      " {'Age': 'N', 'Income': 'N', 'CreditScore': 'N', 'LoanAmount': 'N', 'Gender': 'C', 'Smoker': 'C', 'GenderNumeric': 'N'}\n",
      "INFO:pgmpy: Datatype (N=numerical, C=Categorical Unordered, O=Categorical Ordered) inferred from data: \n",
      " {'Age': 'N', 'Income': 'N', 'CreditScore': 'N', 'LoanAmount': 'N', 'Gender': 'C', 'Smoker': 'C', 'GenderNumeric': 'N'}\n",
      "INFO:pgmpy: Datatype (N=numerical, C=Categorical Unordered, O=Categorical Ordered) inferred from data: \n",
      " {'Age': 'N', 'Income': 'N', 'CreditScore': 'N', 'LoanAmount': 'N', 'Gender': 'C', 'Smoker': 'C', 'GenderNumeric': 'N'}\n",
      "INFO:pgmpy: Datatype (N=numerical, C=Categorical Unordered, O=Categorical Ordered) inferred from data: \n",
      " {'Age': 'N', 'Income': 'N', 'CreditScore': 'N', 'LoanAmount': 'N', 'Gender': 'C', 'Smoker': 'C', 'GenderNumeric': 'N'}\n"
     ]
    },
    {
     "data": {
      "application/vnd.jupyter.widget-view+json": {
       "model_id": "676313b3776b45189a5b0faa0fbe2d33",
       "version_major": 2,
       "version_minor": 0
      },
      "text/plain": [
       "  0%|          | 0/1000000 [00:00<?, ?it/s]"
      ]
     },
     "metadata": {},
     "output_type": "display_data"
    },
    {
     "name": "stderr",
     "output_type": "stream",
     "text": [
      "INFO:pgmpy: Datatype (N=numerical, C=Categorical Unordered, O=Categorical Ordered) inferred from data: \n",
      " {'Age': 'N', 'Income': 'N', 'CreditScore': 'N', 'LoanAmount': 'N', 'Gender': 'C', 'Smoker': 'C', 'GenderNumeric': 'N'}\n",
      "INFO:pgmpy: Datatype (N=numerical, C=Categorical Unordered, O=Categorical Ordered) inferred from data: \n",
      " {'Age': 'N', 'Income': 'N', 'CreditScore': 'N', 'LoanAmount': 'N', 'Gender': 'C', 'Smoker': 'C', 'GenderNumeric': 'N'}\n",
      "INFO:pgmpy: Datatype (N=numerical, C=Categorical Unordered, O=Categorical Ordered) inferred from data: \n",
      " {'Age': 'N', 'Income': 'N', 'CreditScore': 'N', 'LoanAmount': 'N', 'Gender': 'C', 'Smoker': 'C', 'GenderNumeric': 'N'}\n",
      "INFO:pgmpy: Datatype (N=numerical, C=Categorical Unordered, O=Categorical Ordered) inferred from data: \n",
      " {'Age': 'N', 'Income': 'N', 'CreditScore': 'N', 'LoanAmount': 'N', 'Gender': 'C', 'Smoker': 'C', 'GenderNumeric': 'N'}\n"
     ]
    },
    {
     "data": {
      "application/vnd.jupyter.widget-view+json": {
       "model_id": "6dabfa5c9e9f4f2ba120432f6baa49ac",
       "version_major": 2,
       "version_minor": 0
      },
      "text/plain": [
       "  0%|          | 0/1000000 [00:00<?, ?it/s]"
      ]
     },
     "metadata": {},
     "output_type": "display_data"
    },
    {
     "name": "stderr",
     "output_type": "stream",
     "text": [
      "INFO:pgmpy: Datatype (N=numerical, C=Categorical Unordered, O=Categorical Ordered) inferred from data: \n",
      " {'Age': 'N', 'Income': 'N', 'CreditScore': 'N', 'LoanAmount': 'N', 'Gender': 'C', 'Smoker': 'C', 'GenderNumeric': 'N'}\n",
      "INFO:pgmpy: Datatype (N=numerical, C=Categorical Unordered, O=Categorical Ordered) inferred from data: \n",
      " {'Age': 'N', 'Income': 'N', 'CreditScore': 'N', 'LoanAmount': 'N', 'Gender': 'C', 'Smoker': 'C', 'GenderNumeric': 'N'}\n",
      "INFO:pgmpy: Datatype (N=numerical, C=Categorical Unordered, O=Categorical Ordered) inferred from data: \n",
      " {'Age': 'N', 'Income': 'N', 'CreditScore': 'N', 'LoanAmount': 'N', 'Gender': 'C', 'Smoker': 'C', 'GenderNumeric': 'N'}\n",
      "INFO:pgmpy: Datatype (N=numerical, C=Categorical Unordered, O=Categorical Ordered) inferred from data: \n",
      " {'Age': 'N', 'Income': 'N', 'CreditScore': 'N', 'LoanAmount': 'N', 'Gender': 'C', 'Smoker': 'C', 'GenderNumeric': 'N'}\n"
     ]
    },
    {
     "data": {
      "application/vnd.jupyter.widget-view+json": {
       "model_id": "d19ea5e2dcc2458482323a0e83984605",
       "version_major": 2,
       "version_minor": 0
      },
      "text/plain": [
       "  0%|          | 0/1000000 [00:00<?, ?it/s]"
      ]
     },
     "metadata": {},
     "output_type": "display_data"
    },
    {
     "name": "stderr",
     "output_type": "stream",
     "text": [
      "INFO:pgmpy: Datatype (N=numerical, C=Categorical Unordered, O=Categorical Ordered) inferred from data: \n",
      " {'Age': 'N', 'Income': 'N', 'CreditScore': 'N', 'LoanAmount': 'N', 'Gender': 'C', 'Smoker': 'C', 'GenderNumeric': 'N'}\n",
      "INFO:pgmpy: Datatype (N=numerical, C=Categorical Unordered, O=Categorical Ordered) inferred from data: \n",
      " {'Age': 'N', 'Income': 'N', 'CreditScore': 'N', 'LoanAmount': 'N', 'Gender': 'C', 'Smoker': 'C', 'GenderNumeric': 'N'}\n",
      "INFO:pgmpy: Datatype (N=numerical, C=Categorical Unordered, O=Categorical Ordered) inferred from data: \n",
      " {'Age': 'N', 'Income': 'N', 'CreditScore': 'N', 'LoanAmount': 'N', 'Gender': 'C', 'Smoker': 'C', 'GenderNumeric': 'N'}\n",
      "INFO:pgmpy: Datatype (N=numerical, C=Categorical Unordered, O=Categorical Ordered) inferred from data: \n",
      " {'Age': 'N', 'Income': 'N', 'CreditScore': 'N', 'LoanAmount': 'N', 'Gender': 'C', 'Smoker': 'C', 'GenderNumeric': 'N'}\n"
     ]
    },
    {
     "data": {
      "application/vnd.jupyter.widget-view+json": {
       "model_id": "462c04e251e749a59b2f932eb66f5187",
       "version_major": 2,
       "version_minor": 0
      },
      "text/plain": [
       "  0%|          | 0/1000000 [00:00<?, ?it/s]"
      ]
     },
     "metadata": {},
     "output_type": "display_data"
    },
    {
     "name": "stderr",
     "output_type": "stream",
     "text": [
      "INFO:pgmpy: Datatype (N=numerical, C=Categorical Unordered, O=Categorical Ordered) inferred from data: \n",
      " {'Age': 'N', 'Income': 'N', 'CreditScore': 'N', 'LoanAmount': 'N', 'Gender': 'C', 'Smoker': 'C', 'GenderNumeric': 'N'}\n",
      "INFO:pgmpy: Datatype (N=numerical, C=Categorical Unordered, O=Categorical Ordered) inferred from data: \n",
      " {'Age': 'N', 'Income': 'N', 'CreditScore': 'N', 'LoanAmount': 'N', 'Gender': 'C', 'Smoker': 'C', 'GenderNumeric': 'N'}\n",
      "INFO:pgmpy: Datatype (N=numerical, C=Categorical Unordered, O=Categorical Ordered) inferred from data: \n",
      " {'Age': 'N', 'Income': 'N', 'CreditScore': 'N', 'LoanAmount': 'N', 'Gender': 'C', 'Smoker': 'C', 'GenderNumeric': 'N'}\n",
      "INFO:pgmpy: Datatype (N=numerical, C=Categorical Unordered, O=Categorical Ordered) inferred from data: \n",
      " {'Age': 'N', 'Income': 'N', 'CreditScore': 'N', 'LoanAmount': 'N', 'Gender': 'C', 'Smoker': 'C', 'GenderNumeric': 'N'}\n"
     ]
    },
    {
     "data": {
      "application/vnd.jupyter.widget-view+json": {
       "model_id": "00acabcdd1da498f83fd4c3f105f9580",
       "version_major": 2,
       "version_minor": 0
      },
      "text/plain": [
       "  0%|          | 0/1000000 [00:00<?, ?it/s]"
      ]
     },
     "metadata": {},
     "output_type": "display_data"
    },
    {
     "name": "stderr",
     "output_type": "stream",
     "text": [
      "INFO:pgmpy: Datatype (N=numerical, C=Categorical Unordered, O=Categorical Ordered) inferred from data: \n",
      " {'Age': 'N', 'Income': 'N', 'CreditScore': 'N', 'LoanAmount': 'N', 'Gender': 'C', 'Smoker': 'C', 'GenderNumeric': 'N'}\n",
      "INFO:pgmpy: Datatype (N=numerical, C=Categorical Unordered, O=Categorical Ordered) inferred from data: \n",
      " {'Age': 'N', 'Income': 'N', 'CreditScore': 'N', 'LoanAmount': 'N', 'Gender': 'C', 'Smoker': 'C', 'GenderNumeric': 'N'}\n",
      "INFO:pgmpy: Datatype (N=numerical, C=Categorical Unordered, O=Categorical Ordered) inferred from data: \n",
      " {'Age': 'N', 'Income': 'N', 'CreditScore': 'N', 'LoanAmount': 'N', 'Gender': 'C', 'Smoker': 'C', 'GenderNumeric': 'N'}\n",
      "INFO:pgmpy: Datatype (N=numerical, C=Categorical Unordered, O=Categorical Ordered) inferred from data: \n",
      " {'Age': 'N', 'Income': 'N', 'CreditScore': 'N', 'LoanAmount': 'N', 'Gender': 'C', 'Smoker': 'C', 'GenderNumeric': 'N'}\n"
     ]
    },
    {
     "data": {
      "application/vnd.jupyter.widget-view+json": {
       "model_id": "74334306e86240d1af1e37169cb581cd",
       "version_major": 2,
       "version_minor": 0
      },
      "text/plain": [
       "  0%|          | 0/1000000 [00:00<?, ?it/s]"
      ]
     },
     "metadata": {},
     "output_type": "display_data"
    },
    {
     "name": "stderr",
     "output_type": "stream",
     "text": [
      "INFO:pgmpy: Datatype (N=numerical, C=Categorical Unordered, O=Categorical Ordered) inferred from data: \n",
      " {'Age': 'N', 'Income': 'N', 'CreditScore': 'N', 'LoanAmount': 'N', 'Gender': 'C', 'Smoker': 'C', 'GenderNumeric': 'N'}\n",
      "INFO:pgmpy: Datatype (N=numerical, C=Categorical Unordered, O=Categorical Ordered) inferred from data: \n",
      " {'Age': 'N', 'Income': 'N', 'CreditScore': 'N', 'LoanAmount': 'N', 'Gender': 'C', 'Smoker': 'C', 'GenderNumeric': 'N'}\n",
      "INFO:pgmpy: Datatype (N=numerical, C=Categorical Unordered, O=Categorical Ordered) inferred from data: \n",
      " {'Age': 'N', 'Income': 'N', 'CreditScore': 'N', 'LoanAmount': 'N', 'Gender': 'C', 'Smoker': 'C', 'GenderNumeric': 'N'}\n",
      "INFO:pgmpy: Datatype (N=numerical, C=Categorical Unordered, O=Categorical Ordered) inferred from data: \n",
      " {'Age': 'N', 'Income': 'N', 'CreditScore': 'N', 'LoanAmount': 'N', 'Gender': 'C', 'Smoker': 'C', 'GenderNumeric': 'N'}\n"
     ]
    },
    {
     "data": {
      "application/vnd.jupyter.widget-view+json": {
       "model_id": "6c92d2a7dbd8461f8c9b7cdac004fc10",
       "version_major": 2,
       "version_minor": 0
      },
      "text/plain": [
       "  0%|          | 0/1000000 [00:00<?, ?it/s]"
      ]
     },
     "metadata": {},
     "output_type": "display_data"
    },
    {
     "name": "stderr",
     "output_type": "stream",
     "text": [
      "INFO:pgmpy: Datatype (N=numerical, C=Categorical Unordered, O=Categorical Ordered) inferred from data: \n",
      " {'Age': 'N', 'Income': 'N', 'CreditScore': 'N', 'LoanAmount': 'N', 'Gender': 'C', 'Smoker': 'C', 'GenderNumeric': 'N'}\n",
      "INFO:pgmpy: Datatype (N=numerical, C=Categorical Unordered, O=Categorical Ordered) inferred from data: \n",
      " {'Age': 'N', 'Income': 'N', 'CreditScore': 'N', 'LoanAmount': 'N', 'Gender': 'C', 'Smoker': 'C', 'GenderNumeric': 'N'}\n",
      "INFO:pgmpy: Datatype (N=numerical, C=Categorical Unordered, O=Categorical Ordered) inferred from data: \n",
      " {'Age': 'N', 'Income': 'N', 'CreditScore': 'N', 'LoanAmount': 'N', 'Gender': 'C', 'Smoker': 'C', 'GenderNumeric': 'N'}\n",
      "INFO:pgmpy: Datatype (N=numerical, C=Categorical Unordered, O=Categorical Ordered) inferred from data: \n",
      " {'Age': 'N', 'Income': 'N', 'CreditScore': 'N', 'LoanAmount': 'N', 'Gender': 'C', 'Smoker': 'C', 'GenderNumeric': 'N'}\n"
     ]
    },
    {
     "data": {
      "application/vnd.jupyter.widget-view+json": {
       "model_id": "9fc164b3eab24462acc5661113072dc8",
       "version_major": 2,
       "version_minor": 0
      },
      "text/plain": [
       "  0%|          | 0/1000000 [00:00<?, ?it/s]"
      ]
     },
     "metadata": {},
     "output_type": "display_data"
    },
    {
     "name": "stderr",
     "output_type": "stream",
     "text": [
      "INFO:pgmpy: Datatype (N=numerical, C=Categorical Unordered, O=Categorical Ordered) inferred from data: \n",
      " {'Age': 'N', 'Income': 'N', 'CreditScore': 'N', 'LoanAmount': 'N', 'Gender': 'C', 'Smoker': 'C', 'GenderNumeric': 'N'}\n",
      "INFO:pgmpy: Datatype (N=numerical, C=Categorical Unordered, O=Categorical Ordered) inferred from data: \n",
      " {'Age': 'N', 'Income': 'N', 'CreditScore': 'N', 'LoanAmount': 'N', 'Gender': 'C', 'Smoker': 'C', 'GenderNumeric': 'N'}\n",
      "INFO:pgmpy: Datatype (N=numerical, C=Categorical Unordered, O=Categorical Ordered) inferred from data: \n",
      " {'Age': 'N', 'Income': 'N', 'CreditScore': 'N', 'LoanAmount': 'N', 'Gender': 'C', 'Smoker': 'C', 'GenderNumeric': 'N'}\n",
      "INFO:pgmpy: Datatype (N=numerical, C=Categorical Unordered, O=Categorical Ordered) inferred from data: \n",
      " {'Age': 'N', 'Income': 'N', 'CreditScore': 'N', 'LoanAmount': 'N', 'Gender': 'C', 'Smoker': 'C', 'GenderNumeric': 'N'}\n"
     ]
    },
    {
     "data": {
      "application/vnd.jupyter.widget-view+json": {
       "model_id": "d8b14eded0c9402a85866aa7caa918c3",
       "version_major": 2,
       "version_minor": 0
      },
      "text/plain": [
       "  0%|          | 0/1000000 [00:00<?, ?it/s]"
      ]
     },
     "metadata": {},
     "output_type": "display_data"
    },
    {
     "name": "stderr",
     "output_type": "stream",
     "text": [
      "INFO:pgmpy: Datatype (N=numerical, C=Categorical Unordered, O=Categorical Ordered) inferred from data: \n",
      " {'Age': 'N', 'Income': 'N', 'CreditScore': 'N', 'LoanAmount': 'N', 'Gender': 'C', 'Smoker': 'C', 'GenderNumeric': 'N'}\n",
      "INFO:pgmpy: Datatype (N=numerical, C=Categorical Unordered, O=Categorical Ordered) inferred from data: \n",
      " {'Age': 'N', 'Income': 'N', 'CreditScore': 'N', 'LoanAmount': 'N', 'Gender': 'C', 'Smoker': 'C', 'GenderNumeric': 'N'}\n",
      "INFO:pgmpy: Datatype (N=numerical, C=Categorical Unordered, O=Categorical Ordered) inferred from data: \n",
      " {'Age': 'N', 'Income': 'N', 'CreditScore': 'N', 'LoanAmount': 'N', 'Gender': 'C', 'Smoker': 'C', 'GenderNumeric': 'N'}\n",
      "INFO:pgmpy: Datatype (N=numerical, C=Categorical Unordered, O=Categorical Ordered) inferred from data: \n",
      " {'Age': 'N', 'Income': 'N', 'CreditScore': 'N', 'LoanAmount': 'N', 'Gender': 'C', 'Smoker': 'C', 'GenderNumeric': 'N'}\n"
     ]
    },
    {
     "data": {
      "application/vnd.jupyter.widget-view+json": {
       "model_id": "3af3f40625d24bf5b9c949d14c1d23eb",
       "version_major": 2,
       "version_minor": 0
      },
      "text/plain": [
       "  0%|          | 0/1000000 [00:00<?, ?it/s]"
      ]
     },
     "metadata": {},
     "output_type": "display_data"
    },
    {
     "name": "stderr",
     "output_type": "stream",
     "text": [
      "INFO:pgmpy: Datatype (N=numerical, C=Categorical Unordered, O=Categorical Ordered) inferred from data: \n",
      " {'Age': 'N', 'Income': 'N', 'CreditScore': 'N', 'LoanAmount': 'N', 'Gender': 'C', 'Smoker': 'C', 'GenderNumeric': 'N'}\n",
      "INFO:pgmpy: Datatype (N=numerical, C=Categorical Unordered, O=Categorical Ordered) inferred from data: \n",
      " {'Age': 'N', 'Income': 'N', 'CreditScore': 'N', 'LoanAmount': 'N', 'Gender': 'C', 'Smoker': 'C', 'GenderNumeric': 'N'}\n",
      "INFO:pgmpy: Datatype (N=numerical, C=Categorical Unordered, O=Categorical Ordered) inferred from data: \n",
      " {'Age': 'N', 'Income': 'N', 'CreditScore': 'N', 'LoanAmount': 'N', 'Gender': 'C', 'Smoker': 'C', 'GenderNumeric': 'N'}\n",
      "INFO:pgmpy: Datatype (N=numerical, C=Categorical Unordered, O=Categorical Ordered) inferred from data: \n",
      " {'Age': 'N', 'Income': 'N', 'CreditScore': 'N', 'LoanAmount': 'N', 'Gender': 'C', 'Smoker': 'C', 'GenderNumeric': 'N'}\n"
     ]
    },
    {
     "data": {
      "application/vnd.jupyter.widget-view+json": {
       "model_id": "b7a240480fd244a2a453cdc2f1330318",
       "version_major": 2,
       "version_minor": 0
      },
      "text/plain": [
       "  0%|          | 0/1000000 [00:00<?, ?it/s]"
      ]
     },
     "metadata": {},
     "output_type": "display_data"
    },
    {
     "name": "stderr",
     "output_type": "stream",
     "text": [
      "INFO:pgmpy: Datatype (N=numerical, C=Categorical Unordered, O=Categorical Ordered) inferred from data: \n",
      " {'Age': 'N', 'Income': 'N', 'CreditScore': 'N', 'LoanAmount': 'N', 'Gender': 'C', 'Smoker': 'C', 'GenderNumeric': 'N'}\n",
      "INFO:pgmpy: Datatype (N=numerical, C=Categorical Unordered, O=Categorical Ordered) inferred from data: \n",
      " {'Age': 'N', 'Income': 'N', 'CreditScore': 'N', 'LoanAmount': 'N', 'Gender': 'C', 'Smoker': 'C', 'GenderNumeric': 'N'}\n",
      "INFO:pgmpy: Datatype (N=numerical, C=Categorical Unordered, O=Categorical Ordered) inferred from data: \n",
      " {'Age': 'N', 'Income': 'N', 'CreditScore': 'N', 'LoanAmount': 'N', 'Gender': 'C', 'Smoker': 'C', 'GenderNumeric': 'N'}\n",
      "INFO:pgmpy: Datatype (N=numerical, C=Categorical Unordered, O=Categorical Ordered) inferred from data: \n",
      " {'Age': 'N', 'Income': 'N', 'CreditScore': 'N', 'LoanAmount': 'N', 'Gender': 'C', 'Smoker': 'C', 'GenderNumeric': 'N'}\n"
     ]
    },
    {
     "data": {
      "application/vnd.jupyter.widget-view+json": {
       "model_id": "6d23f10680c74a69bc5f3de4f28676a9",
       "version_major": 2,
       "version_minor": 0
      },
      "text/plain": [
       "  0%|          | 0/1000000 [00:00<?, ?it/s]"
      ]
     },
     "metadata": {},
     "output_type": "display_data"
    },
    {
     "name": "stderr",
     "output_type": "stream",
     "text": [
      "INFO:pgmpy: Datatype (N=numerical, C=Categorical Unordered, O=Categorical Ordered) inferred from data: \n",
      " {'Age': 'N', 'Income': 'N', 'CreditScore': 'N', 'LoanAmount': 'N', 'Gender': 'C', 'Smoker': 'C', 'GenderNumeric': 'N'}\n",
      "INFO:pgmpy: Datatype (N=numerical, C=Categorical Unordered, O=Categorical Ordered) inferred from data: \n",
      " {'Age': 'N', 'Income': 'N', 'CreditScore': 'N', 'LoanAmount': 'N', 'Gender': 'C', 'Smoker': 'C', 'GenderNumeric': 'N'}\n",
      "INFO:pgmpy: Datatype (N=numerical, C=Categorical Unordered, O=Categorical Ordered) inferred from data: \n",
      " {'Age': 'N', 'Income': 'N', 'CreditScore': 'N', 'LoanAmount': 'N', 'Gender': 'C', 'Smoker': 'C', 'GenderNumeric': 'N'}\n",
      "INFO:pgmpy: Datatype (N=numerical, C=Categorical Unordered, O=Categorical Ordered) inferred from data: \n",
      " {'Age': 'N', 'Income': 'N', 'CreditScore': 'N', 'LoanAmount': 'N', 'Gender': 'C', 'Smoker': 'C', 'GenderNumeric': 'N'}\n"
     ]
    },
    {
     "data": {
      "application/vnd.jupyter.widget-view+json": {
       "model_id": "66f07fd1c5ec49f696cada62fc3343b9",
       "version_major": 2,
       "version_minor": 0
      },
      "text/plain": [
       "  0%|          | 0/1000000 [00:00<?, ?it/s]"
      ]
     },
     "metadata": {},
     "output_type": "display_data"
    },
    {
     "name": "stderr",
     "output_type": "stream",
     "text": [
      "INFO:pgmpy: Datatype (N=numerical, C=Categorical Unordered, O=Categorical Ordered) inferred from data: \n",
      " {'Age': 'N', 'Income': 'N', 'CreditScore': 'N', 'LoanAmount': 'N', 'Gender': 'C', 'Smoker': 'C', 'GenderNumeric': 'N'}\n",
      "INFO:pgmpy: Datatype (N=numerical, C=Categorical Unordered, O=Categorical Ordered) inferred from data: \n",
      " {'Age': 'N', 'Income': 'N', 'CreditScore': 'N', 'LoanAmount': 'N', 'Gender': 'C', 'Smoker': 'C', 'GenderNumeric': 'N'}\n",
      "INFO:pgmpy: Datatype (N=numerical, C=Categorical Unordered, O=Categorical Ordered) inferred from data: \n",
      " {'Age': 'N', 'Income': 'N', 'CreditScore': 'N', 'LoanAmount': 'N', 'Gender': 'C', 'Smoker': 'C', 'GenderNumeric': 'N'}\n",
      "INFO:pgmpy: Datatype (N=numerical, C=Categorical Unordered, O=Categorical Ordered) inferred from data: \n",
      " {'Age': 'N', 'Income': 'N', 'CreditScore': 'N', 'LoanAmount': 'N', 'Gender': 'C', 'Smoker': 'C', 'GenderNumeric': 'N'}\n"
     ]
    },
    {
     "data": {
      "application/vnd.jupyter.widget-view+json": {
       "model_id": "fa69587c7fc54896b5a5bba061630470",
       "version_major": 2,
       "version_minor": 0
      },
      "text/plain": [
       "  0%|          | 0/1000000 [00:00<?, ?it/s]"
      ]
     },
     "metadata": {},
     "output_type": "display_data"
    },
    {
     "name": "stderr",
     "output_type": "stream",
     "text": [
      "INFO:pgmpy: Datatype (N=numerical, C=Categorical Unordered, O=Categorical Ordered) inferred from data: \n",
      " {'Age': 'N', 'Income': 'N', 'CreditScore': 'N', 'LoanAmount': 'N', 'Gender': 'C', 'Smoker': 'C', 'GenderNumeric': 'N'}\n",
      "INFO:pgmpy: Datatype (N=numerical, C=Categorical Unordered, O=Categorical Ordered) inferred from data: \n",
      " {'Age': 'N', 'Income': 'N', 'CreditScore': 'N', 'LoanAmount': 'N', 'Gender': 'C', 'Smoker': 'C', 'GenderNumeric': 'N'}\n",
      "INFO:pgmpy: Datatype (N=numerical, C=Categorical Unordered, O=Categorical Ordered) inferred from data: \n",
      " {'Age': 'N', 'Income': 'N', 'CreditScore': 'N', 'LoanAmount': 'N', 'Gender': 'C', 'Smoker': 'C', 'GenderNumeric': 'N'}\n",
      "INFO:pgmpy: Datatype (N=numerical, C=Categorical Unordered, O=Categorical Ordered) inferred from data: \n",
      " {'Age': 'N', 'Income': 'N', 'CreditScore': 'N', 'LoanAmount': 'N', 'Gender': 'C', 'Smoker': 'C', 'GenderNumeric': 'N'}\n"
     ]
    },
    {
     "data": {
      "application/vnd.jupyter.widget-view+json": {
       "model_id": "896ee7982adc4da981e6ce7e561041fa",
       "version_major": 2,
       "version_minor": 0
      },
      "text/plain": [
       "  0%|          | 0/1000000 [00:00<?, ?it/s]"
      ]
     },
     "metadata": {},
     "output_type": "display_data"
    },
    {
     "name": "stderr",
     "output_type": "stream",
     "text": [
      "INFO:pgmpy: Datatype (N=numerical, C=Categorical Unordered, O=Categorical Ordered) inferred from data: \n",
      " {'Age': 'N', 'Income': 'N', 'CreditScore': 'N', 'LoanAmount': 'N', 'Gender': 'C', 'Smoker': 'C', 'GenderNumeric': 'N'}\n",
      "INFO:pgmpy: Datatype (N=numerical, C=Categorical Unordered, O=Categorical Ordered) inferred from data: \n",
      " {'Age': 'N', 'Income': 'N', 'CreditScore': 'N', 'LoanAmount': 'N', 'Gender': 'C', 'Smoker': 'C', 'GenderNumeric': 'N'}\n",
      "INFO:pgmpy: Datatype (N=numerical, C=Categorical Unordered, O=Categorical Ordered) inferred from data: \n",
      " {'Age': 'N', 'Income': 'N', 'CreditScore': 'N', 'LoanAmount': 'N', 'Gender': 'C', 'Smoker': 'C', 'GenderNumeric': 'N'}\n",
      "INFO:pgmpy: Datatype (N=numerical, C=Categorical Unordered, O=Categorical Ordered) inferred from data: \n",
      " {'Age': 'N', 'Income': 'N', 'CreditScore': 'N', 'LoanAmount': 'N', 'Gender': 'C', 'Smoker': 'C', 'GenderNumeric': 'N'}\n"
     ]
    },
    {
     "data": {
      "application/vnd.jupyter.widget-view+json": {
       "model_id": "e56e123694e1457d8bf3369f780c0a59",
       "version_major": 2,
       "version_minor": 0
      },
      "text/plain": [
       "  0%|          | 0/1000000 [00:00<?, ?it/s]"
      ]
     },
     "metadata": {},
     "output_type": "display_data"
    },
    {
     "name": "stderr",
     "output_type": "stream",
     "text": [
      "INFO:pgmpy: Datatype (N=numerical, C=Categorical Unordered, O=Categorical Ordered) inferred from data: \n",
      " {'Age': 'N', 'Income': 'N', 'CreditScore': 'N', 'LoanAmount': 'N', 'Gender': 'C', 'Smoker': 'C', 'GenderNumeric': 'N'}\n",
      "INFO:pgmpy: Datatype (N=numerical, C=Categorical Unordered, O=Categorical Ordered) inferred from data: \n",
      " {'Age': 'N', 'Income': 'N', 'CreditScore': 'N', 'LoanAmount': 'N', 'Gender': 'C', 'Smoker': 'C', 'GenderNumeric': 'N'}\n",
      "INFO:pgmpy: Datatype (N=numerical, C=Categorical Unordered, O=Categorical Ordered) inferred from data: \n",
      " {'Age': 'N', 'Income': 'N', 'CreditScore': 'N', 'LoanAmount': 'N', 'Gender': 'C', 'Smoker': 'C', 'GenderNumeric': 'N'}\n",
      "INFO:pgmpy: Datatype (N=numerical, C=Categorical Unordered, O=Categorical Ordered) inferred from data: \n",
      " {'Age': 'N', 'Income': 'N', 'CreditScore': 'N', 'LoanAmount': 'N', 'Gender': 'C', 'Smoker': 'C', 'GenderNumeric': 'N'}\n"
     ]
    },
    {
     "data": {
      "application/vnd.jupyter.widget-view+json": {
       "model_id": "182474d80c5245eea788c1aace2a5777",
       "version_major": 2,
       "version_minor": 0
      },
      "text/plain": [
       "  0%|          | 0/1000000 [00:00<?, ?it/s]"
      ]
     },
     "metadata": {},
     "output_type": "display_data"
    },
    {
     "name": "stderr",
     "output_type": "stream",
     "text": [
      "INFO:pgmpy: Datatype (N=numerical, C=Categorical Unordered, O=Categorical Ordered) inferred from data: \n",
      " {'Age': 'N', 'Income': 'N', 'CreditScore': 'N', 'LoanAmount': 'N', 'Gender': 'C', 'Smoker': 'C', 'GenderNumeric': 'N'}\n",
      "INFO:pgmpy: Datatype (N=numerical, C=Categorical Unordered, O=Categorical Ordered) inferred from data: \n",
      " {'Age': 'N', 'Income': 'N', 'CreditScore': 'N', 'LoanAmount': 'N', 'Gender': 'C', 'Smoker': 'C', 'GenderNumeric': 'N'}\n",
      "INFO:pgmpy: Datatype (N=numerical, C=Categorical Unordered, O=Categorical Ordered) inferred from data: \n",
      " {'Age': 'N', 'Income': 'N', 'CreditScore': 'N', 'LoanAmount': 'N', 'Gender': 'C', 'Smoker': 'C', 'GenderNumeric': 'N'}\n",
      "INFO:pgmpy: Datatype (N=numerical, C=Categorical Unordered, O=Categorical Ordered) inferred from data: \n",
      " {'Age': 'N', 'Income': 'N', 'CreditScore': 'N', 'LoanAmount': 'N', 'Gender': 'C', 'Smoker': 'C', 'GenderNumeric': 'N'}\n"
     ]
    },
    {
     "data": {
      "application/vnd.jupyter.widget-view+json": {
       "model_id": "592e42edae53434bb18bb89631cbd9a4",
       "version_major": 2,
       "version_minor": 0
      },
      "text/plain": [
       "  0%|          | 0/1000000 [00:00<?, ?it/s]"
      ]
     },
     "metadata": {},
     "output_type": "display_data"
    },
    {
     "name": "stderr",
     "output_type": "stream",
     "text": [
      "INFO:pgmpy: Datatype (N=numerical, C=Categorical Unordered, O=Categorical Ordered) inferred from data: \n",
      " {'Age': 'N', 'Income': 'N', 'CreditScore': 'N', 'LoanAmount': 'N', 'Gender': 'C', 'Smoker': 'C', 'GenderNumeric': 'N'}\n",
      "INFO:pgmpy: Datatype (N=numerical, C=Categorical Unordered, O=Categorical Ordered) inferred from data: \n",
      " {'Age': 'N', 'Income': 'N', 'CreditScore': 'N', 'LoanAmount': 'N', 'Gender': 'C', 'Smoker': 'C', 'GenderNumeric': 'N'}\n",
      "INFO:pgmpy: Datatype (N=numerical, C=Categorical Unordered, O=Categorical Ordered) inferred from data: \n",
      " {'Age': 'N', 'Income': 'N', 'CreditScore': 'N', 'LoanAmount': 'N', 'Gender': 'C', 'Smoker': 'C', 'GenderNumeric': 'N'}\n",
      "INFO:pgmpy: Datatype (N=numerical, C=Categorical Unordered, O=Categorical Ordered) inferred from data: \n",
      " {'Age': 'N', 'Income': 'N', 'CreditScore': 'N', 'LoanAmount': 'N', 'Gender': 'C', 'Smoker': 'C', 'GenderNumeric': 'N'}\n"
     ]
    },
    {
     "data": {
      "application/vnd.jupyter.widget-view+json": {
       "model_id": "6f3ab4ea0ffc4ad0b9542591a363daa9",
       "version_major": 2,
       "version_minor": 0
      },
      "text/plain": [
       "  0%|          | 0/1000000 [00:00<?, ?it/s]"
      ]
     },
     "metadata": {},
     "output_type": "display_data"
    },
    {
     "name": "stderr",
     "output_type": "stream",
     "text": [
      "INFO:pgmpy: Datatype (N=numerical, C=Categorical Unordered, O=Categorical Ordered) inferred from data: \n",
      " {'Age': 'N', 'Income': 'N', 'CreditScore': 'N', 'LoanAmount': 'N', 'Gender': 'C', 'Smoker': 'C', 'GenderNumeric': 'N'}\n",
      "INFO:pgmpy: Datatype (N=numerical, C=Categorical Unordered, O=Categorical Ordered) inferred from data: \n",
      " {'Age': 'N', 'Income': 'N', 'CreditScore': 'N', 'LoanAmount': 'N', 'Gender': 'C', 'Smoker': 'C', 'GenderNumeric': 'N'}\n",
      "INFO:pgmpy: Datatype (N=numerical, C=Categorical Unordered, O=Categorical Ordered) inferred from data: \n",
      " {'Age': 'N', 'Income': 'N', 'CreditScore': 'N', 'LoanAmount': 'N', 'Gender': 'C', 'Smoker': 'C', 'GenderNumeric': 'N'}\n",
      "INFO:pgmpy: Datatype (N=numerical, C=Categorical Unordered, O=Categorical Ordered) inferred from data: \n",
      " {'Age': 'N', 'Income': 'N', 'CreditScore': 'N', 'LoanAmount': 'N', 'Gender': 'C', 'Smoker': 'C', 'GenderNumeric': 'N'}\n"
     ]
    },
    {
     "data": {
      "application/vnd.jupyter.widget-view+json": {
       "model_id": "579b42ef3e7948c8804beca8ce546808",
       "version_major": 2,
       "version_minor": 0
      },
      "text/plain": [
       "  0%|          | 0/1000000 [00:00<?, ?it/s]"
      ]
     },
     "metadata": {},
     "output_type": "display_data"
    },
    {
     "name": "stderr",
     "output_type": "stream",
     "text": [
      "INFO:pgmpy: Datatype (N=numerical, C=Categorical Unordered, O=Categorical Ordered) inferred from data: \n",
      " {'Age': 'N', 'Income': 'N', 'CreditScore': 'N', 'LoanAmount': 'N', 'Gender': 'C', 'Smoker': 'C', 'GenderNumeric': 'N'}\n",
      "INFO:pgmpy: Datatype (N=numerical, C=Categorical Unordered, O=Categorical Ordered) inferred from data: \n",
      " {'Age': 'N', 'Income': 'N', 'CreditScore': 'N', 'LoanAmount': 'N', 'Gender': 'C', 'Smoker': 'C', 'GenderNumeric': 'N'}\n",
      "INFO:pgmpy: Datatype (N=numerical, C=Categorical Unordered, O=Categorical Ordered) inferred from data: \n",
      " {'Age': 'N', 'Income': 'N', 'CreditScore': 'N', 'LoanAmount': 'N', 'Gender': 'C', 'Smoker': 'C', 'GenderNumeric': 'N'}\n",
      "INFO:pgmpy: Datatype (N=numerical, C=Categorical Unordered, O=Categorical Ordered) inferred from data: \n",
      " {'Age': 'N', 'Income': 'N', 'CreditScore': 'N', 'LoanAmount': 'N', 'Gender': 'C', 'Smoker': 'C', 'GenderNumeric': 'N'}\n"
     ]
    },
    {
     "data": {
      "application/vnd.jupyter.widget-view+json": {
       "model_id": "ec9c93690c3242a4b7eed90a734c552f",
       "version_major": 2,
       "version_minor": 0
      },
      "text/plain": [
       "  0%|          | 0/1000000 [00:00<?, ?it/s]"
      ]
     },
     "metadata": {},
     "output_type": "display_data"
    },
    {
     "name": "stderr",
     "output_type": "stream",
     "text": [
      "INFO:pgmpy: Datatype (N=numerical, C=Categorical Unordered, O=Categorical Ordered) inferred from data: \n",
      " {'Age': 'N', 'Income': 'N', 'CreditScore': 'N', 'LoanAmount': 'N', 'Gender': 'C', 'Smoker': 'C', 'GenderNumeric': 'N'}\n",
      "INFO:pgmpy: Datatype (N=numerical, C=Categorical Unordered, O=Categorical Ordered) inferred from data: \n",
      " {'Age': 'N', 'Income': 'N', 'CreditScore': 'N', 'LoanAmount': 'N', 'Gender': 'C', 'Smoker': 'C', 'GenderNumeric': 'N'}\n",
      "INFO:pgmpy: Datatype (N=numerical, C=Categorical Unordered, O=Categorical Ordered) inferred from data: \n",
      " {'Age': 'N', 'Income': 'N', 'CreditScore': 'N', 'LoanAmount': 'N', 'Gender': 'C', 'Smoker': 'C', 'GenderNumeric': 'N'}\n",
      "INFO:pgmpy: Datatype (N=numerical, C=Categorical Unordered, O=Categorical Ordered) inferred from data: \n",
      " {'Age': 'N', 'Income': 'N', 'CreditScore': 'N', 'LoanAmount': 'N', 'Gender': 'C', 'Smoker': 'C', 'GenderNumeric': 'N'}\n"
     ]
    },
    {
     "data": {
      "application/vnd.jupyter.widget-view+json": {
       "model_id": "7447ac93f1b046b38f2e8761aece0dd2",
       "version_major": 2,
       "version_minor": 0
      },
      "text/plain": [
       "  0%|          | 0/1000000 [00:00<?, ?it/s]"
      ]
     },
     "metadata": {},
     "output_type": "display_data"
    },
    {
     "name": "stderr",
     "output_type": "stream",
     "text": [
      "INFO:pgmpy: Datatype (N=numerical, C=Categorical Unordered, O=Categorical Ordered) inferred from data: \n",
      " {'Age': 'N', 'Income': 'N', 'CreditScore': 'N', 'LoanAmount': 'N', 'Gender': 'C', 'Smoker': 'C', 'GenderNumeric': 'N'}\n",
      "INFO:pgmpy: Datatype (N=numerical, C=Categorical Unordered, O=Categorical Ordered) inferred from data: \n",
      " {'Age': 'N', 'Income': 'N', 'CreditScore': 'N', 'LoanAmount': 'N', 'Gender': 'C', 'Smoker': 'C', 'GenderNumeric': 'N'}\n",
      "INFO:pgmpy: Datatype (N=numerical, C=Categorical Unordered, O=Categorical Ordered) inferred from data: \n",
      " {'Age': 'N', 'Income': 'N', 'CreditScore': 'N', 'LoanAmount': 'N', 'Gender': 'C', 'Smoker': 'C', 'GenderNumeric': 'N'}\n",
      "INFO:pgmpy: Datatype (N=numerical, C=Categorical Unordered, O=Categorical Ordered) inferred from data: \n",
      " {'Age': 'N', 'Income': 'N', 'CreditScore': 'N', 'LoanAmount': 'N', 'Gender': 'C', 'Smoker': 'C', 'GenderNumeric': 'N'}\n"
     ]
    },
    {
     "data": {
      "application/vnd.jupyter.widget-view+json": {
       "model_id": "24f7ff91533e407a87c0760da23cae13",
       "version_major": 2,
       "version_minor": 0
      },
      "text/plain": [
       "  0%|          | 0/1000000 [00:00<?, ?it/s]"
      ]
     },
     "metadata": {},
     "output_type": "display_data"
    },
    {
     "name": "stderr",
     "output_type": "stream",
     "text": [
      "INFO:pgmpy: Datatype (N=numerical, C=Categorical Unordered, O=Categorical Ordered) inferred from data: \n",
      " {'Age': 'N', 'Income': 'N', 'CreditScore': 'N', 'LoanAmount': 'N', 'Gender': 'C', 'Smoker': 'C', 'GenderNumeric': 'N'}\n",
      "INFO:pgmpy: Datatype (N=numerical, C=Categorical Unordered, O=Categorical Ordered) inferred from data: \n",
      " {'Age': 'N', 'Income': 'N', 'CreditScore': 'N', 'LoanAmount': 'N', 'Gender': 'C', 'Smoker': 'C', 'GenderNumeric': 'N'}\n",
      "INFO:pgmpy: Datatype (N=numerical, C=Categorical Unordered, O=Categorical Ordered) inferred from data: \n",
      " {'Age': 'N', 'Income': 'N', 'CreditScore': 'N', 'LoanAmount': 'N', 'Gender': 'C', 'Smoker': 'C', 'GenderNumeric': 'N'}\n",
      "INFO:pgmpy: Datatype (N=numerical, C=Categorical Unordered, O=Categorical Ordered) inferred from data: \n",
      " {'Age': 'N', 'Income': 'N', 'CreditScore': 'N', 'LoanAmount': 'N', 'Gender': 'C', 'Smoker': 'C', 'GenderNumeric': 'N'}\n"
     ]
    },
    {
     "data": {
      "application/vnd.jupyter.widget-view+json": {
       "model_id": "b33d713f8065475d8363b25fe6878678",
       "version_major": 2,
       "version_minor": 0
      },
      "text/plain": [
       "  0%|          | 0/1000000 [00:00<?, ?it/s]"
      ]
     },
     "metadata": {},
     "output_type": "display_data"
    },
    {
     "name": "stderr",
     "output_type": "stream",
     "text": [
      "INFO:pgmpy: Datatype (N=numerical, C=Categorical Unordered, O=Categorical Ordered) inferred from data: \n",
      " {'Age': 'N', 'Income': 'N', 'CreditScore': 'N', 'LoanAmount': 'N', 'Gender': 'C', 'Smoker': 'C', 'GenderNumeric': 'N'}\n",
      "INFO:pgmpy: Datatype (N=numerical, C=Categorical Unordered, O=Categorical Ordered) inferred from data: \n",
      " {'Age': 'N', 'Income': 'N', 'CreditScore': 'N', 'LoanAmount': 'N', 'Gender': 'C', 'Smoker': 'C', 'GenderNumeric': 'N'}\n",
      "INFO:pgmpy: Datatype (N=numerical, C=Categorical Unordered, O=Categorical Ordered) inferred from data: \n",
      " {'Age': 'N', 'Income': 'N', 'CreditScore': 'N', 'LoanAmount': 'N', 'Gender': 'C', 'Smoker': 'C', 'GenderNumeric': 'N'}\n",
      "INFO:pgmpy: Datatype (N=numerical, C=Categorical Unordered, O=Categorical Ordered) inferred from data: \n",
      " {'Age': 'N', 'Income': 'N', 'CreditScore': 'N', 'LoanAmount': 'N', 'Gender': 'C', 'Smoker': 'C', 'GenderNumeric': 'N'}\n"
     ]
    },
    {
     "data": {
      "application/vnd.jupyter.widget-view+json": {
       "model_id": "d35c973ef676462f8107c4b944e829e1",
       "version_major": 2,
       "version_minor": 0
      },
      "text/plain": [
       "  0%|          | 0/1000000 [00:00<?, ?it/s]"
      ]
     },
     "metadata": {},
     "output_type": "display_data"
    },
    {
     "name": "stderr",
     "output_type": "stream",
     "text": [
      "INFO:pgmpy: Datatype (N=numerical, C=Categorical Unordered, O=Categorical Ordered) inferred from data: \n",
      " {'Age': 'N', 'Income': 'N', 'CreditScore': 'N', 'LoanAmount': 'N', 'Gender': 'C', 'Smoker': 'C', 'GenderNumeric': 'N'}\n",
      "INFO:pgmpy: Datatype (N=numerical, C=Categorical Unordered, O=Categorical Ordered) inferred from data: \n",
      " {'Age': 'N', 'Income': 'N', 'CreditScore': 'N', 'LoanAmount': 'N', 'Gender': 'C', 'Smoker': 'C', 'GenderNumeric': 'N'}\n",
      "INFO:pgmpy: Datatype (N=numerical, C=Categorical Unordered, O=Categorical Ordered) inferred from data: \n",
      " {'Age': 'N', 'Income': 'N', 'CreditScore': 'N', 'LoanAmount': 'N', 'Gender': 'C', 'Smoker': 'C', 'GenderNumeric': 'N'}\n",
      "INFO:pgmpy: Datatype (N=numerical, C=Categorical Unordered, O=Categorical Ordered) inferred from data: \n",
      " {'Age': 'N', 'Income': 'N', 'CreditScore': 'N', 'LoanAmount': 'N', 'Gender': 'C', 'Smoker': 'C', 'GenderNumeric': 'N'}\n"
     ]
    },
    {
     "data": {
      "application/vnd.jupyter.widget-view+json": {
       "model_id": "3b9e5893dabb48b5ace9fecafa5d15dd",
       "version_major": 2,
       "version_minor": 0
      },
      "text/plain": [
       "  0%|          | 0/1000000 [00:00<?, ?it/s]"
      ]
     },
     "metadata": {},
     "output_type": "display_data"
    },
    {
     "name": "stderr",
     "output_type": "stream",
     "text": [
      "INFO:pgmpy: Datatype (N=numerical, C=Categorical Unordered, O=Categorical Ordered) inferred from data: \n",
      " {'Age': 'N', 'Income': 'N', 'CreditScore': 'N', 'LoanAmount': 'N', 'Gender': 'C', 'Smoker': 'C', 'GenderNumeric': 'N'}\n",
      "INFO:pgmpy: Datatype (N=numerical, C=Categorical Unordered, O=Categorical Ordered) inferred from data: \n",
      " {'Age': 'N', 'Income': 'N', 'CreditScore': 'N', 'LoanAmount': 'N', 'Gender': 'C', 'Smoker': 'C', 'GenderNumeric': 'N'}\n",
      "INFO:pgmpy: Datatype (N=numerical, C=Categorical Unordered, O=Categorical Ordered) inferred from data: \n",
      " {'Age': 'N', 'Income': 'N', 'CreditScore': 'N', 'LoanAmount': 'N', 'Gender': 'C', 'Smoker': 'C', 'GenderNumeric': 'N'}\n",
      "INFO:pgmpy: Datatype (N=numerical, C=Categorical Unordered, O=Categorical Ordered) inferred from data: \n",
      " {'Age': 'N', 'Income': 'N', 'CreditScore': 'N', 'LoanAmount': 'N', 'Gender': 'C', 'Smoker': 'C', 'GenderNumeric': 'N'}\n"
     ]
    },
    {
     "data": {
      "application/vnd.jupyter.widget-view+json": {
       "model_id": "277fe1e8406340409d0520e52278c377",
       "version_major": 2,
       "version_minor": 0
      },
      "text/plain": [
       "  0%|          | 0/1000000 [00:00<?, ?it/s]"
      ]
     },
     "metadata": {},
     "output_type": "display_data"
    },
    {
     "name": "stderr",
     "output_type": "stream",
     "text": [
      "INFO:pgmpy: Datatype (N=numerical, C=Categorical Unordered, O=Categorical Ordered) inferred from data: \n",
      " {'Age': 'N', 'Income': 'N', 'CreditScore': 'N', 'LoanAmount': 'N', 'Gender': 'C', 'Smoker': 'C', 'GenderNumeric': 'N'}\n",
      "INFO:pgmpy: Datatype (N=numerical, C=Categorical Unordered, O=Categorical Ordered) inferred from data: \n",
      " {'Age': 'N', 'Income': 'N', 'CreditScore': 'N', 'LoanAmount': 'N', 'Gender': 'C', 'Smoker': 'C', 'GenderNumeric': 'N'}\n",
      "INFO:pgmpy: Datatype (N=numerical, C=Categorical Unordered, O=Categorical Ordered) inferred from data: \n",
      " {'Age': 'N', 'Income': 'N', 'CreditScore': 'N', 'LoanAmount': 'N', 'Gender': 'C', 'Smoker': 'C', 'GenderNumeric': 'N'}\n",
      "INFO:pgmpy: Datatype (N=numerical, C=Categorical Unordered, O=Categorical Ordered) inferred from data: \n",
      " {'Age': 'N', 'Income': 'N', 'CreditScore': 'N', 'LoanAmount': 'N', 'Gender': 'C', 'Smoker': 'C', 'GenderNumeric': 'N'}\n"
     ]
    },
    {
     "data": {
      "application/vnd.jupyter.widget-view+json": {
       "model_id": "d116b9f9195240caa9595ca32c89bb96",
       "version_major": 2,
       "version_minor": 0
      },
      "text/plain": [
       "  0%|          | 0/1000000 [00:00<?, ?it/s]"
      ]
     },
     "metadata": {},
     "output_type": "display_data"
    },
    {
     "name": "stderr",
     "output_type": "stream",
     "text": [
      "INFO:pgmpy: Datatype (N=numerical, C=Categorical Unordered, O=Categorical Ordered) inferred from data: \n",
      " {'Age': 'N', 'Income': 'N', 'CreditScore': 'N', 'LoanAmount': 'N', 'Gender': 'C', 'Smoker': 'C', 'GenderNumeric': 'N'}\n",
      "INFO:pgmpy: Datatype (N=numerical, C=Categorical Unordered, O=Categorical Ordered) inferred from data: \n",
      " {'Age': 'N', 'Income': 'N', 'CreditScore': 'N', 'LoanAmount': 'N', 'Gender': 'C', 'Smoker': 'C', 'GenderNumeric': 'N'}\n",
      "INFO:pgmpy: Datatype (N=numerical, C=Categorical Unordered, O=Categorical Ordered) inferred from data: \n",
      " {'Age': 'N', 'Income': 'N', 'CreditScore': 'N', 'LoanAmount': 'N', 'Gender': 'C', 'Smoker': 'C', 'GenderNumeric': 'N'}\n",
      "INFO:pgmpy: Datatype (N=numerical, C=Categorical Unordered, O=Categorical Ordered) inferred from data: \n",
      " {'Age': 'N', 'Income': 'N', 'CreditScore': 'N', 'LoanAmount': 'N', 'Gender': 'C', 'Smoker': 'C', 'GenderNumeric': 'N'}\n"
     ]
    },
    {
     "data": {
      "application/vnd.jupyter.widget-view+json": {
       "model_id": "8f0511bce86544159416f34f5017f8ad",
       "version_major": 2,
       "version_minor": 0
      },
      "text/plain": [
       "  0%|          | 0/1000000 [00:00<?, ?it/s]"
      ]
     },
     "metadata": {},
     "output_type": "display_data"
    },
    {
     "name": "stderr",
     "output_type": "stream",
     "text": [
      "INFO:pgmpy: Datatype (N=numerical, C=Categorical Unordered, O=Categorical Ordered) inferred from data: \n",
      " {'Age': 'N', 'Income': 'N', 'CreditScore': 'N', 'LoanAmount': 'N', 'Gender': 'C', 'Smoker': 'C', 'GenderNumeric': 'N'}\n",
      "INFO:pgmpy: Datatype (N=numerical, C=Categorical Unordered, O=Categorical Ordered) inferred from data: \n",
      " {'Age': 'N', 'Income': 'N', 'CreditScore': 'N', 'LoanAmount': 'N', 'Gender': 'C', 'Smoker': 'C', 'GenderNumeric': 'N'}\n",
      "INFO:pgmpy: Datatype (N=numerical, C=Categorical Unordered, O=Categorical Ordered) inferred from data: \n",
      " {'Age': 'N', 'Income': 'N', 'CreditScore': 'N', 'LoanAmount': 'N', 'Gender': 'C', 'Smoker': 'C', 'GenderNumeric': 'N'}\n",
      "INFO:pgmpy: Datatype (N=numerical, C=Categorical Unordered, O=Categorical Ordered) inferred from data: \n",
      " {'Age': 'N', 'Income': 'N', 'CreditScore': 'N', 'LoanAmount': 'N', 'Gender': 'C', 'Smoker': 'C', 'GenderNumeric': 'N'}\n"
     ]
    },
    {
     "data": {
      "application/vnd.jupyter.widget-view+json": {
       "model_id": "16f4a36b7ea14bb9b328c82407fe2b6b",
       "version_major": 2,
       "version_minor": 0
      },
      "text/plain": [
       "  0%|          | 0/1000000 [00:00<?, ?it/s]"
      ]
     },
     "metadata": {},
     "output_type": "display_data"
    },
    {
     "name": "stderr",
     "output_type": "stream",
     "text": [
      "INFO:pgmpy: Datatype (N=numerical, C=Categorical Unordered, O=Categorical Ordered) inferred from data: \n",
      " {'Age': 'N', 'Income': 'N', 'CreditScore': 'N', 'LoanAmount': 'N', 'Gender': 'C', 'Smoker': 'C', 'GenderNumeric': 'N'}\n",
      "INFO:pgmpy: Datatype (N=numerical, C=Categorical Unordered, O=Categorical Ordered) inferred from data: \n",
      " {'Age': 'N', 'Income': 'N', 'CreditScore': 'N', 'LoanAmount': 'N', 'Gender': 'C', 'Smoker': 'C', 'GenderNumeric': 'N'}\n",
      "INFO:pgmpy: Datatype (N=numerical, C=Categorical Unordered, O=Categorical Ordered) inferred from data: \n",
      " {'Age': 'N', 'Income': 'N', 'CreditScore': 'N', 'LoanAmount': 'N', 'Gender': 'C', 'Smoker': 'C', 'GenderNumeric': 'N'}\n",
      "INFO:pgmpy: Datatype (N=numerical, C=Categorical Unordered, O=Categorical Ordered) inferred from data: \n",
      " {'Age': 'N', 'Income': 'N', 'CreditScore': 'N', 'LoanAmount': 'N', 'Gender': 'C', 'Smoker': 'C', 'GenderNumeric': 'N'}\n"
     ]
    },
    {
     "data": {
      "application/vnd.jupyter.widget-view+json": {
       "model_id": "2db2ffb8d9aa4bdd991e599755ecac4f",
       "version_major": 2,
       "version_minor": 0
      },
      "text/plain": [
       "  0%|          | 0/1000000 [00:00<?, ?it/s]"
      ]
     },
     "metadata": {},
     "output_type": "display_data"
    },
    {
     "name": "stderr",
     "output_type": "stream",
     "text": [
      "INFO:pgmpy: Datatype (N=numerical, C=Categorical Unordered, O=Categorical Ordered) inferred from data: \n",
      " {'Age': 'N', 'Income': 'N', 'CreditScore': 'N', 'LoanAmount': 'N', 'Gender': 'C', 'Smoker': 'C', 'GenderNumeric': 'N'}\n",
      "INFO:pgmpy: Datatype (N=numerical, C=Categorical Unordered, O=Categorical Ordered) inferred from data: \n",
      " {'Age': 'N', 'Income': 'N', 'CreditScore': 'N', 'LoanAmount': 'N', 'Gender': 'C', 'Smoker': 'C', 'GenderNumeric': 'N'}\n",
      "INFO:pgmpy: Datatype (N=numerical, C=Categorical Unordered, O=Categorical Ordered) inferred from data: \n",
      " {'Age': 'N', 'Income': 'N', 'CreditScore': 'N', 'LoanAmount': 'N', 'Gender': 'C', 'Smoker': 'C', 'GenderNumeric': 'N'}\n",
      "INFO:pgmpy: Datatype (N=numerical, C=Categorical Unordered, O=Categorical Ordered) inferred from data: \n",
      " {'Age': 'N', 'Income': 'N', 'CreditScore': 'N', 'LoanAmount': 'N', 'Gender': 'C', 'Smoker': 'C', 'GenderNumeric': 'N'}\n"
     ]
    },
    {
     "data": {
      "application/vnd.jupyter.widget-view+json": {
       "model_id": "34664f57ce7a436e82eb78a3baf40e59",
       "version_major": 2,
       "version_minor": 0
      },
      "text/plain": [
       "  0%|          | 0/1000000 [00:00<?, ?it/s]"
      ]
     },
     "metadata": {},
     "output_type": "display_data"
    },
    {
     "name": "stderr",
     "output_type": "stream",
     "text": [
      "INFO:pgmpy: Datatype (N=numerical, C=Categorical Unordered, O=Categorical Ordered) inferred from data: \n",
      " {'Age': 'N', 'Income': 'N', 'CreditScore': 'N', 'LoanAmount': 'N', 'Gender': 'C', 'Smoker': 'C', 'GenderNumeric': 'N'}\n",
      "INFO:pgmpy: Datatype (N=numerical, C=Categorical Unordered, O=Categorical Ordered) inferred from data: \n",
      " {'Age': 'N', 'Income': 'N', 'CreditScore': 'N', 'LoanAmount': 'N', 'Gender': 'C', 'Smoker': 'C', 'GenderNumeric': 'N'}\n",
      "INFO:pgmpy: Datatype (N=numerical, C=Categorical Unordered, O=Categorical Ordered) inferred from data: \n",
      " {'Age': 'N', 'Income': 'N', 'CreditScore': 'N', 'LoanAmount': 'N', 'Gender': 'C', 'Smoker': 'C', 'GenderNumeric': 'N'}\n",
      "INFO:pgmpy: Datatype (N=numerical, C=Categorical Unordered, O=Categorical Ordered) inferred from data: \n",
      " {'Age': 'N', 'Income': 'N', 'CreditScore': 'N', 'LoanAmount': 'N', 'Gender': 'C', 'Smoker': 'C', 'GenderNumeric': 'N'}\n"
     ]
    },
    {
     "data": {
      "application/vnd.jupyter.widget-view+json": {
       "model_id": "ae0a048e4d364d2e8c01fb5714dbd45f",
       "version_major": 2,
       "version_minor": 0
      },
      "text/plain": [
       "  0%|          | 0/1000000 [00:00<?, ?it/s]"
      ]
     },
     "metadata": {},
     "output_type": "display_data"
    },
    {
     "name": "stderr",
     "output_type": "stream",
     "text": [
      "INFO:pgmpy: Datatype (N=numerical, C=Categorical Unordered, O=Categorical Ordered) inferred from data: \n",
      " {'Age': 'N', 'Income': 'N', 'CreditScore': 'N', 'LoanAmount': 'N', 'Gender': 'C', 'Smoker': 'C', 'GenderNumeric': 'N'}\n",
      "INFO:pgmpy: Datatype (N=numerical, C=Categorical Unordered, O=Categorical Ordered) inferred from data: \n",
      " {'Age': 'N', 'Income': 'N', 'CreditScore': 'N', 'LoanAmount': 'N', 'Gender': 'C', 'Smoker': 'C', 'GenderNumeric': 'N'}\n",
      "INFO:pgmpy: Datatype (N=numerical, C=Categorical Unordered, O=Categorical Ordered) inferred from data: \n",
      " {'Age': 'N', 'Income': 'N', 'CreditScore': 'N', 'LoanAmount': 'N', 'Gender': 'C', 'Smoker': 'C', 'GenderNumeric': 'N'}\n",
      "INFO:pgmpy: Datatype (N=numerical, C=Categorical Unordered, O=Categorical Ordered) inferred from data: \n",
      " {'Age': 'N', 'Income': 'N', 'CreditScore': 'N', 'LoanAmount': 'N', 'Gender': 'C', 'Smoker': 'C', 'GenderNumeric': 'N'}\n"
     ]
    },
    {
     "data": {
      "application/vnd.jupyter.widget-view+json": {
       "model_id": "bade287e6b71464a9819202f19ca09f2",
       "version_major": 2,
       "version_minor": 0
      },
      "text/plain": [
       "  0%|          | 0/1000000 [00:00<?, ?it/s]"
      ]
     },
     "metadata": {},
     "output_type": "display_data"
    },
    {
     "name": "stderr",
     "output_type": "stream",
     "text": [
      "INFO:pgmpy: Datatype (N=numerical, C=Categorical Unordered, O=Categorical Ordered) inferred from data: \n",
      " {'Age': 'N', 'Income': 'N', 'CreditScore': 'N', 'LoanAmount': 'N', 'Gender': 'C', 'Smoker': 'C', 'GenderNumeric': 'N'}\n",
      "INFO:pgmpy: Datatype (N=numerical, C=Categorical Unordered, O=Categorical Ordered) inferred from data: \n",
      " {'Age': 'N', 'Income': 'N', 'CreditScore': 'N', 'LoanAmount': 'N', 'Gender': 'C', 'Smoker': 'C', 'GenderNumeric': 'N'}\n",
      "INFO:pgmpy: Datatype (N=numerical, C=Categorical Unordered, O=Categorical Ordered) inferred from data: \n",
      " {'Age': 'N', 'Income': 'N', 'CreditScore': 'N', 'LoanAmount': 'N', 'Gender': 'C', 'Smoker': 'C', 'GenderNumeric': 'N'}\n",
      "INFO:pgmpy: Datatype (N=numerical, C=Categorical Unordered, O=Categorical Ordered) inferred from data: \n",
      " {'Age': 'N', 'Income': 'N', 'CreditScore': 'N', 'LoanAmount': 'N', 'Gender': 'C', 'Smoker': 'C', 'GenderNumeric': 'N'}\n"
     ]
    },
    {
     "data": {
      "application/vnd.jupyter.widget-view+json": {
       "model_id": "e1f9a8b4c9d5465db0cab1691a25739c",
       "version_major": 2,
       "version_minor": 0
      },
      "text/plain": [
       "  0%|          | 0/1000000 [00:00<?, ?it/s]"
      ]
     },
     "metadata": {},
     "output_type": "display_data"
    },
    {
     "name": "stderr",
     "output_type": "stream",
     "text": [
      "INFO:pgmpy: Datatype (N=numerical, C=Categorical Unordered, O=Categorical Ordered) inferred from data: \n",
      " {'Age': 'N', 'Income': 'N', 'CreditScore': 'N', 'LoanAmount': 'N', 'Gender': 'C', 'Smoker': 'C', 'GenderNumeric': 'N'}\n",
      "INFO:pgmpy: Datatype (N=numerical, C=Categorical Unordered, O=Categorical Ordered) inferred from data: \n",
      " {'Age': 'N', 'Income': 'N', 'CreditScore': 'N', 'LoanAmount': 'N', 'Gender': 'C', 'Smoker': 'C', 'GenderNumeric': 'N'}\n",
      "INFO:pgmpy: Datatype (N=numerical, C=Categorical Unordered, O=Categorical Ordered) inferred from data: \n",
      " {'Age': 'N', 'Income': 'N', 'CreditScore': 'N', 'LoanAmount': 'N', 'Gender': 'C', 'Smoker': 'C', 'GenderNumeric': 'N'}\n",
      "INFO:pgmpy: Datatype (N=numerical, C=Categorical Unordered, O=Categorical Ordered) inferred from data: \n",
      " {'Age': 'N', 'Income': 'N', 'CreditScore': 'N', 'LoanAmount': 'N', 'Gender': 'C', 'Smoker': 'C', 'GenderNumeric': 'N'}\n"
     ]
    },
    {
     "data": {
      "application/vnd.jupyter.widget-view+json": {
       "model_id": "3a2a5c2e5611436990428764d8060e00",
       "version_major": 2,
       "version_minor": 0
      },
      "text/plain": [
       "  0%|          | 0/1000000 [00:00<?, ?it/s]"
      ]
     },
     "metadata": {},
     "output_type": "display_data"
    },
    {
     "name": "stderr",
     "output_type": "stream",
     "text": [
      "INFO:pgmpy: Datatype (N=numerical, C=Categorical Unordered, O=Categorical Ordered) inferred from data: \n",
      " {'Age': 'N', 'Income': 'N', 'CreditScore': 'N', 'LoanAmount': 'N', 'Gender': 'C', 'Smoker': 'C', 'GenderNumeric': 'N'}\n"
     ]
    }
   ],
   "source": [
    "bin_boundaries = pl.bin_continuous_columns(ps, [\"Age\", \"CreditScore\", \"LoanAmount\", \"Income\"], return_edges=True)\n",
    "\n",
    "start_time = time.time()\n",
    "\n",
    "for i in range(100):\n",
    "    model, _ = pl.build_bayesian_network(\n",
    "        ps,\n",
    "        scoring_method='BIC',\n",
    "        n_samples=None,\n",
    "        scale_factor=1,\n",
    "        random_state=i,\n",
    "        bin_boundaries=bin_boundaries\n",
    "    )\n",
    "\n",
    "end_time = time.time()\n",
    "build_bayesian_network_time = (end_time-start_time)\n",
    "times.append(build_bayesian_network_time)\n",
    "var_name.append(\"build_bayesian_network\")"
   ]
  },
  {
   "cell_type": "code",
   "execution_count": 49,
   "id": "d77596a2-7155-45f2-a9a6-8e7e52c64e0b",
   "metadata": {},
   "outputs": [
    {
     "name": "stdout",
     "output_type": "stream",
     "text": [
      "[1.8176279067993164, 3.7319493293762207, 2.85280704498291, 2.0889079570770264, 1.8125267028808594, 159.08427238464355, 6.6503283977508545, 7.8545074462890625, 3.7526330947875977, 7.734652519226074, 9.171698093414307, 93.39946246147156] ['expected_mean', 'variance', 'IQR', 'conditional', 'joint_probability', 'PDF_or_PMF (continuous)', 'PDF_or_PMF (discrete)', 'EDF_or_CDF (discrete)', 'EDF_or_CDF (continuous)', 'independence', 'mutual_information', 'build_bayesian_network']\n"
     ]
    }
   ],
   "source": [
    "print(times, var_name)"
   ]
  },
  {
   "cell_type": "code",
   "execution_count": 63,
   "id": "858bb86f-f450-426b-b406-a0ec5edbdfb2",
   "metadata": {},
   "outputs": [
    {
     "data": {
      "image/png": "[encoded data removed]",
      "text/plain": [
       "<Figure size 640x480 with 1 Axes>"
      ]
     },
     "metadata": {},
     "output_type": "display_data"
    }
   ],
   "source": [
    "df_times = pd.DataFrame({\n",
    "    \"variable\": var_name,\n",
    "    \"times\": times\n",
    "})\n",
    "\n",
    "\n",
    "plt.bar(df_times[\"variable\"], df_times[\"times\"])\n",
    "plt.xlabel(\"Variable\")\n",
    "plt.ylabel(\"Times\")\n",
    "plt.title(\"Bar chart of times per variable (100 iterations)\")\n",
    "plt.xticks(rotation=90) \n",
    "plt.savefig(\"Bar_chart_of_times_per_variable.png\", dpi=300, bbox_inches='tight')\n",
    "plt.show()"
   ]
  },
  {
   "cell_type": "code",
   "execution_count": 65,
   "id": "480978c9-20cb-49c6-a24e-18812e5d5767",
   "metadata": {},
   "outputs": [
    {
     "data": {
      "text/html": [
       "<div>\n",
       "<style scoped>\n",
       "    .dataframe tbody tr th:only-of-type {\n",
       "        vertical-align: middle;\n",
       "    }\n",
       "\n",
       "    .dataframe tbody tr th {\n",
       "        vertical-align: top;\n",
       "    }\n",
       "\n",
       "    .dataframe thead th {\n",
       "        text-align: right;\n",
       "    }\n",
       "</style>\n",
       "<table border=\"1\" class=\"dataframe\">\n",
       "  <thead>\n",
       "    <tr style=\"text-align: right;\">\n",
       "      <th></th>\n",
       "      <th>variable</th>\n",
       "      <th>times</th>\n",
       "    </tr>\n",
       "  </thead>\n",
       "  <tbody>\n",
       "    <tr>\n",
       "      <th>5</th>\n",
       "      <td>PDF_or_PMF (continuous)</td>\n",
       "      <td>159.084272</td>\n",
       "    </tr>\n",
       "    <tr>\n",
       "      <th>11</th>\n",
       "      <td>build_bayesian_network</td>\n",
       "      <td>93.399462</td>\n",
       "    </tr>\n",
       "    <tr>\n",
       "      <th>10</th>\n",
       "      <td>mutual_information</td>\n",
       "      <td>9.171698</td>\n",
       "    </tr>\n",
       "    <tr>\n",
       "      <th>7</th>\n",
       "      <td>EDF_or_CDF (discrete)</td>\n",
       "      <td>7.854507</td>\n",
       "    </tr>\n",
       "    <tr>\n",
       "      <th>9</th>\n",
       "      <td>independence</td>\n",
       "      <td>7.734653</td>\n",
       "    </tr>\n",
       "    <tr>\n",
       "      <th>6</th>\n",
       "      <td>PDF_or_PMF (discrete)</td>\n",
       "      <td>6.650328</td>\n",
       "    </tr>\n",
       "    <tr>\n",
       "      <th>8</th>\n",
       "      <td>EDF_or_CDF (continuous)</td>\n",
       "      <td>3.752633</td>\n",
       "    </tr>\n",
       "    <tr>\n",
       "      <th>1</th>\n",
       "      <td>variance</td>\n",
       "      <td>3.731949</td>\n",
       "    </tr>\n",
       "    <tr>\n",
       "      <th>2</th>\n",
       "      <td>IQR</td>\n",
       "      <td>2.852807</td>\n",
       "    </tr>\n",
       "    <tr>\n",
       "      <th>3</th>\n",
       "      <td>conditional</td>\n",
       "      <td>2.088908</td>\n",
       "    </tr>\n",
       "    <tr>\n",
       "      <th>0</th>\n",
       "      <td>expected_mean</td>\n",
       "      <td>1.817628</td>\n",
       "    </tr>\n",
       "    <tr>\n",
       "      <th>4</th>\n",
       "      <td>joint_probability</td>\n",
       "      <td>1.812527</td>\n",
       "    </tr>\n",
       "  </tbody>\n",
       "</table>\n",
       "</div>"
      ],
      "text/plain": [
       "                   variable       times\n",
       "5   PDF_or_PMF (continuous)  159.084272\n",
       "11   build_bayesian_network   93.399462\n",
       "10       mutual_information    9.171698\n",
       "7     EDF_or_CDF (discrete)    7.854507\n",
       "9              independence    7.734653\n",
       "6     PDF_or_PMF (discrete)    6.650328\n",
       "8   EDF_or_CDF (continuous)    3.752633\n",
       "1                  variance    3.731949\n",
       "2                       IQR    2.852807\n",
       "3               conditional    2.088908\n",
       "0             expected_mean    1.817628\n",
       "4         joint_probability    1.812527"
      ]
     },
     "execution_count": 65,
     "metadata": {},
     "output_type": "execute_result"
    }
   ],
   "source": [
    "df_times = df_times.sort_values(by=\"times\", ascending=False)\n",
    "df_times"
   ]
  },
  {
   "cell_type": "code",
   "execution_count": 9,
   "id": "5bba6947-61d4-4e0f-9d39-562ccba5821e",
   "metadata": {},
   "outputs": [
    {
     "name": "stderr",
     "output_type": "stream",
     "text": [
      "Processing chunks: 4it [00:00, 16.54it/s]"
     ]
    },
    {
     "name": "stdout",
     "output_type": "stream",
     "text": [
      "Chunk weights sum: 0.009888\n",
      "Chunk weights sum: 0.010010\n",
      "Chunk weights sum: 0.009987\n",
      "Chunk weights sum: 0.010081\n"
     ]
    },
    {
     "name": "stderr",
     "output_type": "stream",
     "text": [
      "Processing chunks: 8it [00:00, 17.92it/s]"
     ]
    },
    {
     "name": "stdout",
     "output_type": "stream",
     "text": [
      "Chunk weights sum: 0.010084\n",
      "Chunk weights sum: 0.009946\n",
      "Chunk weights sum: 0.009858\n",
      "Chunk weights sum: 0.010148\n"
     ]
    },
    {
     "name": "stderr",
     "output_type": "stream",
     "text": [
      "Processing chunks: 12it [00:00, 17.73it/s]"
     ]
    },
    {
     "name": "stdout",
     "output_type": "stream",
     "text": [
      "Chunk weights sum: 0.009829\n",
      "Chunk weights sum: 0.010036\n",
      "Chunk weights sum: 0.010038\n",
      "Chunk weights sum: 0.010008\n"
     ]
    },
    {
     "name": "stderr",
     "output_type": "stream",
     "text": [
      "Processing chunks: 15it [00:00, 18.04it/s]"
     ]
    },
    {
     "name": "stdout",
     "output_type": "stream",
     "text": [
      "Chunk weights sum: 0.010004\n",
      "Chunk weights sum: 0.010095\n",
      "Chunk weights sum: 0.009878\n",
      "Chunk weights sum: 0.010016\n"
     ]
    },
    {
     "name": "stderr",
     "output_type": "stream",
     "text": [
      "Processing chunks: 19it [00:01, 17.81it/s]"
     ]
    },
    {
     "name": "stdout",
     "output_type": "stream",
     "text": [
      "Chunk weights sum: 0.010022\n",
      "Chunk weights sum: 0.009943\n",
      "Chunk weights sum: 0.009824\n",
      "Chunk weights sum: 0.010077\n",
      "Chunk weights sum: 0.010004\n"
     ]
    },
    {
     "name": "stderr",
     "output_type": "stream",
     "text": [
      "Processing chunks: 25it [00:01, 19.01it/s]"
     ]
    },
    {
     "name": "stdout",
     "output_type": "stream",
     "text": [
      "Chunk weights sum: 0.010106\n",
      "Chunk weights sum: 0.010130\n",
      "Chunk weights sum: 0.009945\n",
      "Chunk weights sum: 0.009810\n"
     ]
    },
    {
     "name": "stderr",
     "output_type": "stream",
     "text": [
      "Processing chunks: 29it [00:01, 19.05it/s]"
     ]
    },
    {
     "name": "stdout",
     "output_type": "stream",
     "text": [
      "Chunk weights sum: 0.010038\n",
      "Chunk weights sum: 0.009867\n",
      "Chunk weights sum: 0.010104\n",
      "Chunk weights sum: 0.010082\n"
     ]
    },
    {
     "name": "stderr",
     "output_type": "stream",
     "text": [
      "Processing chunks: 34it [00:01, 18.86it/s]"
     ]
    },
    {
     "name": "stdout",
     "output_type": "stream",
     "text": [
      "Chunk weights sum: 0.009888\n",
      "Chunk weights sum: 0.010192\n",
      "Chunk weights sum: 0.009921\n",
      "Chunk weights sum: 0.009914\n",
      "Chunk weights sum: 0.009970\n"
     ]
    },
    {
     "name": "stderr",
     "output_type": "stream",
     "text": [
      "Processing chunks: 38it [00:02, 18.60it/s]"
     ]
    },
    {
     "name": "stdout",
     "output_type": "stream",
     "text": [
      "Chunk weights sum: 0.009959\n",
      "Chunk weights sum: 0.009989\n",
      "Chunk weights sum: 0.010004\n",
      "Chunk weights sum: 0.009852\n"
     ]
    },
    {
     "name": "stderr",
     "output_type": "stream",
     "text": [
      "Processing chunks: 42it [00:02, 18.84it/s]"
     ]
    },
    {
     "name": "stdout",
     "output_type": "stream",
     "text": [
      "Chunk weights sum: 0.010110\n",
      "Chunk weights sum: 0.009961\n",
      "Chunk weights sum: 0.010140\n",
      "Chunk weights sum: 0.010001\n",
      "Chunk weights sum: 0.010140\n"
     ]
    },
    {
     "name": "stderr",
     "output_type": "stream",
     "text": [
      "Processing chunks: 46it [00:02, 19.30it/s]"
     ]
    },
    {
     "name": "stdout",
     "output_type": "stream",
     "text": [
      "Chunk weights sum: 0.010126\n",
      "Chunk weights sum: 0.010027\n",
      "Chunk weights sum: 0.009867\n",
      "Chunk weights sum: 0.009962\n"
     ]
    },
    {
     "name": "stderr",
     "output_type": "stream",
     "text": [
      "Processing chunks: 50it [00:02, 19.28it/s]"
     ]
    },
    {
     "name": "stdout",
     "output_type": "stream",
     "text": [
      "Chunk weights sum: 0.009794\n",
      "Chunk weights sum: 0.010133\n",
      "Chunk weights sum: 0.010034\n",
      "Chunk weights sum: 0.010028\n"
     ]
    },
    {
     "name": "stderr",
     "output_type": "stream",
     "text": [
      "Processing chunks: 54it [00:02, 18.97it/s]"
     ]
    },
    {
     "name": "stdout",
     "output_type": "stream",
     "text": [
      "Chunk weights sum: 0.009899\n",
      "Chunk weights sum: 0.010152\n",
      "Chunk weights sum: 0.010183\n",
      "Chunk weights sum: 0.010028\n"
     ]
    },
    {
     "name": "stderr",
     "output_type": "stream",
     "text": [
      "Processing chunks: 58it [00:03, 18.82it/s]"
     ]
    },
    {
     "name": "stdout",
     "output_type": "stream",
     "text": [
      "Chunk weights sum: 0.009782\n",
      "Chunk weights sum: 0.009988\n",
      "Chunk weights sum: 0.010025\n",
      "Chunk weights sum: 0.010112\n"
     ]
    },
    {
     "name": "stderr",
     "output_type": "stream",
     "text": [
      "Processing chunks: 62it [00:03, 18.83it/s]"
     ]
    },
    {
     "name": "stdout",
     "output_type": "stream",
     "text": [
      "Chunk weights sum: 0.010043\n",
      "Chunk weights sum: 0.010037\n",
      "Chunk weights sum: 0.009900\n",
      "Chunk weights sum: 0.010037\n"
     ]
    },
    {
     "name": "stderr",
     "output_type": "stream",
     "text": [
      "Processing chunks: 66it [00:03, 18.03it/s]"
     ]
    },
    {
     "name": "stdout",
     "output_type": "stream",
     "text": [
      "Chunk weights sum: 0.010003\n",
      "Chunk weights sum: 0.010088\n",
      "Chunk weights sum: 0.010091\n",
      "Chunk weights sum: 0.010043\n"
     ]
    },
    {
     "name": "stderr",
     "output_type": "stream",
     "text": [
      "Processing chunks: 71it [00:03, 19.49it/s]"
     ]
    },
    {
     "name": "stdout",
     "output_type": "stream",
     "text": [
      "Chunk weights sum: 0.010072\n",
      "Chunk weights sum: 0.010015\n",
      "Chunk weights sum: 0.010018\n",
      "Chunk weights sum: 0.010058\n",
      "Chunk weights sum: 0.009961\n"
     ]
    },
    {
     "name": "stderr",
     "output_type": "stream",
     "text": [
      "Processing chunks: 76it [00:04, 20.29it/s]"
     ]
    },
    {
     "name": "stdout",
     "output_type": "stream",
     "text": [
      "Chunk weights sum: 0.010027\n",
      "Chunk weights sum: 0.010083\n",
      "Chunk weights sum: 0.010072\n",
      "Chunk weights sum: 0.009999\n",
      "Chunk weights sum: 0.009986\n"
     ]
    },
    {
     "name": "stderr",
     "output_type": "stream",
     "text": [
      "Processing chunks: 81it [00:04, 19.09it/s]"
     ]
    },
    {
     "name": "stdout",
     "output_type": "stream",
     "text": [
      "Chunk weights sum: 0.009799\n",
      "Chunk weights sum: 0.010106\n",
      "Chunk weights sum: 0.009850\n",
      "Chunk weights sum: 0.009720\n"
     ]
    },
    {
     "name": "stderr",
     "output_type": "stream",
     "text": [
      "Processing chunks: 84it [00:04, 19.53it/s]"
     ]
    },
    {
     "name": "stdout",
     "output_type": "stream",
     "text": [
      "Chunk weights sum: 0.009855\n",
      "Chunk weights sum: 0.009884\n",
      "Chunk weights sum: 0.010078\n",
      "Chunk weights sum: 0.010182\n"
     ]
    },
    {
     "name": "stderr",
     "output_type": "stream",
     "text": [
      "Processing chunks: 88it [00:04, 19.53it/s]"
     ]
    },
    {
     "name": "stdout",
     "output_type": "stream",
     "text": [
      "Chunk weights sum: 0.009798\n",
      "Chunk weights sum: 0.009942\n",
      "Chunk weights sum: 0.010208\n",
      "Chunk weights sum: 0.009939\n",
      "Chunk weights sum: 0.010019\n"
     ]
    },
    {
     "name": "stderr",
     "output_type": "stream",
     "text": [
      "Processing chunks: 94it [00:04, 21.01it/s]"
     ]
    },
    {
     "name": "stdout",
     "output_type": "stream",
     "text": [
      "Chunk weights sum: 0.010048\n",
      "Chunk weights sum: 0.010018\n",
      "Chunk weights sum: 0.009930\n",
      "Chunk weights sum: 0.010015\n",
      "Chunk weights sum: 0.010186\n"
     ]
    },
    {
     "name": "stderr",
     "output_type": "stream",
     "text": [
      "Processing chunks: 100it [00:05, 20.53it/s]"
     ]
    },
    {
     "name": "stdout",
     "output_type": "stream",
     "text": [
      "Chunk weights sum: 0.009904\n",
      "Chunk weights sum: 0.009958\n",
      "Chunk weights sum: 0.009981\n",
      "Chunk weights sum: 0.009870\n",
      "Chunk weights sum: 0.010133\n"
     ]
    },
    {
     "name": "stderr",
     "output_type": "stream",
     "text": [
      "Processing chunks: 100it [00:05, 19.03it/s]\n",
      "Processing chunks: 1it [00:00,  2.74it/s]"
     ]
    },
    {
     "name": "stdout",
     "output_type": "stream",
     "text": [
      "Chunk weights sum: 0.099867\n"
     ]
    },
    {
     "name": "stderr",
     "output_type": "stream",
     "text": [
      "Processing chunks: 2it [00:00,  3.17it/s]"
     ]
    },
    {
     "name": "stdout",
     "output_type": "stream",
     "text": [
      "Chunk weights sum: 0.099905\n"
     ]
    },
    {
     "name": "stderr",
     "output_type": "stream",
     "text": [
      "Processing chunks: 3it [00:00,  3.36it/s]"
     ]
    },
    {
     "name": "stdout",
     "output_type": "stream",
     "text": [
      "Chunk weights sum: 0.099974\n"
     ]
    },
    {
     "name": "stderr",
     "output_type": "stream",
     "text": [
      "Processing chunks: 4it [00:01,  3.34it/s]"
     ]
    },
    {
     "name": "stdout",
     "output_type": "stream",
     "text": [
      "Chunk weights sum: 0.099871\n"
     ]
    },
    {
     "name": "stderr",
     "output_type": "stream",
     "text": [
      "Processing chunks: 5it [00:01,  3.33it/s]"
     ]
    },
    {
     "name": "stdout",
     "output_type": "stream",
     "text": [
      "Chunk weights sum: 0.100226\n"
     ]
    },
    {
     "name": "stderr",
     "output_type": "stream",
     "text": [
      "Processing chunks: 6it [00:01,  3.32it/s]"
     ]
    },
    {
     "name": "stdout",
     "output_type": "stream",
     "text": [
      "Chunk weights sum: 0.100241\n"
     ]
    },
    {
     "name": "stderr",
     "output_type": "stream",
     "text": [
      "Processing chunks: 7it [00:02,  3.34it/s]"
     ]
    },
    {
     "name": "stdout",
     "output_type": "stream",
     "text": [
      "Chunk weights sum: 0.100305\n"
     ]
    },
    {
     "name": "stderr",
     "output_type": "stream",
     "text": [
      "Processing chunks: 8it [00:02,  3.28it/s]"
     ]
    },
    {
     "name": "stdout",
     "output_type": "stream",
     "text": [
      "Chunk weights sum: 0.099942\n"
     ]
    },
    {
     "name": "stderr",
     "output_type": "stream",
     "text": [
      "Processing chunks: 9it [00:02,  3.29it/s]"
     ]
    },
    {
     "name": "stdout",
     "output_type": "stream",
     "text": [
      "Chunk weights sum: 0.099626\n"
     ]
    },
    {
     "name": "stderr",
     "output_type": "stream",
     "text": [
      "Processing chunks: 10it [00:03,  3.29it/s]"
     ]
    },
    {
     "name": "stdout",
     "output_type": "stream",
     "text": [
      "Chunk weights sum: 0.100043\n"
     ]
    },
    {
     "name": "stderr",
     "output_type": "stream",
     "text": [
      "\n",
      "Processing chunks: 1it [00:00,  1.84it/s]"
     ]
    },
    {
     "name": "stdout",
     "output_type": "stream",
     "text": [
      "Chunk weights sum: 0.199772\n"
     ]
    },
    {
     "name": "stderr",
     "output_type": "stream",
     "text": [
      "Processing chunks: 2it [00:01,  1.84it/s]"
     ]
    },
    {
     "name": "stdout",
     "output_type": "stream",
     "text": [
      "Chunk weights sum: 0.199845\n"
     ]
    },
    {
     "name": "stderr",
     "output_type": "stream",
     "text": [
      "Processing chunks: 3it [00:01,  1.84it/s]"
     ]
    },
    {
     "name": "stdout",
     "output_type": "stream",
     "text": [
      "Chunk weights sum: 0.200467\n"
     ]
    },
    {
     "name": "stderr",
     "output_type": "stream",
     "text": [
      "Processing chunks: 4it [00:02,  1.85it/s]"
     ]
    },
    {
     "name": "stdout",
     "output_type": "stream",
     "text": [
      "Chunk weights sum: 0.200247\n"
     ]
    },
    {
     "name": "stderr",
     "output_type": "stream",
     "text": [
      "Processing chunks: 5it [00:02,  1.85it/s]"
     ]
    },
    {
     "name": "stdout",
     "output_type": "stream",
     "text": [
      "Chunk weights sum: 0.199669\n"
     ]
    },
    {
     "name": "stderr",
     "output_type": "stream",
     "text": [
      "\n",
      "Processing chunks: 1it [00:01,  1.27s/it]"
     ]
    },
    {
     "name": "stdout",
     "output_type": "stream",
     "text": [
      "Chunk weights sum: 0.499844\n"
     ]
    },
    {
     "name": "stderr",
     "output_type": "stream",
     "text": [
      "Processing chunks: 2it [00:02,  1.29s/it]"
     ]
    },
    {
     "name": "stdout",
     "output_type": "stream",
     "text": [
      "Chunk weights sum: 0.500156\n"
     ]
    },
    {
     "name": "stderr",
     "output_type": "stream",
     "text": [
      "\n"
     ]
    },
    {
     "data": {
      "image/png": "[encoded data removed]",
      "text/plain": [
       "<Figure size 1200x800 with 4 Axes>"
      ]
     },
     "metadata": {},
     "output_type": "display_data"
    }
   ],
   "source": [
    "pdfs_by_m = {}\n",
    "variable = \"Income\"\n",
    "sd = pl.variance(ps, variable)**0.5\n",
    "iqr = pl.IQR(ps, variable)[\"IQR\"] \n",
    "global_min = ps.df[variable].min()\n",
    "global_max = ps.df[variable].max() \n",
    "\n",
    "chunk_sizes_to_test = [5000, 50000, 100000, 250000]\n",
    "pdfs_by_m = {}\n",
    "\n",
    "# full PDF for comparison\n",
    "full_grid, full_pdf = pl.PDF_or_PMF(ps, variable, var_type=\"continuous\", plot=False)\n",
    "\n",
    "# loop over different chunk sizes\n",
    "for m in chunk_sizes_to_test:\n",
    "    results = pl.process_in_chunks(\n",
    "        \"example.csv\",\n",
    "        m,\n",
    "        pl.PDF_or_PMF,\n",
    "        variable,\n",
    "        var_type=\"continuous\",\n",
    "        sd=sd,\n",
    "        iqr=iqr,\n",
    "        n_samples=500000,\n",
    "        global_min=global_min,\n",
    "        global_max=global_max,\n",
    "        grid_size=500\n",
    "    )\n",
    "    combined_grid, combined_pdf = pl.combine_PDF_or_PMF(results, var_type=\"continuous\", plot=False)\n",
    "    pdfs_by_m[m] = (combined_grid, combined_pdf)\n",
    "\n",
    "# plot in grid\n",
    "fig, axes = plt.subplots(2, 2, figsize=(12, 8), sharey=True)\n",
    "axes = axes.flatten()  # flatten to 1D for easy looping\n",
    "\n",
    "for ax, (m, (grid, pdf)) in zip(axes, pdfs_by_m.items()):\n",
    "    ax.plot(grid, pdf, label=f\"Combined ({m})\")\n",
    "    ax.plot(full_grid, full_pdf, linestyle=\"--\", color=\"red\", label=\"Full PDF\")\n",
    "    \n",
    "    pct = m / 500000 * 100  # percentage relative to 500k\n",
    "    ax.set_title(f\"Chunk size = {pct:.0f}%\")\n",
    "    \n",
    "    ax.set_xlabel(\"Income\")\n",
    "    ax.grid(True)\n",
    "    ax.xaxis.set_major_locator(plt.MaxNLocator(5))\n",
    "    if ax == axes[0]:\n",
    "        ax.set_ylabel(\"Density\")\n",
    "    ax.legend()\n",
    "\n",
    "fig.suptitle(\"Effect of Chunk Size on PDF Accuracy\", fontsize=16, fontweight=\"bold\")\n",
    "plt.tight_layout()\n",
    "plt.savefig(\"PDFs_computed_using_different_chunk_sizes.png\", dpi=300, bbox_inches='tight')\n",
    "plt.show()"
   ]
  }
 ],
 "metadata": {
  "kernelspec": {
   "display_name": "Python 3 (ipykernel)",
   "language": "python",
   "name": "python3"
  },
  "language_info": {
   "codemirror_mode": {
    "name": "ipython",
    "version": 3
   },
   "file_extension": ".py",
   "mimetype": "text/x-python",
   "name": "python",
   "nbconvert_exporter": "python",
   "pygments_lexer": "ipython3",
   "version": "3.12.4"
  }
 },
 "nbformat": 4,
 "nbformat_minor": 5
}
